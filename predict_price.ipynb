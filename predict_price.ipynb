{
 "cells": [
  {
   "cell_type": "markdown",
   "metadata": {},
   "source": [
    "# Predict `sales_price` on `taladrod` Dataset"
   ]
  },
  {
   "cell_type": "code",
   "execution_count": null,
   "metadata": {},
   "outputs": [],
   "source": [
    "# #install pythainlp 2.1\n",
    "# !pip install --upgrade --pre pythainlp"
   ]
  },
  {
   "cell_type": "code",
   "execution_count": 35,
   "metadata": {},
   "outputs": [],
   "source": [
    "import pandas as pd\n",
    "import numpy as np\n",
    "from plotnine import *\n",
    "\n",
    "#widgets\n",
    "from ipywidgets import interact, interactive, fixed, interact_manual\n",
    "import ipywidgets as widgets\n",
    "from IPython.display import display\n",
    "\n",
    "#nlp stuff\n",
    "from pythainlp.ulmfit import pre_rules_th_sparse, post_rules_th_sparse, process_thai\n",
    "from pythainlp.tokenize import word_tokenize\n",
    "\n",
    "#utility\n",
    "import utils\n",
    "import visualize\n",
    "\n",
    "#stop warnings\n",
    "import warnings\n",
    "warnings.filterwarnings('ignore')"
   ]
  },
  {
   "cell_type": "code",
   "execution_count": 17,
   "metadata": {},
   "outputs": [
    {
     "name": "stdout",
     "output_type": "stream",
     "text": [
      "Index(['brand', 'series', 'gen', 'color', 'gear', 'gas', 'description',\n",
      "       'contact_location', 'dow'],\n",
      "      dtype='object')\n",
      "(14037, 21)\n"
     ]
    },
    {
     "data": {
      "text/html": [
       "<div>\n",
       "<style scoped>\n",
       "    .dataframe tbody tr th:only-of-type {\n",
       "        vertical-align: middle;\n",
       "    }\n",
       "\n",
       "    .dataframe tbody tr th {\n",
       "        vertical-align: top;\n",
       "    }\n",
       "\n",
       "    .dataframe thead th {\n",
       "        text-align: right;\n",
       "    }\n",
       "</style>\n",
       "<table border=\"1\" class=\"dataframe\">\n",
       "  <thead>\n",
       "    <tr style=\"text-align: right;\">\n",
       "      <th></th>\n",
       "      <th>brand</th>\n",
       "      <th>series</th>\n",
       "      <th>gen</th>\n",
       "      <th>color</th>\n",
       "      <th>gear</th>\n",
       "      <th>gas</th>\n",
       "      <th>description</th>\n",
       "      <th>contact_location</th>\n",
       "      <th>dow</th>\n",
       "      <th>year</th>\n",
       "      <th>...</th>\n",
       "      <th>original_price</th>\n",
       "      <th>market_price</th>\n",
       "      <th>subscribers</th>\n",
       "      <th>date_diff</th>\n",
       "      <th>year_missing</th>\n",
       "      <th>sales_price_missing</th>\n",
       "      <th>original_price_missing</th>\n",
       "      <th>market_price_missing</th>\n",
       "      <th>subscribers_missing</th>\n",
       "      <th>date_diff_missing</th>\n",
       "    </tr>\n",
       "  </thead>\n",
       "  <tbody>\n",
       "    <tr>\n",
       "      <th>0</th>\n",
       "      <td>BMW</td>\n",
       "      <td>others</td>\n",
       "      <td>others</td>\n",
       "      <td>สีขาว</td>\n",
       "      <td>เกียร์ออโต้</td>\n",
       "      <td>xxna</td>\n",
       "      <td>BMW 320i Modern ปี 2013 รถมือเดียวภายในภายนอกด...</td>\n",
       "      <td>กรุงเทพ</td>\n",
       "      <td>2</td>\n",
       "      <td>2013.0</td>\n",
       "      <td>...</td>\n",
       "      <td>2697000.0</td>\n",
       "      <td>2697000.0</td>\n",
       "      <td>858.0</td>\n",
       "      <td>4.0</td>\n",
       "      <td>0.0</td>\n",
       "      <td>0.0</td>\n",
       "      <td>0.0</td>\n",
       "      <td>0.0</td>\n",
       "      <td>0.0</td>\n",
       "      <td>1.0</td>\n",
       "    </tr>\n",
       "    <tr>\n",
       "      <th>1</th>\n",
       "      <td>TOYOTA</td>\n",
       "      <td>others</td>\n",
       "      <td>others</td>\n",
       "      <td>สีขาว</td>\n",
       "      <td>เกียร์ออโต้</td>\n",
       "      <td>LPG</td>\n",
       "      <td>ฟรีดาวนventury G ออโต้ปี2011รถสวยมากมือเดียวไม...</td>\n",
       "      <td>กรุงเทพ</td>\n",
       "      <td>2</td>\n",
       "      <td>2009.0</td>\n",
       "      <td>...</td>\n",
       "      <td>877000.0</td>\n",
       "      <td>877000.0</td>\n",
       "      <td>137.0</td>\n",
       "      <td>4.0</td>\n",
       "      <td>0.0</td>\n",
       "      <td>0.0</td>\n",
       "      <td>1.0</td>\n",
       "      <td>1.0</td>\n",
       "      <td>0.0</td>\n",
       "      <td>1.0</td>\n",
       "    </tr>\n",
       "    <tr>\n",
       "      <th>2</th>\n",
       "      <td>BENZ</td>\n",
       "      <td>others</td>\n",
       "      <td>others</td>\n",
       "      <td>สีบรอนซ์เงิน</td>\n",
       "      <td>เกียร์ออโต้</td>\n",
       "      <td>xxna</td>\n",
       "      <td>E55 AMG V8 SuperCharge Tune by Zugus 500hp++ 7...</td>\n",
       "      <td>นนทบุรี</td>\n",
       "      <td>2</td>\n",
       "      <td>2004.0</td>\n",
       "      <td>...</td>\n",
       "      <td>877000.0</td>\n",
       "      <td>877000.0</td>\n",
       "      <td>960.0</td>\n",
       "      <td>4.0</td>\n",
       "      <td>0.0</td>\n",
       "      <td>0.0</td>\n",
       "      <td>1.0</td>\n",
       "      <td>1.0</td>\n",
       "      <td>0.0</td>\n",
       "      <td>1.0</td>\n",
       "    </tr>\n",
       "    <tr>\n",
       "      <th>3</th>\n",
       "      <td>others</td>\n",
       "      <td>others</td>\n",
       "      <td>others</td>\n",
       "      <td>สีบรอนซ์เงิน</td>\n",
       "      <td>เกียร์ออโต้</td>\n",
       "      <td>xxna</td>\n",
       "      <td>HYUNDAI GRAND STAREX 2.5 VIP ปี 2011\\n- auto a...</td>\n",
       "      <td>กรุงเทพ</td>\n",
       "      <td>2</td>\n",
       "      <td>2011.0</td>\n",
       "      <td>...</td>\n",
       "      <td>1978000.0</td>\n",
       "      <td>1978000.0</td>\n",
       "      <td>74.0</td>\n",
       "      <td>4.0</td>\n",
       "      <td>0.0</td>\n",
       "      <td>0.0</td>\n",
       "      <td>0.0</td>\n",
       "      <td>0.0</td>\n",
       "      <td>0.0</td>\n",
       "      <td>1.0</td>\n",
       "    </tr>\n",
       "    <tr>\n",
       "      <th>4</th>\n",
       "      <td>others</td>\n",
       "      <td>others</td>\n",
       "      <td>others</td>\n",
       "      <td>สีดำ</td>\n",
       "      <td>เกียร์ออโต้</td>\n",
       "      <td>xxna</td>\n",
       "      <td>ขายLand Rover Discovery 2 ปี 2001 เบนซิน วิ่งด...</td>\n",
       "      <td>กรุงเทพ</td>\n",
       "      <td>2</td>\n",
       "      <td>2001.0</td>\n",
       "      <td>...</td>\n",
       "      <td>877000.0</td>\n",
       "      <td>877000.0</td>\n",
       "      <td>60.0</td>\n",
       "      <td>4.0</td>\n",
       "      <td>0.0</td>\n",
       "      <td>0.0</td>\n",
       "      <td>1.0</td>\n",
       "      <td>1.0</td>\n",
       "      <td>0.0</td>\n",
       "      <td>1.0</td>\n",
       "    </tr>\n",
       "  </tbody>\n",
       "</table>\n",
       "<p>5 rows × 21 columns</p>\n",
       "</div>"
      ],
      "text/plain": [
       "    brand  series     gen         color         gear   gas  \\\n",
       "0     BMW  others  others         สีขาว  เกียร์ออโต้  xxna   \n",
       "1  TOYOTA  others  others         สีขาว  เกียร์ออโต้   LPG   \n",
       "2    BENZ  others  others  สีบรอนซ์เงิน  เกียร์ออโต้  xxna   \n",
       "3  others  others  others  สีบรอนซ์เงิน  เกียร์ออโต้  xxna   \n",
       "4  others  others  others          สีดำ  เกียร์ออโต้  xxna   \n",
       "\n",
       "                                         description contact_location dow  \\\n",
       "0  BMW 320i Modern ปี 2013 รถมือเดียวภายในภายนอกด...          กรุงเทพ   2   \n",
       "1  ฟรีดาวนventury G ออโต้ปี2011รถสวยมากมือเดียวไม...          กรุงเทพ   2   \n",
       "2  E55 AMG V8 SuperCharge Tune by Zugus 500hp++ 7...          นนทบุรี   2   \n",
       "3  HYUNDAI GRAND STAREX 2.5 VIP ปี 2011\\n- auto a...          กรุงเทพ   2   \n",
       "4  ขายLand Rover Discovery 2 ปี 2001 เบนซิน วิ่งด...          กรุงเทพ   2   \n",
       "\n",
       "     year  ...  original_price  market_price  subscribers  date_diff  \\\n",
       "0  2013.0  ...       2697000.0     2697000.0        858.0        4.0   \n",
       "1  2009.0  ...        877000.0      877000.0        137.0        4.0   \n",
       "2  2004.0  ...        877000.0      877000.0        960.0        4.0   \n",
       "3  2011.0  ...       1978000.0     1978000.0         74.0        4.0   \n",
       "4  2001.0  ...        877000.0      877000.0         60.0        4.0   \n",
       "\n",
       "   year_missing  sales_price_missing  original_price_missing  \\\n",
       "0           0.0                  0.0                     0.0   \n",
       "1           0.0                  0.0                     1.0   \n",
       "2           0.0                  0.0                     1.0   \n",
       "3           0.0                  0.0                     0.0   \n",
       "4           0.0                  0.0                     1.0   \n",
       "\n",
       "   market_price_missing  subscribers_missing  date_diff_missing  \n",
       "0                   0.0                  0.0                1.0  \n",
       "1                   1.0                  0.0                1.0  \n",
       "2                   1.0                  0.0                1.0  \n",
       "3                   0.0                  0.0                1.0  \n",
       "4                   1.0                  0.0                1.0  \n",
       "\n",
       "[5 rows x 21 columns]"
      ]
     },
     "execution_count": 17,
     "metadata": {},
     "output_type": "execute_result"
    }
   ],
   "source": [
    "df = pd.read_csv('data/taladrod/taladrod.csv')\n",
    "df = utils.missingify(df)\n",
    "print(df.shape)\n",
    "df.head()"
   ]
  },
  {
   "cell_type": "code",
   "execution_count": 18,
   "metadata": {},
   "outputs": [
    {
     "data": {
      "application/vnd.jupyter.widget-view+json": {
       "model_id": "66867fff0f9641e6a5b6c22e134b8cae",
       "version_major": 2,
       "version_minor": 0
      },
      "text/plain": [
       "interactive(children=(Dropdown(description='idx', options=(0, 1, 2, 3, 4, 5, 6, 7, 8, 9, 10, 11, 12, 13, 14, 1…"
      ]
     },
     "metadata": {},
     "output_type": "display_data"
    },
    {
     "data": {
      "text/plain": [
       "<function __main__.show_desc(idx)>"
      ]
     },
     "execution_count": 18,
     "metadata": {},
     "output_type": "execute_result"
    }
   ],
   "source": [
    "def show_desc(idx): print(df.description[idx])\n",
    "interact(show_desc, idx=widgets.Dropdown(options=list(df.index)))"
   ]
  },
  {
   "cell_type": "code",
   "execution_count": 19,
   "metadata": {},
   "outputs": [
    {
     "data": {
      "application/vnd.jupyter.widget-view+json": {
       "model_id": "27ac2972269849f7af7c1ad784d7bc5e",
       "version_major": 2,
       "version_minor": 0
      },
      "text/plain": [
       "interactive(children=(Dropdown(description='idx', options=(0, 1, 2, 3, 4, 5, 6, 7, 8, 9, 10, 11, 12, 13, 14, 1…"
      ]
     },
     "metadata": {},
     "output_type": "display_data"
    },
    {
     "data": {
      "text/plain": [
       "<function __main__.show_desc(idx)>"
      ]
     },
     "execution_count": 19,
     "metadata": {},
     "output_type": "execute_result"
    }
   ],
   "source": [
    "#clean รหัสอ้างอิง\n",
    "def clean_ref(x): return '\\n'.join(x.split('\\n')[:-1])\n",
    "df['description'] = df.description.map(clean_ref)\n",
    "interact(show_desc, idx=widgets.Dropdown(options=list(df.index)))"
   ]
  },
  {
   "cell_type": "code",
   "execution_count": 8,
   "metadata": {},
   "outputs": [
    {
     "data": {
      "text/plain": [
       "[<function pythainlp.ulmfit.fix_html(x: str) -> str>,\n",
       " <function pythainlp.util.normalize.normalize(text: str) -> str>,\n",
       " <function pythainlp.ulmfit.spec_add_spaces(t: str) -> str>,\n",
       " <function pythainlp.ulmfit.rm_useless_spaces(t: str) -> str>,\n",
       " <function pythainlp.ulmfit.rm_useless_newlines(text: str) -> str>,\n",
       " <function pythainlp.ulmfit.rm_brackets(text: str) -> str>,\n",
       " <function pythainlp.ulmfit.replace_url(x)>,\n",
       " <function pythainlp.ulmfit.replace_rep_nonum(text: str) -> str>]"
      ]
     },
     "execution_count": 8,
     "metadata": {},
     "output_type": "execute_result"
    }
   ],
   "source": [
    "pre_rules_th_sparse"
   ]
  },
  {
   "cell_type": "code",
   "execution_count": 9,
   "metadata": {},
   "outputs": [
    {
     "data": {
      "text/plain": [
       "['เด็ก', 'เดิน', 'ตากลม']"
      ]
     },
     "execution_count": 9,
     "metadata": {},
     "output_type": "execute_result"
    }
   ],
   "source": [
    "word_tokenize('เด็กเดินตากลม')"
   ]
  },
  {
   "cell_type": "code",
   "execution_count": 10,
   "metadata": {},
   "outputs": [
    {
     "data": {
      "text/plain": [
       "[<function pythainlp.ulmfit.ungroup_emoji(toks: Collection)>,\n",
       " <function pythainlp.ulmfit.lowercase_all(toks: Collection)>,\n",
       " <function pythainlp.ulmfit.replace_wrep_post_nonum(toks: Collection)>,\n",
       " <function pythainlp.ulmfit.remove_space(toks: Collection)>]"
      ]
     },
     "execution_count": 10,
     "metadata": {},
     "output_type": "execute_result"
    }
   ],
   "source": [
    "post_rules_th_sparse"
   ]
  },
  {
   "cell_type": "code",
   "execution_count": 14,
   "metadata": {},
   "outputs": [
    {
     "data": {
      "text/plain": [
       "['วันนี้', 'ย', 'xxrep', 'ไป', 'xxwrep', 'กิน', 'hello']"
      ]
     },
     "execution_count": 14,
     "metadata": {},
     "output_type": "execute_result"
    }
   ],
   "source": [
    "t='วันนี้ยยยยยยยยยยยยยไปกินกินกินกินกินกิน HELLO'\n",
    "process_thai(t)"
   ]
  },
  {
   "cell_type": "code",
   "execution_count": 21,
   "metadata": {},
   "outputs": [],
   "source": [
    "#bag of words\n",
    "from sklearn.feature_extraction.text import CountVectorizer, TfidfVectorizer\n",
    "\n",
    "cnt = CountVectorizer(tokenizer=process_thai, ngram_range=(1,2), min_df=3, max_df=0.9)\n",
    "cnt_fit = cnt.fit(df.description)\n",
    "cnt_mat = cnt_fit.transform(df.description)\n",
    "\n",
    "#for exploration\n",
    "cnt_mat_np = cnt_mat.toarray()\n",
    "features = cnt_fit.get_feature_names()"
   ]
  },
  {
   "cell_type": "code",
   "execution_count": 22,
   "metadata": {},
   "outputs": [
    {
     "data": {
      "text/html": [
       "<div>\n",
       "<style scoped>\n",
       "    .dataframe tbody tr th:only-of-type {\n",
       "        vertical-align: middle;\n",
       "    }\n",
       "\n",
       "    .dataframe tbody tr th {\n",
       "        vertical-align: top;\n",
       "    }\n",
       "\n",
       "    .dataframe thead th {\n",
       "        text-align: right;\n",
       "    }\n",
       "</style>\n",
       "<table border=\"1\" class=\"dataframe\">\n",
       "  <thead>\n",
       "    <tr style=\"text-align: right;\">\n",
       "      <th></th>\n",
       "      <th>feature</th>\n",
       "      <th>score</th>\n",
       "      <th>ngram</th>\n",
       "    </tr>\n",
       "  </thead>\n",
       "  <tbody>\n",
       "    <tr>\n",
       "      <th>0</th>\n",
       "      <td>ไม่</td>\n",
       "      <td>3.156871</td>\n",
       "      <td>1</td>\n",
       "    </tr>\n",
       "    <tr>\n",
       "      <th>1</th>\n",
       "      <td>คัน</td>\n",
       "      <td>2.454442</td>\n",
       "      <td>1</td>\n",
       "    </tr>\n",
       "    <tr>\n",
       "      <th>2</th>\n",
       "      <td>นี้</td>\n",
       "      <td>2.266724</td>\n",
       "      <td>1</td>\n",
       "    </tr>\n",
       "    <tr>\n",
       "      <th>3</th>\n",
       "      <td>คัน นี้</td>\n",
       "      <td>2.209162</td>\n",
       "      <td>2</td>\n",
       "    </tr>\n",
       "    <tr>\n",
       "      <th>4</th>\n",
       "      <td>รถ คัน</td>\n",
       "      <td>2.171547</td>\n",
       "      <td>2</td>\n",
       "    </tr>\n",
       "    <tr>\n",
       "      <th>5</th>\n",
       "      <td>ถึง</td>\n",
       "      <td>2.152098</td>\n",
       "      <td>1</td>\n",
       "    </tr>\n",
       "    <tr>\n",
       "      <th>6</th>\n",
       "      <td>ผู้ขาย</td>\n",
       "      <td>2.123531</td>\n",
       "      <td>1</td>\n",
       "    </tr>\n",
       "    <tr>\n",
       "      <th>7</th>\n",
       "      <td>ไม่ ถึง</td>\n",
       "      <td>2.108143</td>\n",
       "      <td>2</td>\n",
       "    </tr>\n",
       "    <tr>\n",
       "      <th>8</th>\n",
       "      <td>ซื้อขาย</td>\n",
       "      <td>2.100378</td>\n",
       "      <td>1</td>\n",
       "    </tr>\n",
       "    <tr>\n",
       "      <th>9</th>\n",
       "      <td>ไม่เคย</td>\n",
       "      <td>1.757356</td>\n",
       "      <td>1</td>\n",
       "    </tr>\n",
       "  </tbody>\n",
       "</table>\n",
       "</div>"
      ],
      "text/plain": [
       "   feature     score  ngram\n",
       "0      ไม่  3.156871      1\n",
       "1      คัน  2.454442      1\n",
       "2      นี้  2.266724      1\n",
       "3  คัน นี้  2.209162      2\n",
       "4   รถ คัน  2.171547      2\n",
       "5      ถึง  2.152098      1\n",
       "6   ผู้ขาย  2.123531      1\n",
       "7  ไม่ ถึง  2.108143      2\n",
       "8  ซื้อขาย  2.100378      1\n",
       "9   ไม่เคย  1.757356      1"
      ]
     },
     "execution_count": 22,
     "metadata": {},
     "output_type": "execute_result"
    }
   ],
   "source": [
    "visualize.top_feats_label(cnt_mat_np,features).head(10)"
   ]
  },
  {
   "cell_type": "code",
   "execution_count": 23,
   "metadata": {},
   "outputs": [],
   "source": [
    "tfidf = TfidfVectorizer(tokenizer=process_thai, ngram_range=(1,2), min_df=3, sublinear_tf=True)\n",
    "tfidf_fit = tfidf.fit(df.description)\n",
    "tfidf_mat = tfidf_fit.transform(df.description)\n",
    "\n",
    "#for exploration\n",
    "tfidf_mat_np = tfidf_mat.toarray()\n",
    "features = tfidf_fit.get_feature_names()"
   ]
  },
  {
   "cell_type": "code",
   "execution_count": 25,
   "metadata": {},
   "outputs": [
    {
     "data": {
      "text/html": [
       "<div>\n",
       "<style scoped>\n",
       "    .dataframe tbody tr th:only-of-type {\n",
       "        vertical-align: middle;\n",
       "    }\n",
       "\n",
       "    .dataframe tbody tr th {\n",
       "        vertical-align: top;\n",
       "    }\n",
       "\n",
       "    .dataframe thead th {\n",
       "        text-align: right;\n",
       "    }\n",
       "</style>\n",
       "<table border=\"1\" class=\"dataframe\">\n",
       "  <thead>\n",
       "    <tr style=\"text-align: right;\">\n",
       "      <th></th>\n",
       "      <th>feature</th>\n",
       "      <th>score</th>\n",
       "      <th>ngram</th>\n",
       "    </tr>\n",
       "  </thead>\n",
       "  <tbody>\n",
       "    <tr>\n",
       "      <th>0</th>\n",
       "      <td>✅</td>\n",
       "      <td>0.008765</td>\n",
       "      <td>1</td>\n",
       "    </tr>\n",
       "    <tr>\n",
       "      <th>1</th>\n",
       "      <td>-</td>\n",
       "      <td>0.006686</td>\n",
       "      <td>1</td>\n",
       "    </tr>\n",
       "    <tr>\n",
       "      <th>2</th>\n",
       "      <td>,</td>\n",
       "      <td>0.006239</td>\n",
       "      <td>1</td>\n",
       "    </tr>\n",
       "    <tr>\n",
       "      <th>3</th>\n",
       "      <td>บ.</td>\n",
       "      <td>0.005199</td>\n",
       "      <td>1</td>\n",
       "    </tr>\n",
       "    <tr>\n",
       "      <th>4</th>\n",
       "      <td>​</td>\n",
       "      <td>0.004909</td>\n",
       "      <td>1</td>\n",
       "    </tr>\n",
       "    <tr>\n",
       "      <th>5</th>\n",
       "      <td>แต่ง</td>\n",
       "      <td>0.003524</td>\n",
       "      <td>1</td>\n",
       "    </tr>\n",
       "    <tr>\n",
       "      <th>6</th>\n",
       "      <td>เพียง</td>\n",
       "      <td>0.003427</td>\n",
       "      <td>1</td>\n",
       "    </tr>\n",
       "    <tr>\n",
       "      <th>7</th>\n",
       "      <td>\\n \\n</td>\n",
       "      <td>0.002930</td>\n",
       "      <td>1</td>\n",
       "    </tr>\n",
       "    <tr>\n",
       "      <th>8</th>\n",
       "      <td>/</td>\n",
       "      <td>0.002334</td>\n",
       "      <td>1</td>\n",
       "    </tr>\n",
       "    <tr>\n",
       "      <th>9</th>\n",
       "      <td>ค่ะ</td>\n",
       "      <td>0.002197</td>\n",
       "      <td>1</td>\n",
       "    </tr>\n",
       "  </tbody>\n",
       "</table>\n",
       "</div>"
      ],
      "text/plain": [
       "  feature     score  ngram\n",
       "0       ✅  0.008765      1\n",
       "1       -  0.006686      1\n",
       "2       ,  0.006239      1\n",
       "3      บ.  0.005199      1\n",
       "4       ​  0.004909      1\n",
       "5    แต่ง  0.003524      1\n",
       "6   เพียง  0.003427      1\n",
       "7   \\n \\n  0.002930      1\n",
       "8       /  0.002334      1\n",
       "9     ค่ะ  0.002197      1"
      ]
     },
     "execution_count": 25,
     "metadata": {},
     "output_type": "execute_result"
    }
   ],
   "source": [
    "visualize.top_feats_label(tfidf_mat_np,features).head(10)"
   ]
  },
  {
   "cell_type": "code",
   "execution_count": 26,
   "metadata": {},
   "outputs": [
    {
     "data": {
      "text/plain": [
       "count    1.403700e+04\n",
       "mean     6.067932e+05\n",
       "std      8.720579e+05\n",
       "min      2.000000e+04\n",
       "25%      2.790000e+05\n",
       "50%      4.130000e+05\n",
       "75%      6.480000e+05\n",
       "max      5.500000e+07\n",
       "Name: sales_price, dtype: float64"
      ]
     },
     "execution_count": 26,
     "metadata": {},
     "output_type": "execute_result"
    }
   ],
   "source": [
    "df.sales_price.describe()"
   ]
  },
  {
   "cell_type": "code",
   "execution_count": 27,
   "metadata": {},
   "outputs": [
    {
     "data": {
      "text/plain": [
       "<matplotlib.axes._subplots.AxesSubplot at 0x13bd957f0>"
      ]
     },
     "execution_count": 27,
     "metadata": {},
     "output_type": "execute_result"
    },
    {
     "data": {
      "image/png": "[encoded data removed]",
      "text/plain": [
       "<Figure size 432x288 with 1 Axes>"
      ]
     },
     "metadata": {
      "needs_background": "light"
     },
     "output_type": "display_data"
    }
   ],
   "source": [
    "df.sales_price.map(np.log).hist()"
   ]
  },
  {
   "cell_type": "code",
   "execution_count": 28,
   "metadata": {},
   "outputs": [
    {
     "data": {
      "text/plain": [
       "0    3566\n",
       "2    3514\n",
       "3    3503\n",
       "1    3454\n",
       "Name: quartile, dtype: int64"
      ]
     },
     "execution_count": 28,
     "metadata": {},
     "output_type": "execute_result"
    }
   ],
   "source": [
    "df['quartile'] = pd.qcut(df['sales_price'], 4, labels=False)\n",
    "df.quartile.value_counts()"
   ]
  },
  {
   "cell_type": "code",
   "execution_count": 29,
   "metadata": {},
   "outputs": [
    {
     "data": {
      "text/html": [
       "<div>\n",
       "<style scoped>\n",
       "    .dataframe tbody tr th:only-of-type {\n",
       "        vertical-align: middle;\n",
       "    }\n",
       "\n",
       "    .dataframe tbody tr th {\n",
       "        vertical-align: top;\n",
       "    }\n",
       "\n",
       "    .dataframe thead th {\n",
       "        text-align: right;\n",
       "    }\n",
       "</style>\n",
       "<table border=\"1\" class=\"dataframe\">\n",
       "  <thead>\n",
       "    <tr style=\"text-align: right;\">\n",
       "      <th></th>\n",
       "      <th>count</th>\n",
       "      <th>mean</th>\n",
       "      <th>std</th>\n",
       "      <th>min</th>\n",
       "      <th>25%</th>\n",
       "      <th>50%</th>\n",
       "      <th>75%</th>\n",
       "      <th>max</th>\n",
       "    </tr>\n",
       "    <tr>\n",
       "      <th>quartile</th>\n",
       "      <th></th>\n",
       "      <th></th>\n",
       "      <th></th>\n",
       "      <th></th>\n",
       "      <th></th>\n",
       "      <th></th>\n",
       "      <th></th>\n",
       "      <th></th>\n",
       "    </tr>\n",
       "  </thead>\n",
       "  <tbody>\n",
       "    <tr>\n",
       "      <th>0</th>\n",
       "      <td>3566.0</td>\n",
       "      <td>1.931573e+05</td>\n",
       "      <td>6.434247e+04</td>\n",
       "      <td>20000.0</td>\n",
       "      <td>148000.0</td>\n",
       "      <td>200000.0</td>\n",
       "      <td>249000.0</td>\n",
       "      <td>279000.0</td>\n",
       "    </tr>\n",
       "    <tr>\n",
       "      <th>1</th>\n",
       "      <td>3454.0</td>\n",
       "      <td>3.482707e+05</td>\n",
       "      <td>3.739802e+04</td>\n",
       "      <td>280000.0</td>\n",
       "      <td>318000.0</td>\n",
       "      <td>349000.0</td>\n",
       "      <td>380000.0</td>\n",
       "      <td>413000.0</td>\n",
       "    </tr>\n",
       "    <tr>\n",
       "      <th>2</th>\n",
       "      <td>3514.0</td>\n",
       "      <td>5.036605e+05</td>\n",
       "      <td>6.382972e+04</td>\n",
       "      <td>414000.0</td>\n",
       "      <td>449000.0</td>\n",
       "      <td>490000.0</td>\n",
       "      <td>550000.0</td>\n",
       "      <td>648000.0</td>\n",
       "    </tr>\n",
       "    <tr>\n",
       "      <th>3</th>\n",
       "      <td>3503.0</td>\n",
       "      <td>1.386231e+06</td>\n",
       "      <td>1.476425e+06</td>\n",
       "      <td>649000.0</td>\n",
       "      <td>759000.0</td>\n",
       "      <td>998000.0</td>\n",
       "      <td>1490000.0</td>\n",
       "      <td>55000000.0</td>\n",
       "    </tr>\n",
       "  </tbody>\n",
       "</table>\n",
       "</div>"
      ],
      "text/plain": [
       "           count          mean           std       min       25%       50%  \\\n",
       "quartile                                                                     \n",
       "0         3566.0  1.931573e+05  6.434247e+04   20000.0  148000.0  200000.0   \n",
       "1         3454.0  3.482707e+05  3.739802e+04  280000.0  318000.0  349000.0   \n",
       "2         3514.0  5.036605e+05  6.382972e+04  414000.0  449000.0  490000.0   \n",
       "3         3503.0  1.386231e+06  1.476425e+06  649000.0  759000.0  998000.0   \n",
       "\n",
       "                75%         max  \n",
       "quartile                         \n",
       "0          249000.0    279000.0  \n",
       "1          380000.0    413000.0  \n",
       "2          550000.0    648000.0  \n",
       "3         1490000.0  55000000.0  "
      ]
     },
     "execution_count": 29,
     "metadata": {},
     "output_type": "execute_result"
    }
   ],
   "source": [
    "df.groupby('quartile').sales_price.describe()"
   ]
  },
  {
   "cell_type": "code",
   "execution_count": 31,
   "metadata": {},
   "outputs": [
    {
     "name": "stdout",
     "output_type": "stream",
     "text": [
      "(38355, 5)\n"
     ]
    },
    {
     "data": {
      "text/html": [
       "<div>\n",
       "<style scoped>\n",
       "    .dataframe tbody tr th:only-of-type {\n",
       "        vertical-align: middle;\n",
       "    }\n",
       "\n",
       "    .dataframe tbody tr th {\n",
       "        vertical-align: top;\n",
       "    }\n",
       "\n",
       "    .dataframe thead th {\n",
       "        text-align: right;\n",
       "    }\n",
       "</style>\n",
       "<table border=\"1\" class=\"dataframe\">\n",
       "  <thead>\n",
       "    <tr style=\"text-align: right;\">\n",
       "      <th></th>\n",
       "      <th>rank</th>\n",
       "      <th>feature</th>\n",
       "      <th>score</th>\n",
       "      <th>ngram</th>\n",
       "      <th>label</th>\n",
       "    </tr>\n",
       "  </thead>\n",
       "  <tbody>\n",
       "    <tr>\n",
       "      <th>0</th>\n",
       "      <td>0</td>\n",
       "      <td>​</td>\n",
       "      <td>0.006657</td>\n",
       "      <td>1</td>\n",
       "      <td>0</td>\n",
       "    </tr>\n",
       "    <tr>\n",
       "      <th>1</th>\n",
       "      <td>1</td>\n",
       "      <td>✅</td>\n",
       "      <td>0.006470</td>\n",
       "      <td>1</td>\n",
       "      <td>0</td>\n",
       "    </tr>\n",
       "    <tr>\n",
       "      <th>2</th>\n",
       "      <td>2</td>\n",
       "      <td>-</td>\n",
       "      <td>0.004688</td>\n",
       "      <td>1</td>\n",
       "      <td>0</td>\n",
       "    </tr>\n",
       "    <tr>\n",
       "      <th>3</th>\n",
       "      <td>3</td>\n",
       "      <td>แต่ง</td>\n",
       "      <td>0.004540</td>\n",
       "      <td>1</td>\n",
       "      <td>0</td>\n",
       "    </tr>\n",
       "    <tr>\n",
       "      <th>4</th>\n",
       "      <td>4</td>\n",
       "      <td>,</td>\n",
       "      <td>0.004378</td>\n",
       "      <td>1</td>\n",
       "      <td>0</td>\n",
       "    </tr>\n",
       "  </tbody>\n",
       "</table>\n",
       "</div>"
      ],
      "text/plain": [
       "   rank feature     score  ngram  label\n",
       "0     0       ​  0.006657      1      0\n",
       "1     1       ✅  0.006470      1      0\n",
       "2     2       -  0.004688      1      0\n",
       "3     3    แต่ง  0.004540      1      0\n",
       "4     4       ,  0.004378      1      0"
      ]
     },
     "execution_count": 31,
     "metadata": {},
     "output_type": "execute_result"
    }
   ],
   "source": [
    "ts = visualize.top_feats_all(tfidf_mat_np, df['quartile'],features)\n",
    "print(ts[0].shape)\n",
    "ts[0].head()"
   ]
  },
  {
   "cell_type": "code",
   "execution_count": 36,
   "metadata": {},
   "outputs": [
    {
     "data": {
      "image/png": "[encoded data removed]",
      "text/plain": [
       "<Figure size 864x648 with 4 Axes>"
      ]
     },
     "metadata": {},
     "output_type": "display_data"
    }
   ],
   "source": [
    "visualize.plot_top_feats(ts)"
   ]
  },
  {
   "cell_type": "code",
   "execution_count": 37,
   "metadata": {},
   "outputs": [],
   "source": [
    "#modeling with everything we know so far\n",
    "df = df[['sales_price', #dependent\n",
    "         'description', #text\n",
    "         'subscribers', #numerical\n",
    "         'contact_location','brand','series','gen','year','color','gear' #categorical\n",
    "        ]]"
   ]
  },
  {
   "cell_type": "code",
   "execution_count": 38,
   "metadata": {},
   "outputs": [
    {
     "data": {
      "text/plain": [
       "((11229, 10), (2808, 10))"
      ]
     },
     "execution_count": 38,
     "metadata": {},
     "output_type": "execute_result"
    }
   ],
   "source": [
    "from sklearn.model_selection import train_test_split\n",
    "train_df, valid_df = train_test_split(df, test_size=0.2, random_state=1412)\n",
    "train_df.shape,valid_df.shape"
   ]
  },
  {
   "cell_type": "code",
   "execution_count": 39,
   "metadata": {},
   "outputs": [
    {
     "data": {
      "text/plain": [
       "((11229,), (2808,))"
      ]
     },
     "execution_count": 39,
     "metadata": {},
     "output_type": "execute_result"
    }
   ],
   "source": [
    "#dependent\n",
    "import numpy as np\n",
    "y_train, y_valid = np.array(train_df.sales_price), np.array(valid_df.sales_price)\n",
    "y_train.shape,y_valid.shape"
   ]
  },
  {
   "cell_type": "code",
   "execution_count": 40,
   "metadata": {},
   "outputs": [
    {
     "data": {
      "text/plain": [
       "((11229, 20300), (2808, 20300))"
      ]
     },
     "execution_count": 40,
     "metadata": {},
     "output_type": "execute_result"
    }
   ],
   "source": [
    "#text\n",
    "tfidf = TfidfVectorizer(tokenizer=process_thai, ngram_range=(1,2), min_df=5, sublinear_tf=True)\n",
    "tfidf_fit = tfidf.fit(train_df.description) #fit with train only\n",
    "features = tfidf_fit.get_feature_names()\n",
    "text_train = tfidf_fit.transform(train_df.description)\n",
    "text_valid = tfidf_fit.transform(valid_df.description)\n",
    "text_train.shape,text_valid.shape"
   ]
  },
  {
   "cell_type": "code",
   "execution_count": 41,
   "metadata": {},
   "outputs": [
    {
     "data": {
      "text/plain": [
       "((11229, 100), (2808, 100))"
      ]
     },
     "execution_count": 41,
     "metadata": {},
     "output_type": "execute_result"
    }
   ],
   "source": [
    "#truncated svd\n",
    "from sklearn.decomposition import TruncatedSVD\n",
    "svd = TruncatedSVD(n_components=100)\n",
    "svd.fit(text_train)\n",
    "trunc_train = svd.transform(text_train)\n",
    "trunc_valid = svd.transform(text_valid)\n",
    "trunc_train.shape, trunc_valid.shape"
   ]
  },
  {
   "cell_type": "code",
   "execution_count": 42,
   "metadata": {},
   "outputs": [
    {
     "data": {
      "text/plain": [
       "((11229, 1), (2808, 1))"
      ]
     },
     "execution_count": 42,
     "metadata": {},
     "output_type": "execute_result"
    }
   ],
   "source": [
    "#numerical\n",
    "from sklearn.preprocessing import StandardScaler\n",
    "med = train_df.subscribers.median()\n",
    "num_train = np.array(train_df.subscribers.fillna(med))[:,None]\n",
    "num_valid = np.array(valid_df.subscribers.fillna(med))[:,None]\n",
    "ss = StandardScaler()\n",
    "ss.fit(num_train)\n",
    "norm_train = ss.transform(num_train)\n",
    "norm_valid = ss.transform(num_valid)\n",
    "norm_train.shape, norm_valid.shape"
   ]
  },
  {
   "cell_type": "code",
   "execution_count": 43,
   "metadata": {},
   "outputs": [
    {
     "data": {
      "text/html": [
       "<div>\n",
       "<style scoped>\n",
       "    .dataframe tbody tr th:only-of-type {\n",
       "        vertical-align: middle;\n",
       "    }\n",
       "\n",
       "    .dataframe tbody tr th {\n",
       "        vertical-align: top;\n",
       "    }\n",
       "\n",
       "    .dataframe thead th {\n",
       "        text-align: right;\n",
       "    }\n",
       "</style>\n",
       "<table border=\"1\" class=\"dataframe\">\n",
       "  <thead>\n",
       "    <tr style=\"text-align: right;\">\n",
       "      <th></th>\n",
       "      <th>col</th>\n",
       "      <th>value</th>\n",
       "      <th>per_mode</th>\n",
       "      <th>nb_value</th>\n",
       "    </tr>\n",
       "  </thead>\n",
       "  <tbody>\n",
       "    <tr>\n",
       "      <th>0</th>\n",
       "      <td>contact_location</td>\n",
       "      <td>กรุงเทพ</td>\n",
       "      <td>0.876042</td>\n",
       "      <td>3</td>\n",
       "    </tr>\n",
       "    <tr>\n",
       "      <th>1</th>\n",
       "      <td>gen</td>\n",
       "      <td>others</td>\n",
       "      <td>0.872052</td>\n",
       "      <td>4</td>\n",
       "    </tr>\n",
       "    <tr>\n",
       "      <th>2</th>\n",
       "      <td>gear</td>\n",
       "      <td>เกียร์ออโต้</td>\n",
       "      <td>0.801952</td>\n",
       "      <td>2</td>\n",
       "    </tr>\n",
       "    <tr>\n",
       "      <th>3</th>\n",
       "      <td>series</td>\n",
       "      <td>others</td>\n",
       "      <td>0.757569</td>\n",
       "      <td>7</td>\n",
       "    </tr>\n",
       "    <tr>\n",
       "      <th>4</th>\n",
       "      <td>brand</td>\n",
       "      <td>TOYOTA</td>\n",
       "      <td>0.301133</td>\n",
       "      <td>11</td>\n",
       "    </tr>\n",
       "    <tr>\n",
       "      <th>5</th>\n",
       "      <td>color</td>\n",
       "      <td>สีขาว</td>\n",
       "      <td>0.299708</td>\n",
       "      <td>6</td>\n",
       "    </tr>\n",
       "    <tr>\n",
       "      <th>6</th>\n",
       "      <td>year</td>\n",
       "      <td>2013</td>\n",
       "      <td>0.123246</td>\n",
       "      <td>40</td>\n",
       "    </tr>\n",
       "  </tbody>\n",
       "</table>\n",
       "</div>"
      ],
      "text/plain": [
       "                col        value  per_mode  nb_value\n",
       "0  contact_location      กรุงเทพ  0.876042         3\n",
       "1               gen       others  0.872052         4\n",
       "2              gear  เกียร์ออโต้  0.801952         2\n",
       "3            series       others  0.757569         7\n",
       "4             brand       TOYOTA  0.301133        11\n",
       "5             color        สีขาว  0.299708         6\n",
       "6              year         2013  0.123246        40"
      ]
     },
     "execution_count": 43,
     "metadata": {},
     "output_type": "execute_result"
    }
   ],
   "source": [
    "#categorical\n",
    "from sklearn.preprocessing import OneHotEncoder\n",
    "cats = ['contact_location','brand','series','gen','year','color','gear']\n",
    "utils.check_mode(df[cats])"
   ]
  },
  {
   "cell_type": "code",
   "execution_count": 44,
   "metadata": {},
   "outputs": [
    {
     "data": {
      "application/vnd.jupyter.widget-view+json": {
       "model_id": "8d02e2c6196148c79ae5bb76f9be1d75",
       "version_major": 2,
       "version_minor": 0
      },
      "text/plain": [
       "interactive(children=(Dropdown(description='col', options=('contact_location', 'brand', 'series', 'gen', 'year…"
      ]
     },
     "metadata": {},
     "output_type": "display_data"
    },
    {
     "data": {
      "text/plain": [
       "<function utils.value_dist(df, col)>"
      ]
     },
     "execution_count": 44,
     "metadata": {},
     "output_type": "execute_result"
    }
   ],
   "source": [
    "interact(utils.value_dist, df=fixed(df[cats]), \n",
    "    col=widgets.Dropdown(options=cats))"
   ]
  },
  {
   "cell_type": "code",
   "execution_count": 45,
   "metadata": {},
   "outputs": [
    {
     "data": {
      "text/plain": [
       "(14037, 34)"
      ]
     },
     "execution_count": 45,
     "metadata": {},
     "output_type": "execute_result"
    }
   ],
   "source": [
    "ohe_df = pd.get_dummies(df[cats])\n",
    "ohe_df.shape"
   ]
  },
  {
   "cell_type": "code",
   "execution_count": 46,
   "metadata": {},
   "outputs": [
    {
     "data": {
      "text/plain": [
       "((11229, 34), (2808, 34))"
      ]
     },
     "execution_count": 46,
     "metadata": {},
     "output_type": "execute_result"
    }
   ],
   "source": [
    "ohe_train, ohe_valid = train_test_split(ohe_df,test_size=0.2,random_state=1412)\n",
    "ohe_train,ohe_valid = np.array(ohe_train),np.array(ohe_valid)\n",
    "ohe_train.shape, ohe_valid.shape"
   ]
  },
  {
   "cell_type": "code",
   "execution_count": 48,
   "metadata": {},
   "outputs": [
    {
     "data": {
      "text/plain": [
       "((11229, 30), (2808, 30))"
      ]
     },
     "execution_count": 48,
     "metadata": {},
     "output_type": "execute_result"
    }
   ],
   "source": [
    "#dimension reduction\n",
    "from sklearn.decomposition import PCA\n",
    "pca = PCA(n_components=30)\n",
    "pca.fit(ohe_train)\n",
    "pca_train, pca_valid = pca.transform(ohe_train), pca.transform(ohe_valid)\n",
    "pca_train.shape, pca_valid.shape"
   ]
  },
  {
   "cell_type": "code",
   "execution_count": 49,
   "metadata": {},
   "outputs": [
    {
     "data": {
      "text/plain": [
       "(2.341266472804676e-16, -0.019508789912934643)"
      ]
     },
     "execution_count": 49,
     "metadata": {},
     "output_type": "execute_result"
    }
   ],
   "source": [
    "pca_train[:,1].mean(), pca_valid[:,1].mean()"
   ]
  },
  {
   "cell_type": "code",
   "execution_count": 50,
   "metadata": {},
   "outputs": [
    {
     "data": {
      "text/plain": [
       "(0.62619694886034, 0.6184469873814257)"
      ]
     },
     "execution_count": 50,
     "metadata": {},
     "output_type": "execute_result"
    }
   ],
   "source": [
    "pca_train[:,1].std(), pca_valid[:,1].std()"
   ]
  },
  {
   "cell_type": "code",
   "execution_count": 51,
   "metadata": {},
   "outputs": [
    {
     "data": {
      "text/plain": [
       "((11229, 131), (2808, 131))"
      ]
     },
     "execution_count": 51,
     "metadata": {},
     "output_type": "execute_result"
    }
   ],
   "source": [
    "#concatenate\n",
    "X_train = np.concatenate([trunc_train,norm_train,pca_train],1)\n",
    "X_valid = np.concatenate([trunc_valid,norm_valid,pca_valid],1)\n",
    "X_train.shape,X_valid.shape"
   ]
  },
  {
   "cell_type": "code",
   "execution_count": 52,
   "metadata": {},
   "outputs": [],
   "source": [
    "from sklearn.ensemble import RandomForestRegressor\n",
    "learn = RandomForestRegressor(n_estimators=100, max_depth=10, max_features=0.8,\n",
    "                              min_samples_leaf=1)"
   ]
  },
  {
   "cell_type": "code",
   "execution_count": 53,
   "metadata": {},
   "outputs": [
    {
     "name": "stdout",
     "output_type": "stream",
     "text": [
      "Predicting only mean: 386987.79069457675\n",
      "Predicting only median: 336537.7492877493\n"
     ]
    }
   ],
   "source": [
    "#baseline\n",
    "def mae(y_true,preds): return abs(preds-y_true).mean()\n",
    "def mape(y_true,preds): return (abs(preds-y_true)/y_true).mean()\n",
    "\n",
    "#mean\n",
    "print(f'Predicting only mean: {mae(y_valid,y_train.mean())}')\n",
    "#median\n",
    "print(f'Predicting only median: {mae(y_valid,np.percentile(y_train,50))}')"
   ]
  },
  {
   "cell_type": "code",
   "execution_count": 54,
   "metadata": {},
   "outputs": [
    {
     "data": {
      "text/plain": [
       "284963.59369348234"
      ]
     },
     "execution_count": 54,
     "metadata": {},
     "output_type": "execute_result"
    }
   ],
   "source": [
    "#with only texts\n",
    "learn.fit(trunc_train,y_train)\n",
    "preds = learn.predict(trunc_valid)\n",
    "mae(y_valid,preds)"
   ]
  },
  {
   "cell_type": "code",
   "execution_count": 55,
   "metadata": {},
   "outputs": [
    {
     "data": {
      "text/plain": [
       "244186.7566507169"
      ]
     },
     "execution_count": 55,
     "metadata": {},
     "output_type": "execute_result"
    }
   ],
   "source": [
    "#with only numericals\n",
    "learn.fit(norm_train,y_train)\n",
    "preds = learn.predict(norm_valid)\n",
    "mae(y_valid,preds)"
   ]
  },
  {
   "cell_type": "code",
   "execution_count": 56,
   "metadata": {},
   "outputs": [
    {
     "data": {
      "text/plain": [
       "244712.34233017813"
      ]
     },
     "execution_count": 56,
     "metadata": {},
     "output_type": "execute_result"
    }
   ],
   "source": [
    "#with only categoricals\n",
    "learn.fit(pca_train,y_train)\n",
    "preds = learn.predict(pca_valid)\n",
    "mae(y_valid,preds)"
   ]
  },
  {
   "cell_type": "code",
   "execution_count": 59,
   "metadata": {},
   "outputs": [
    {
     "data": {
      "text/plain": [
       "(215752.53733769627, 0.5253552107337758)"
      ]
     },
     "execution_count": 59,
     "metadata": {},
     "output_type": "execute_result"
    }
   ],
   "source": [
    "#with everything\n",
    "learn.fit(X_train,y_train)\n",
    "preds = learn.predict(X_valid)\n",
    "mae(y_valid,preds), mape(y_valid,preds)"
   ]
  },
  {
   "cell_type": "code",
   "execution_count": 63,
   "metadata": {},
   "outputs": [
    {
     "data": {
      "text/plain": [
       "709891.2738672019"
      ]
     },
     "execution_count": 63,
     "metadata": {},
     "output_type": "execute_result"
    }
   ],
   "source": [
    "#std of y_valid\n",
    "y_valid.std()"
   ]
  }
 ],
 "metadata": {
  "kernelspec": {
   "display_name": "Python 3",
   "language": "python",
   "name": "python3"
  },
  "language_info": {
   "codemirror_mode": {
    "name": "ipython",
    "version": 3
   },
   "file_extension": ".py",
   "mimetype": "text/x-python",
   "name": "python",
   "nbconvert_exporter": "python",
   "pygments_lexer": "ipython3",
   "version": "3.7.3"
  }
 },
 "nbformat": 4,
 "nbformat_minor": 2
}
