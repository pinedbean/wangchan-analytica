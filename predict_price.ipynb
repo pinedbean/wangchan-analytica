{
 "cells": [
  {
   "cell_type": "markdown",
   "metadata": {},
   "source": [
    "# Predict `sales_price` on `taladrod` Dataset"
   ]
  },
  {
   "cell_type": "code",
   "execution_count": 10,
   "metadata": {},
   "outputs": [],
   "source": [
    "# #install pythainlp 2.1\n",
    "# !pip install --upgrade --pre pythainlp"
   ]
  },
  {
   "cell_type": "code",
   "execution_count": 2,
   "metadata": {},
   "outputs": [],
   "source": [
    "import pandas as pd\n",
    "import numpy as np\n",
    "from plotnine import *\n",
    "import qgrid\n",
    "\n",
    "#widgets\n",
    "from ipywidgets import interact, interactive, fixed, interact_manual\n",
    "import ipywidgets as widgets\n",
    "from IPython.display import display\n",
    "\n",
    "#nlp stuff\n",
    "from pythainlp.ulmfit import pre_rules_th_sparse, post_rules_th_sparse, process_thai\n",
    "from pythainlp.tokenize import word_tokenize\n",
    "\n",
    "#utility\n",
    "import utils\n",
    "import visualize\n",
    "\n",
    "#stop warnings\n",
    "import warnings\n",
    "warnings.filterwarnings('ignore')"
   ]
  },
  {
   "cell_type": "code",
   "execution_count": 42,
   "metadata": {},
   "outputs": [],
   "source": [
    "'''\n",
    "Snippet for plotnine with Thai font by @korakot\n",
    "https://gist.github.com/korakot/01d181229b21411b0a20784e0ca20d3d\n",
    "'''\n",
    "\n",
    "from plotnine import *\n",
    "import matplotlib.font_manager as fm\n",
    "\n",
    "fm.fontManager.ttflist += fm.createFontList(['thsarabunnew-webfont.ttf'])\n",
    "theme_set(theme_gray(11, 'TH Sarabun New'))"
   ]
  },
  {
   "cell_type": "code",
   "execution_count": 3,
   "metadata": {},
   "outputs": [
    {
     "name": "stdout",
     "output_type": "stream",
     "text": [
      "Index(['brand', 'series', 'gen', 'color', 'gear', 'gas', 'description',\n",
      "       'contact_location', 'dow'],\n",
      "      dtype='object')\n",
      "(14037, 21)\n"
     ]
    },
    {
     "data": {
      "application/vnd.jupyter.widget-view+json": {
       "model_id": "d3ec405e7c8e4e32bc8b9748c8d0ae1c",
       "version_major": 2,
       "version_minor": 0
      },
      "text/plain": [
       "QgridWidget(grid_options={'fullWidthRows': True, 'syncColumnCellResize': True, 'forceFitColumns': True, 'defau…"
      ]
     },
     "metadata": {},
     "output_type": "display_data"
    }
   ],
   "source": [
    "df = pd.read_csv('data/taladrod/taladrod.csv')\n",
    "df = utils.missingify(df)\n",
    "print(df.shape)\n",
    "qgrid.show_grid(df)"
   ]
  },
  {
   "cell_type": "code",
   "execution_count": 4,
   "metadata": {},
   "outputs": [],
   "source": [
    "# def show_desc(idx): print(df.description[idx])\n",
    "# interact(show_desc, idx=widgets.Dropdown(options=list(df.index)))"
   ]
  },
  {
   "cell_type": "code",
   "execution_count": 6,
   "metadata": {},
   "outputs": [],
   "source": [
    "#clean รหัสอ้างอิง\n",
    "def clean_ref(x): return '\\n'.join(x.split('\\n')[:-1])\n",
    "df['description'] = df.description.map(clean_ref)\n",
    "# interact(show_desc, idx=widgets.Dropdown(options=list(df.index)))"
   ]
  },
  {
   "cell_type": "code",
   "execution_count": 7,
   "metadata": {},
   "outputs": [
    {
     "data": {
      "text/plain": [
       "[<function pythainlp.ulmfit.fix_html(x:str) -> str>,\n",
       " <function pythainlp.util.normalize.normalize(text:str) -> str>,\n",
       " <function pythainlp.ulmfit.spec_add_spaces(t:str) -> str>,\n",
       " <function pythainlp.ulmfit.rm_useless_spaces(t:str) -> str>,\n",
       " <function pythainlp.ulmfit.rm_useless_newlines(text:str) -> str>,\n",
       " <function pythainlp.ulmfit.rm_brackets(text:str) -> str>,\n",
       " <function pythainlp.ulmfit.replace_url(x)>,\n",
       " <function pythainlp.ulmfit.replace_rep_nonum(text:str) -> str>]"
      ]
     },
     "execution_count": 7,
     "metadata": {},
     "output_type": "execute_result"
    }
   ],
   "source": [
    "pre_rules_th_sparse"
   ]
  },
  {
   "cell_type": "code",
   "execution_count": 8,
   "metadata": {},
   "outputs": [
    {
     "data": {
      "text/plain": [
       "['เด็ก', 'เดิน', 'ตากลม']"
      ]
     },
     "execution_count": 8,
     "metadata": {},
     "output_type": "execute_result"
    }
   ],
   "source": [
    "word_tokenize('เด็กเดินตากลม')"
   ]
  },
  {
   "cell_type": "code",
   "execution_count": 9,
   "metadata": {},
   "outputs": [
    {
     "data": {
      "text/plain": [
       "[<function pythainlp.ulmfit.ungroup_emoji(toks:Collection)>,\n",
       " <function pythainlp.ulmfit.lowercase_all(toks:Collection)>,\n",
       " <function pythainlp.ulmfit.replace_wrep_post_nonum(toks:Collection)>,\n",
       " <function pythainlp.ulmfit.remove_space(toks:Collection)>]"
      ]
     },
     "execution_count": 9,
     "metadata": {},
     "output_type": "execute_result"
    }
   ],
   "source": [
    "post_rules_th_sparse"
   ]
  },
  {
   "cell_type": "code",
   "execution_count": 10,
   "metadata": {},
   "outputs": [
    {
     "data": {
      "text/plain": [
       "['วันนี้', 'ย', 'xxrep', 'ไป', 'xxwrep', 'กิน', 'hello']"
      ]
     },
     "execution_count": 10,
     "metadata": {},
     "output_type": "execute_result"
    }
   ],
   "source": [
    "t='วันนี้ยยยยยยยยยยยยยไปกินกินกินกินกินกิน HELLO'\n",
    "process_thai(t)"
   ]
  },
  {
   "cell_type": "code",
   "execution_count": 11,
   "metadata": {},
   "outputs": [],
   "source": [
    "#bag of words\n",
    "from sklearn.feature_extraction.text import CountVectorizer, TfidfVectorizer\n",
    "\n",
    "cnt = CountVectorizer(tokenizer=process_thai, ngram_range=(1,2), min_df=3, max_df=0.9)\n",
    "cnt_fit = cnt.fit(df.description)\n",
    "cnt_mat = cnt_fit.transform(df.description)\n",
    "\n",
    "#for exploration\n",
    "cnt_mat_np = cnt_mat.toarray()\n",
    "features = cnt_fit.get_feature_names()"
   ]
  },
  {
   "cell_type": "code",
   "execution_count": 12,
   "metadata": {},
   "outputs": [
    {
     "data": {
      "text/html": [
       "<div>\n",
       "<style scoped>\n",
       "    .dataframe tbody tr th:only-of-type {\n",
       "        vertical-align: middle;\n",
       "    }\n",
       "\n",
       "    .dataframe tbody tr th {\n",
       "        vertical-align: top;\n",
       "    }\n",
       "\n",
       "    .dataframe thead th {\n",
       "        text-align: right;\n",
       "    }\n",
       "</style>\n",
       "<table border=\"1\" class=\"dataframe\">\n",
       "  <thead>\n",
       "    <tr style=\"text-align: right;\">\n",
       "      <th></th>\n",
       "      <th>feature</th>\n",
       "      <th>score</th>\n",
       "      <th>ngram</th>\n",
       "    </tr>\n",
       "  </thead>\n",
       "  <tbody>\n",
       "    <tr>\n",
       "      <th>0</th>\n",
       "      <td>\\n</td>\n",
       "      <td>1.380352</td>\n",
       "      <td>1</td>\n",
       "    </tr>\n",
       "    <tr>\n",
       "      <th>1</th>\n",
       "      <td>รถ</td>\n",
       "      <td>1.315808</td>\n",
       "      <td>1</td>\n",
       "    </tr>\n",
       "    <tr>\n",
       "      <th>2</th>\n",
       "      <td>สวย</td>\n",
       "      <td>0.910665</td>\n",
       "      <td>1</td>\n",
       "    </tr>\n",
       "    <tr>\n",
       "      <th>3</th>\n",
       "      <td>ได้</td>\n",
       "      <td>0.564508</td>\n",
       "      <td>1</td>\n",
       "    </tr>\n",
       "    <tr>\n",
       "      <th>4</th>\n",
       "      <td>พร้อม</td>\n",
       "      <td>0.532023</td>\n",
       "      <td>1</td>\n",
       "    </tr>\n",
       "    <tr>\n",
       "      <th>5</th>\n",
       "      <td>ดี</td>\n",
       "      <td>0.524827</td>\n",
       "      <td>1</td>\n",
       "    </tr>\n",
       "    <tr>\n",
       "      <th>6</th>\n",
       "      <td>ปี</td>\n",
       "      <td>0.524329</td>\n",
       "      <td>1</td>\n",
       "    </tr>\n",
       "    <tr>\n",
       "      <th>7</th>\n",
       "      <td>สภาพ</td>\n",
       "      <td>0.523046</td>\n",
       "      <td>1</td>\n",
       "    </tr>\n",
       "    <tr>\n",
       "      <th>8</th>\n",
       "      <td>-</td>\n",
       "      <td>0.501460</td>\n",
       "      <td>1</td>\n",
       "    </tr>\n",
       "    <tr>\n",
       "      <th>9</th>\n",
       "      <td>ๆ</td>\n",
       "      <td>0.416471</td>\n",
       "      <td>1</td>\n",
       "    </tr>\n",
       "  </tbody>\n",
       "</table>\n",
       "</div>"
      ],
      "text/plain": [
       "  feature     score  ngram\n",
       "0      \\n  1.380352      1\n",
       "1      รถ  1.315808      1\n",
       "2     สวย  0.910665      1\n",
       "3     ได้  0.564508      1\n",
       "4   พร้อม  0.532023      1\n",
       "5      ดี  0.524827      1\n",
       "6      ปี  0.524329      1\n",
       "7    สภาพ  0.523046      1\n",
       "8       -  0.501460      1\n",
       "9       ๆ  0.416471      1"
      ]
     },
     "execution_count": 12,
     "metadata": {},
     "output_type": "execute_result"
    }
   ],
   "source": [
    "visualize.top_feats_label(cnt_mat_np,features).head(10)"
   ]
  },
  {
   "cell_type": "code",
   "execution_count": 13,
   "metadata": {},
   "outputs": [],
   "source": [
    "tfidf = TfidfVectorizer(tokenizer=process_thai, ngram_range=(1,2), min_df=3, sublinear_tf=True)\n",
    "tfidf_fit = tfidf.fit(df.description)\n",
    "tfidf_mat = tfidf_fit.transform(df.description)\n",
    "\n",
    "#for exploration\n",
    "tfidf_mat_np = tfidf_mat.toarray()\n",
    "features = tfidf_fit.get_feature_names()"
   ]
  },
  {
   "cell_type": "code",
   "execution_count": 14,
   "metadata": {},
   "outputs": [
    {
     "data": {
      "text/html": [
       "<div>\n",
       "<style scoped>\n",
       "    .dataframe tbody tr th:only-of-type {\n",
       "        vertical-align: middle;\n",
       "    }\n",
       "\n",
       "    .dataframe tbody tr th {\n",
       "        vertical-align: top;\n",
       "    }\n",
       "\n",
       "    .dataframe thead th {\n",
       "        text-align: right;\n",
       "    }\n",
       "</style>\n",
       "<table border=\"1\" class=\"dataframe\">\n",
       "  <thead>\n",
       "    <tr style=\"text-align: right;\">\n",
       "      <th></th>\n",
       "      <th>feature</th>\n",
       "      <th>score</th>\n",
       "      <th>ngram</th>\n",
       "    </tr>\n",
       "  </thead>\n",
       "  <tbody>\n",
       "    <tr>\n",
       "      <th>0</th>\n",
       "      <td>✅</td>\n",
       "      <td>0.008529</td>\n",
       "      <td>1</td>\n",
       "    </tr>\n",
       "    <tr>\n",
       "      <th>1</th>\n",
       "      <td>-</td>\n",
       "      <td>0.007684</td>\n",
       "      <td>1</td>\n",
       "    </tr>\n",
       "    <tr>\n",
       "      <th>2</th>\n",
       "      <td>,</td>\n",
       "      <td>0.006529</td>\n",
       "      <td>1</td>\n",
       "    </tr>\n",
       "    <tr>\n",
       "      <th>3</th>\n",
       "      <td>​</td>\n",
       "      <td>0.005315</td>\n",
       "      <td>1</td>\n",
       "    </tr>\n",
       "    <tr>\n",
       "      <th>4</th>\n",
       "      <td>บ.</td>\n",
       "      <td>0.005182</td>\n",
       "      <td>1</td>\n",
       "    </tr>\n",
       "    <tr>\n",
       "      <th>5</th>\n",
       "      <td>แต่ง</td>\n",
       "      <td>0.004059</td>\n",
       "      <td>1</td>\n",
       "    </tr>\n",
       "    <tr>\n",
       "      <th>6</th>\n",
       "      <td>เพียง</td>\n",
       "      <td>0.003823</td>\n",
       "      <td>1</td>\n",
       "    </tr>\n",
       "    <tr>\n",
       "      <th>7</th>\n",
       "      <td>เอง</td>\n",
       "      <td>0.003083</td>\n",
       "      <td>1</td>\n",
       "    </tr>\n",
       "    <tr>\n",
       "      <th>8</th>\n",
       "      <td>ขาย</td>\n",
       "      <td>0.003081</td>\n",
       "      <td>1</td>\n",
       "    </tr>\n",
       "    <tr>\n",
       "      <th>9</th>\n",
       "      <td>benz</td>\n",
       "      <td>0.002929</td>\n",
       "      <td>1</td>\n",
       "    </tr>\n",
       "  </tbody>\n",
       "</table>\n",
       "</div>"
      ],
      "text/plain": [
       "  feature     score  ngram\n",
       "0       ✅  0.008529      1\n",
       "1       -  0.007684      1\n",
       "2       ,  0.006529      1\n",
       "3       ​  0.005315      1\n",
       "4      บ.  0.005182      1\n",
       "5    แต่ง  0.004059      1\n",
       "6   เพียง  0.003823      1\n",
       "7     เอง  0.003083      1\n",
       "8     ขาย  0.003081      1\n",
       "9    benz  0.002929      1"
      ]
     },
     "execution_count": 14,
     "metadata": {},
     "output_type": "execute_result"
    }
   ],
   "source": [
    "visualize.top_feats_label(tfidf_mat_np,features).head(10)"
   ]
  },
  {
   "cell_type": "code",
   "execution_count": 15,
   "metadata": {},
   "outputs": [
    {
     "data": {
      "text/plain": [
       "count    1.403700e+04\n",
       "mean     6.067932e+05\n",
       "std      8.720579e+05\n",
       "min      2.000000e+04\n",
       "25%      2.790000e+05\n",
       "50%      4.130000e+05\n",
       "75%      6.480000e+05\n",
       "max      5.500000e+07\n",
       "Name: sales_price, dtype: float64"
      ]
     },
     "execution_count": 15,
     "metadata": {},
     "output_type": "execute_result"
    }
   ],
   "source": [
    "df.sales_price.describe()"
   ]
  },
  {
   "cell_type": "code",
   "execution_count": 16,
   "metadata": {},
   "outputs": [
    {
     "data": {
      "text/plain": [
       "<matplotlib.axes._subplots.AxesSubplot at 0x7f366ba9d4a8>"
      ]
     },
     "execution_count": 16,
     "metadata": {},
     "output_type": "execute_result"
    },
    {
     "data": {
      "image/png": "[encoded data removed]",
      "text/plain": [
       "<Figure size 432x288 with 1 Axes>"
      ]
     },
     "metadata": {
      "needs_background": "light"
     },
     "output_type": "display_data"
    }
   ],
   "source": [
    "df.sales_price.map(np.log).hist()"
   ]
  },
  {
   "cell_type": "code",
   "execution_count": 17,
   "metadata": {},
   "outputs": [
    {
     "data": {
      "text/plain": [
       "0    3566\n",
       "2    3514\n",
       "3    3503\n",
       "1    3454\n",
       "Name: quartile, dtype: int64"
      ]
     },
     "execution_count": 17,
     "metadata": {},
     "output_type": "execute_result"
    }
   ],
   "source": [
    "df['quartile'] = pd.qcut(df['sales_price'], 4, labels=False)\n",
    "df.quartile.value_counts()"
   ]
  },
  {
   "cell_type": "code",
   "execution_count": 18,
   "metadata": {},
   "outputs": [
    {
     "data": {
      "text/html": [
       "<div>\n",
       "<style scoped>\n",
       "    .dataframe tbody tr th:only-of-type {\n",
       "        vertical-align: middle;\n",
       "    }\n",
       "\n",
       "    .dataframe tbody tr th {\n",
       "        vertical-align: top;\n",
       "    }\n",
       "\n",
       "    .dataframe thead th {\n",
       "        text-align: right;\n",
       "    }\n",
       "</style>\n",
       "<table border=\"1\" class=\"dataframe\">\n",
       "  <thead>\n",
       "    <tr style=\"text-align: right;\">\n",
       "      <th></th>\n",
       "      <th>count</th>\n",
       "      <th>mean</th>\n",
       "      <th>std</th>\n",
       "      <th>min</th>\n",
       "      <th>25%</th>\n",
       "      <th>50%</th>\n",
       "      <th>75%</th>\n",
       "      <th>max</th>\n",
       "    </tr>\n",
       "    <tr>\n",
       "      <th>quartile</th>\n",
       "      <th></th>\n",
       "      <th></th>\n",
       "      <th></th>\n",
       "      <th></th>\n",
       "      <th></th>\n",
       "      <th></th>\n",
       "      <th></th>\n",
       "      <th></th>\n",
       "    </tr>\n",
       "  </thead>\n",
       "  <tbody>\n",
       "    <tr>\n",
       "      <th>0</th>\n",
       "      <td>3566.0</td>\n",
       "      <td>1.931573e+05</td>\n",
       "      <td>6.434247e+04</td>\n",
       "      <td>20000.0</td>\n",
       "      <td>148000.0</td>\n",
       "      <td>200000.0</td>\n",
       "      <td>249000.0</td>\n",
       "      <td>279000.0</td>\n",
       "    </tr>\n",
       "    <tr>\n",
       "      <th>1</th>\n",
       "      <td>3454.0</td>\n",
       "      <td>3.482707e+05</td>\n",
       "      <td>3.739802e+04</td>\n",
       "      <td>280000.0</td>\n",
       "      <td>318000.0</td>\n",
       "      <td>349000.0</td>\n",
       "      <td>380000.0</td>\n",
       "      <td>413000.0</td>\n",
       "    </tr>\n",
       "    <tr>\n",
       "      <th>2</th>\n",
       "      <td>3514.0</td>\n",
       "      <td>5.036605e+05</td>\n",
       "      <td>6.382972e+04</td>\n",
       "      <td>414000.0</td>\n",
       "      <td>449000.0</td>\n",
       "      <td>490000.0</td>\n",
       "      <td>550000.0</td>\n",
       "      <td>648000.0</td>\n",
       "    </tr>\n",
       "    <tr>\n",
       "      <th>3</th>\n",
       "      <td>3503.0</td>\n",
       "      <td>1.386231e+06</td>\n",
       "      <td>1.476425e+06</td>\n",
       "      <td>649000.0</td>\n",
       "      <td>759000.0</td>\n",
       "      <td>998000.0</td>\n",
       "      <td>1490000.0</td>\n",
       "      <td>55000000.0</td>\n",
       "    </tr>\n",
       "  </tbody>\n",
       "</table>\n",
       "</div>"
      ],
      "text/plain": [
       "           count          mean           std       min       25%       50%  \\\n",
       "quartile                                                                     \n",
       "0         3566.0  1.931573e+05  6.434247e+04   20000.0  148000.0  200000.0   \n",
       "1         3454.0  3.482707e+05  3.739802e+04  280000.0  318000.0  349000.0   \n",
       "2         3514.0  5.036605e+05  6.382972e+04  414000.0  449000.0  490000.0   \n",
       "3         3503.0  1.386231e+06  1.476425e+06  649000.0  759000.0  998000.0   \n",
       "\n",
       "                75%         max  \n",
       "quartile                         \n",
       "0          249000.0    279000.0  \n",
       "1          380000.0    413000.0  \n",
       "2          550000.0    648000.0  \n",
       "3         1490000.0  55000000.0  "
      ]
     },
     "execution_count": 18,
     "metadata": {},
     "output_type": "execute_result"
    }
   ],
   "source": [
    "df.groupby('quartile').sales_price.describe()"
   ]
  },
  {
   "cell_type": "code",
   "execution_count": 19,
   "metadata": {},
   "outputs": [
    {
     "name": "stdout",
     "output_type": "stream",
     "text": [
      "(35451, 5)\n"
     ]
    },
    {
     "data": {
      "text/html": [
       "<div>\n",
       "<style scoped>\n",
       "    .dataframe tbody tr th:only-of-type {\n",
       "        vertical-align: middle;\n",
       "    }\n",
       "\n",
       "    .dataframe tbody tr th {\n",
       "        vertical-align: top;\n",
       "    }\n",
       "\n",
       "    .dataframe thead th {\n",
       "        text-align: right;\n",
       "    }\n",
       "</style>\n",
       "<table border=\"1\" class=\"dataframe\">\n",
       "  <thead>\n",
       "    <tr style=\"text-align: right;\">\n",
       "      <th></th>\n",
       "      <th>rank</th>\n",
       "      <th>feature</th>\n",
       "      <th>score</th>\n",
       "      <th>ngram</th>\n",
       "      <th>label</th>\n",
       "    </tr>\n",
       "  </thead>\n",
       "  <tbody>\n",
       "    <tr>\n",
       "      <th>0</th>\n",
       "      <td>0</td>\n",
       "      <td>​</td>\n",
       "      <td>0.007125</td>\n",
       "      <td>1</td>\n",
       "      <td>0</td>\n",
       "    </tr>\n",
       "    <tr>\n",
       "      <th>1</th>\n",
       "      <td>1</td>\n",
       "      <td>พร้อม ใช้</td>\n",
       "      <td>0.006280</td>\n",
       "      <td>2</td>\n",
       "      <td>0</td>\n",
       "    </tr>\n",
       "    <tr>\n",
       "      <th>2</th>\n",
       "      <td>2</td>\n",
       "      <td>✅</td>\n",
       "      <td>0.006208</td>\n",
       "      <td>1</td>\n",
       "      <td>0</td>\n",
       "    </tr>\n",
       "    <tr>\n",
       "      <th>3</th>\n",
       "      <td>3</td>\n",
       "      <td>ขาย</td>\n",
       "      <td>0.006097</td>\n",
       "      <td>1</td>\n",
       "      <td>0</td>\n",
       "    </tr>\n",
       "    <tr>\n",
       "      <th>4</th>\n",
       "      <td>4</td>\n",
       "      <td>-</td>\n",
       "      <td>0.005231</td>\n",
       "      <td>1</td>\n",
       "      <td>0</td>\n",
       "    </tr>\n",
       "  </tbody>\n",
       "</table>\n",
       "</div>"
      ],
      "text/plain": [
       "   rank    feature     score  ngram  label\n",
       "0     0          ​  0.007125      1      0\n",
       "1     1  พร้อม ใช้  0.006280      2      0\n",
       "2     2          ✅  0.006208      1      0\n",
       "3     3        ขาย  0.006097      1      0\n",
       "4     4          -  0.005231      1      0"
      ]
     },
     "execution_count": 19,
     "metadata": {},
     "output_type": "execute_result"
    }
   ],
   "source": [
    "ts = visualize.top_feats_all(tfidf_mat_np, df['quartile'],features)\n",
    "print(ts[0].shape)\n",
    "ts[0].head()"
   ]
  },
  {
   "cell_type": "code",
   "execution_count": 43,
   "metadata": {},
   "outputs": [
    {
     "data": {
      "image/png": "[encoded data removed]",
      "text/plain": [
       "<Figure size 864x648 with 4 Axes>"
      ]
     },
     "metadata": {},
     "output_type": "display_data"
    }
   ],
   "source": [
    "visualize.plot_top_feats(ts)"
   ]
  },
  {
   "cell_type": "code",
   "execution_count": 21,
   "metadata": {},
   "outputs": [],
   "source": [
    "#modeling with everything we know so far\n",
    "df = df[['sales_price', #dependent\n",
    "         'description', #text\n",
    "         'subscribers', #numerical\n",
    "         'contact_location','brand','series','gen','year','color','gear' #categorical\n",
    "        ]]"
   ]
  },
  {
   "cell_type": "code",
   "execution_count": 22,
   "metadata": {},
   "outputs": [
    {
     "data": {
      "text/plain": [
       "((11229, 10), (2808, 10))"
      ]
     },
     "execution_count": 22,
     "metadata": {},
     "output_type": "execute_result"
    }
   ],
   "source": [
    "from sklearn.model_selection import train_test_split\n",
    "train_df, valid_df = train_test_split(df, test_size=0.2, random_state=1412)\n",
    "train_df.shape,valid_df.shape"
   ]
  },
  {
   "cell_type": "code",
   "execution_count": 23,
   "metadata": {},
   "outputs": [
    {
     "data": {
      "text/plain": [
       "((11229,), (2808,))"
      ]
     },
     "execution_count": 23,
     "metadata": {},
     "output_type": "execute_result"
    }
   ],
   "source": [
    "#dependent\n",
    "import numpy as np\n",
    "y_train, y_valid = np.array(train_df.sales_price), np.array(valid_df.sales_price)\n",
    "y_train.shape,y_valid.shape"
   ]
  },
  {
   "cell_type": "code",
   "execution_count": 24,
   "metadata": {},
   "outputs": [
    {
     "data": {
      "text/plain": [
       "((11229, 18639), (2808, 18639))"
      ]
     },
     "execution_count": 24,
     "metadata": {},
     "output_type": "execute_result"
    }
   ],
   "source": [
    "#text\n",
    "tfidf = TfidfVectorizer(tokenizer=process_thai, ngram_range=(1,2), min_df=5, sublinear_tf=True)\n",
    "tfidf_fit = tfidf.fit(train_df.description) #fit with train only\n",
    "features = tfidf_fit.get_feature_names()\n",
    "text_train = tfidf_fit.transform(train_df.description)\n",
    "text_valid = tfidf_fit.transform(valid_df.description)\n",
    "text_train.shape,text_valid.shape"
   ]
  },
  {
   "cell_type": "code",
   "execution_count": 25,
   "metadata": {},
   "outputs": [
    {
     "data": {
      "text/plain": [
       "((11229, 100), (2808, 100))"
      ]
     },
     "execution_count": 25,
     "metadata": {},
     "output_type": "execute_result"
    }
   ],
   "source": [
    "#truncated svd\n",
    "from sklearn.decomposition import TruncatedSVD\n",
    "svd = TruncatedSVD(n_components=100)\n",
    "svd.fit(text_train)\n",
    "trunc_train = svd.transform(text_train)\n",
    "trunc_valid = svd.transform(text_valid)\n",
    "trunc_train.shape, trunc_valid.shape"
   ]
  },
  {
   "cell_type": "code",
   "execution_count": 26,
   "metadata": {},
   "outputs": [
    {
     "data": {
      "text/plain": [
       "((11229, 1), (2808, 1))"
      ]
     },
     "execution_count": 26,
     "metadata": {},
     "output_type": "execute_result"
    }
   ],
   "source": [
    "#numerical\n",
    "from sklearn.preprocessing import StandardScaler\n",
    "med = train_df.subscribers.median()\n",
    "num_train = np.array(train_df.subscribers.fillna(med))[:,None]\n",
    "num_valid = np.array(valid_df.subscribers.fillna(med))[:,None]\n",
    "ss = StandardScaler()\n",
    "ss.fit(num_train)\n",
    "norm_train = ss.transform(num_train)\n",
    "norm_valid = ss.transform(num_valid)\n",
    "norm_train.shape, norm_valid.shape"
   ]
  },
  {
   "cell_type": "code",
   "execution_count": 27,
   "metadata": {},
   "outputs": [
    {
     "data": {
      "text/html": [
       "<div>\n",
       "<style scoped>\n",
       "    .dataframe tbody tr th:only-of-type {\n",
       "        vertical-align: middle;\n",
       "    }\n",
       "\n",
       "    .dataframe tbody tr th {\n",
       "        vertical-align: top;\n",
       "    }\n",
       "\n",
       "    .dataframe thead th {\n",
       "        text-align: right;\n",
       "    }\n",
       "</style>\n",
       "<table border=\"1\" class=\"dataframe\">\n",
       "  <thead>\n",
       "    <tr style=\"text-align: right;\">\n",
       "      <th></th>\n",
       "      <th>col</th>\n",
       "      <th>value</th>\n",
       "      <th>per_mode</th>\n",
       "      <th>nb_value</th>\n",
       "    </tr>\n",
       "  </thead>\n",
       "  <tbody>\n",
       "    <tr>\n",
       "      <th>0</th>\n",
       "      <td>contact_location</td>\n",
       "      <td>กรุงเทพ</td>\n",
       "      <td>0.876042</td>\n",
       "      <td>3</td>\n",
       "    </tr>\n",
       "    <tr>\n",
       "      <th>1</th>\n",
       "      <td>gen</td>\n",
       "      <td>others</td>\n",
       "      <td>0.872052</td>\n",
       "      <td>4</td>\n",
       "    </tr>\n",
       "    <tr>\n",
       "      <th>2</th>\n",
       "      <td>gear</td>\n",
       "      <td>เกียร์ออโต้</td>\n",
       "      <td>0.801952</td>\n",
       "      <td>2</td>\n",
       "    </tr>\n",
       "    <tr>\n",
       "      <th>3</th>\n",
       "      <td>series</td>\n",
       "      <td>others</td>\n",
       "      <td>0.757569</td>\n",
       "      <td>7</td>\n",
       "    </tr>\n",
       "    <tr>\n",
       "      <th>4</th>\n",
       "      <td>brand</td>\n",
       "      <td>TOYOTA</td>\n",
       "      <td>0.301133</td>\n",
       "      <td>11</td>\n",
       "    </tr>\n",
       "    <tr>\n",
       "      <th>5</th>\n",
       "      <td>color</td>\n",
       "      <td>สีขาว</td>\n",
       "      <td>0.299708</td>\n",
       "      <td>6</td>\n",
       "    </tr>\n",
       "    <tr>\n",
       "      <th>6</th>\n",
       "      <td>year</td>\n",
       "      <td>2013</td>\n",
       "      <td>0.123246</td>\n",
       "      <td>40</td>\n",
       "    </tr>\n",
       "  </tbody>\n",
       "</table>\n",
       "</div>"
      ],
      "text/plain": [
       "                col        value  per_mode  nb_value\n",
       "0  contact_location      กรุงเทพ  0.876042         3\n",
       "1               gen       others  0.872052         4\n",
       "2              gear  เกียร์ออโต้  0.801952         2\n",
       "3            series       others  0.757569         7\n",
       "4             brand       TOYOTA  0.301133        11\n",
       "5             color        สีขาว  0.299708         6\n",
       "6              year         2013  0.123246        40"
      ]
     },
     "execution_count": 27,
     "metadata": {},
     "output_type": "execute_result"
    }
   ],
   "source": [
    "#categorical\n",
    "from sklearn.preprocessing import OneHotEncoder\n",
    "cats = ['contact_location','brand','series','gen','year','color','gear']\n",
    "utils.check_mode(df[cats])"
   ]
  },
  {
   "cell_type": "code",
   "execution_count": 28,
   "metadata": {},
   "outputs": [
    {
     "data": {
      "application/vnd.jupyter.widget-view+json": {
       "model_id": "2a9d3060425f4c43bd2a51580e5176ca",
       "version_major": 2,
       "version_minor": 0
      },
      "text/plain": [
       "interactive(children=(Dropdown(description='col', options=('contact_location', 'brand', 'series', 'gen', 'year…"
      ]
     },
     "metadata": {},
     "output_type": "display_data"
    },
    {
     "data": {
      "text/plain": [
       "<function utils.value_dist(df, col)>"
      ]
     },
     "execution_count": 28,
     "metadata": {},
     "output_type": "execute_result"
    }
   ],
   "source": [
    "interact(utils.value_dist, df=fixed(df[cats]), \n",
    "    col=widgets.Dropdown(options=cats))"
   ]
  },
  {
   "cell_type": "code",
   "execution_count": 29,
   "metadata": {},
   "outputs": [
    {
     "data": {
      "text/plain": [
       "(14037, 34)"
      ]
     },
     "execution_count": 29,
     "metadata": {},
     "output_type": "execute_result"
    }
   ],
   "source": [
    "ohe_df = pd.get_dummies(df[cats])\n",
    "ohe_df.shape"
   ]
  },
  {
   "cell_type": "code",
   "execution_count": 30,
   "metadata": {},
   "outputs": [
    {
     "data": {
      "text/plain": [
       "((11229, 34), (2808, 34))"
      ]
     },
     "execution_count": 30,
     "metadata": {},
     "output_type": "execute_result"
    }
   ],
   "source": [
    "ohe_train, ohe_valid = train_test_split(ohe_df,test_size=0.2,random_state=1412)\n",
    "ohe_train,ohe_valid = np.array(ohe_train),np.array(ohe_valid)\n",
    "ohe_train.shape, ohe_valid.shape"
   ]
  },
  {
   "cell_type": "code",
   "execution_count": 31,
   "metadata": {},
   "outputs": [
    {
     "data": {
      "text/plain": [
       "((11229, 30), (2808, 30))"
      ]
     },
     "execution_count": 31,
     "metadata": {},
     "output_type": "execute_result"
    }
   ],
   "source": [
    "#dimension reduction\n",
    "from sklearn.decomposition import PCA\n",
    "pca = PCA(n_components=30)\n",
    "pca.fit(ohe_train)\n",
    "pca_train, pca_valid = pca.transform(ohe_train), pca.transform(ohe_valid)\n",
    "pca_train.shape, pca_valid.shape"
   ]
  },
  {
   "cell_type": "code",
   "execution_count": 32,
   "metadata": {},
   "outputs": [
    {
     "data": {
      "text/plain": [
       "(2.644998339546904e-16, -0.0195087899129346)"
      ]
     },
     "execution_count": 32,
     "metadata": {},
     "output_type": "execute_result"
    }
   ],
   "source": [
    "pca_train[:,1].mean(), pca_valid[:,1].mean()"
   ]
  },
  {
   "cell_type": "code",
   "execution_count": 33,
   "metadata": {},
   "outputs": [
    {
     "data": {
      "text/plain": [
       "(0.6261969488603405, 0.618446987381426)"
      ]
     },
     "execution_count": 33,
     "metadata": {},
     "output_type": "execute_result"
    }
   ],
   "source": [
    "pca_train[:,1].std(), pca_valid[:,1].std()"
   ]
  },
  {
   "cell_type": "code",
   "execution_count": 34,
   "metadata": {},
   "outputs": [
    {
     "data": {
      "text/plain": [
       "((11229, 131), (2808, 131))"
      ]
     },
     "execution_count": 34,
     "metadata": {},
     "output_type": "execute_result"
    }
   ],
   "source": [
    "#concatenate\n",
    "X_train = np.concatenate([trunc_train,norm_train,pca_train],1)\n",
    "X_valid = np.concatenate([trunc_valid,norm_valid,pca_valid],1)\n",
    "X_train.shape,X_valid.shape"
   ]
  },
  {
   "cell_type": "code",
   "execution_count": 35,
   "metadata": {},
   "outputs": [],
   "source": [
    "from sklearn.ensemble import RandomForestRegressor\n",
    "learn = RandomForestRegressor(n_estimators=100, max_depth=10, max_features=0.8,\n",
    "                              min_samples_leaf=1)"
   ]
  },
  {
   "cell_type": "code",
   "execution_count": 36,
   "metadata": {},
   "outputs": [
    {
     "name": "stdout",
     "output_type": "stream",
     "text": [
      "Predicting only mean: 386987.79069457675\n",
      "Predicting only median: 336537.7492877493\n"
     ]
    }
   ],
   "source": [
    "#baseline\n",
    "def mae(y_true,preds): return abs(preds-y_true).mean()\n",
    "def mape(y_true,preds): return (abs(preds-y_true)/y_true).mean()\n",
    "\n",
    "#mean\n",
    "print(f'Predicting only mean: {mae(y_valid,y_train.mean())}')\n",
    "#median\n",
    "print(f'Predicting only median: {mae(y_valid,np.percentile(y_train,50))}')"
   ]
  },
  {
   "cell_type": "code",
   "execution_count": 37,
   "metadata": {},
   "outputs": [
    {
     "data": {
      "text/plain": [
       "294198.6266079069"
      ]
     },
     "execution_count": 37,
     "metadata": {},
     "output_type": "execute_result"
    }
   ],
   "source": [
    "#with only texts\n",
    "learn.fit(trunc_train,y_train)\n",
    "preds = learn.predict(trunc_valid)\n",
    "mae(y_valid,preds)"
   ]
  },
  {
   "cell_type": "code",
   "execution_count": 38,
   "metadata": {},
   "outputs": [
    {
     "data": {
      "text/plain": [
       "248395.27454023802"
      ]
     },
     "execution_count": 38,
     "metadata": {},
     "output_type": "execute_result"
    }
   ],
   "source": [
    "#with only numericals\n",
    "learn.fit(norm_train,y_train)\n",
    "preds = learn.predict(norm_valid)\n",
    "mae(y_valid,preds)"
   ]
  },
  {
   "cell_type": "code",
   "execution_count": 39,
   "metadata": {},
   "outputs": [
    {
     "data": {
      "text/plain": [
       "249454.95704716572"
      ]
     },
     "execution_count": 39,
     "metadata": {},
     "output_type": "execute_result"
    }
   ],
   "source": [
    "#with only categoricals\n",
    "learn.fit(pca_train,y_train)\n",
    "preds = learn.predict(pca_valid)\n",
    "mae(y_valid,preds)"
   ]
  },
  {
   "cell_type": "code",
   "execution_count": 40,
   "metadata": {},
   "outputs": [
    {
     "data": {
      "text/plain": [
       "(216791.7749463841, 0.515483894019414)"
      ]
     },
     "execution_count": 40,
     "metadata": {},
     "output_type": "execute_result"
    }
   ],
   "source": [
    "#with everything\n",
    "learn.fit(X_train,y_train)\n",
    "preds = learn.predict(X_valid)\n",
    "mae(y_valid,preds), mape(y_valid,preds)"
   ]
  },
  {
   "cell_type": "code",
   "execution_count": 41,
   "metadata": {},
   "outputs": [
    {
     "data": {
      "text/plain": [
       "709891.2738672019"
      ]
     },
     "execution_count": 41,
     "metadata": {},
     "output_type": "execute_result"
    }
   ],
   "source": [
    "#std of y_valid\n",
    "y_valid.std()"
   ]
  }
 ],
 "metadata": {
  "kernelspec": {
   "display_name": "Python 3",
   "language": "python",
   "name": "python3"
  },
  "language_info": {
   "codemirror_mode": {
    "name": "ipython",
    "version": 3
   },
   "file_extension": ".py",
   "mimetype": "text/x-python",
   "name": "python",
   "nbconvert_exporter": "python",
   "pygments_lexer": "ipython3",
   "version": "3.6.8"
  }
 },
 "nbformat": 4,
 "nbformat_minor": 2
}