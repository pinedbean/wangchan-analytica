{
 "cells": [
  {
   "cell_type": "markdown",
   "metadata": {},
   "source": [
    "# Data Cleaning and Validation with `taladrod` Dataset"
   ]
  },
  {
   "cell_type": "code",
   "execution_count": 1,
   "metadata": {},
   "outputs": [],
   "source": [
    "#reload scripts when we edit them\n",
    "%load_ext autoreload\n",
    "%autoreload 2\n",
    "\n",
    "#data frame\n",
    "import pandas as pd\n",
    "#numerical\n",
    "import numpy as np\n",
    "\n",
    "#widgets\n",
    "from ipywidgets import interact, interactive, fixed, interact_manual\n",
    "import ipywidgets as widgets\n",
    "from IPython.display import display\n",
    "\n",
    "#utility script\n",
    "import utils"
   ]
  },
  {
   "cell_type": "markdown",
   "metadata": {},
   "source": [
    "## Load and Look"
   ]
  },
  {
   "cell_type": "code",
   "execution_count": 2,
   "metadata": {},
   "outputs": [
    {
     "data": {
      "text/plain": [
       "(20037, 17)"
      ]
     },
     "execution_count": 2,
     "metadata": {},
     "output_type": "execute_result"
    }
   ],
   "source": [
    "#load the table\n",
    "df = pd.read_csv('data/taladrod/taladrod_dirty.csv')\n",
    "df.shape"
   ]
  },
  {
   "cell_type": "code",
   "execution_count": 3,
   "metadata": {},
   "outputs": [
    {
     "data": {
      "text/plain": [
       "Index(['id', 'brand', 'series', 'model', 'gen', 'year', 'color', 'gear', 'gas',\n",
       "       'sales_price', 'original_price', 'market_price', 'description',\n",
       "       'contact_location', 'subscribers', 'scraped_date', 'removed_date'],\n",
       "      dtype='object')"
      ]
     },
     "execution_count": 3,
     "metadata": {},
     "output_type": "execute_result"
    }
   ],
   "source": [
    "#what are the columns\n",
    "df.columns"
   ]
  },
  {
   "cell_type": "code",
   "execution_count": 4,
   "metadata": {},
   "outputs": [
    {
     "data": {
      "text/plain": [
       "0              F30\n",
       "1    ปี05-ปัจจุบัน\n",
       "2             W211\n",
       "3        ปี10-2018\n",
       "4        DISCOVERY\n",
       "Name: gen, dtype: object"
      ]
     },
     "execution_count": 4,
     "metadata": {},
     "output_type": "execute_result"
    }
   ],
   "source": [
    "#referring to column way 1\n",
    "df['gen'].head()"
   ]
  },
  {
   "cell_type": "code",
   "execution_count": 5,
   "metadata": {},
   "outputs": [
    {
     "data": {
      "text/plain": [
       "0              F30\n",
       "1    ปี05-ปัจจุบัน\n",
       "2             W211\n",
       "3        ปี10-2018\n",
       "4        DISCOVERY\n",
       "Name: gen, dtype: object"
      ]
     },
     "execution_count": 5,
     "metadata": {},
     "output_type": "execute_result"
    }
   ],
   "source": [
    "#referring to column way 2\n",
    "df.gen.head()"
   ]
  },
  {
   "cell_type": "code",
   "execution_count": 6,
   "metadata": {},
   "outputs": [
    {
     "data": {
      "text/html": [
       "<div>\n",
       "<style scoped>\n",
       "    .dataframe tbody tr th:only-of-type {\n",
       "        vertical-align: middle;\n",
       "    }\n",
       "\n",
       "    .dataframe tbody tr th {\n",
       "        vertical-align: top;\n",
       "    }\n",
       "\n",
       "    .dataframe thead th {\n",
       "        text-align: right;\n",
       "    }\n",
       "</style>\n",
       "<table border=\"1\" class=\"dataframe\">\n",
       "  <thead>\n",
       "    <tr style=\"text-align: right;\">\n",
       "      <th></th>\n",
       "      <th>id</th>\n",
       "      <th>brand</th>\n",
       "      <th>series</th>\n",
       "      <th>model</th>\n",
       "      <th>gen</th>\n",
       "      <th>year</th>\n",
       "      <th>color</th>\n",
       "      <th>gear</th>\n",
       "      <th>gas</th>\n",
       "      <th>sales_price</th>\n",
       "      <th>original_price</th>\n",
       "      <th>market_price</th>\n",
       "      <th>description</th>\n",
       "      <th>contact_location</th>\n",
       "      <th>subscribers</th>\n",
       "      <th>scraped_date</th>\n",
       "      <th>removed_date</th>\n",
       "    </tr>\n",
       "  </thead>\n",
       "  <tbody>\n",
       "    <tr>\n",
       "      <th>0</th>\n",
       "      <td>2218322</td>\n",
       "      <td>BMW</td>\n",
       "      <td>SERIES 3</td>\n",
       "      <td>320 i</td>\n",
       "      <td>F30</td>\n",
       "      <td>2013.0</td>\n",
       "      <td>สีขาว</td>\n",
       "      <td>เกียร์ออโต้</td>\n",
       "      <td>NaN</td>\n",
       "      <td>1,090,000</td>\n",
       "      <td>NaN</td>\n",
       "      <td>2,697,000</td>\n",
       "      <td>BMW 320i Modern ปี 2013 รถมือเดียวภายในภายนอกด...</td>\n",
       "      <td>กรุงเทพมหานคร</td>\n",
       "      <td>858.0</td>\n",
       "      <td>2019-05-22</td>\n",
       "      <td>NaN</td>\n",
       "    </tr>\n",
       "    <tr>\n",
       "      <th>1</th>\n",
       "      <td>2225742</td>\n",
       "      <td>TOYOTA</td>\n",
       "      <td>VENTURY</td>\n",
       "      <td>2.7 G</td>\n",
       "      <td>ปี05-ปัจจุบัน</td>\n",
       "      <td>2009.0</td>\n",
       "      <td>สีขาว</td>\n",
       "      <td>เกียร์ออโต้</td>\n",
       "      <td>LPG</td>\n",
       "      <td>489,000</td>\n",
       "      <td>NaN</td>\n",
       "      <td>NaN</td>\n",
       "      <td>ฟรีดาวนventury G ออโต้ปี2011รถสวยมากมือเดียวไม...</td>\n",
       "      <td>กรุงเทพฯ</td>\n",
       "      <td>137.0</td>\n",
       "      <td>2019-05-22</td>\n",
       "      <td>NaN</td>\n",
       "    </tr>\n",
       "    <tr>\n",
       "      <th>2</th>\n",
       "      <td>2229350</td>\n",
       "      <td>BENZ</td>\n",
       "      <td>E-CLASS</td>\n",
       "      <td>E55 AMG</td>\n",
       "      <td>W211</td>\n",
       "      <td>2004.0</td>\n",
       "      <td>สีบรอนซ์เงิน</td>\n",
       "      <td>เกียร์ออโต้</td>\n",
       "      <td>NaN</td>\n",
       "      <td>999,000</td>\n",
       "      <td>NaN</td>\n",
       "      <td>NaN</td>\n",
       "      <td>E55 AMG V8 SuperCharge Tune by Zugus 500hp++ 7...</td>\n",
       "      <td>นนทบุรี</td>\n",
       "      <td>960.0</td>\n",
       "      <td>2019-05-22</td>\n",
       "      <td>NaN</td>\n",
       "    </tr>\n",
       "    <tr>\n",
       "      <th>3</th>\n",
       "      <td>2220134</td>\n",
       "      <td>HYUNDAI</td>\n",
       "      <td>GRAND STAREX</td>\n",
       "      <td>2.5 VIP</td>\n",
       "      <td>ปี10-2018</td>\n",
       "      <td>2011.0</td>\n",
       "      <td>สีบรอนซ์เงิน</td>\n",
       "      <td>เกียร์ออโต้</td>\n",
       "      <td>NaN</td>\n",
       "      <td>839,000</td>\n",
       "      <td>NaN</td>\n",
       "      <td>1,978,000</td>\n",
       "      <td>HYUNDAI GRAND STAREX 2.5 VIP ปี 2011\\n- auto a...</td>\n",
       "      <td>จังหวัดกรุงเทพฯ</td>\n",
       "      <td>74.0</td>\n",
       "      <td>2019-05-22</td>\n",
       "      <td>NaN</td>\n",
       "    </tr>\n",
       "    <tr>\n",
       "      <th>4</th>\n",
       "      <td>2218992</td>\n",
       "      <td>LANDROVER</td>\n",
       "      <td>DISCOVERY</td>\n",
       "      <td>V8 XS</td>\n",
       "      <td>DISCOVERY</td>\n",
       "      <td>2001.0</td>\n",
       "      <td>สีดำ</td>\n",
       "      <td>เกียร์ออโต้</td>\n",
       "      <td>NaN</td>\n",
       "      <td>655,000</td>\n",
       "      <td>NaN</td>\n",
       "      <td>NaN</td>\n",
       "      <td>ขายLand Rover Discovery 2 ปี 2001 เบนซิน วิ่งด...</td>\n",
       "      <td>กรุงเทพมหานคร</td>\n",
       "      <td>60.0</td>\n",
       "      <td>2019-05-22</td>\n",
       "      <td>NaN</td>\n",
       "    </tr>\n",
       "  </tbody>\n",
       "</table>\n",
       "</div>"
      ],
      "text/plain": [
       "        id      brand        series    model            gen    year  \\\n",
       "0  2218322        BMW      SERIES 3    320 i            F30  2013.0   \n",
       "1  2225742     TOYOTA       VENTURY    2.7 G  ปี05-ปัจจุบัน  2009.0   \n",
       "2  2229350       BENZ       E-CLASS  E55 AMG           W211  2004.0   \n",
       "3  2220134    HYUNDAI  GRAND STAREX  2.5 VIP      ปี10-2018  2011.0   \n",
       "4  2218992  LANDROVER     DISCOVERY    V8 XS      DISCOVERY  2001.0   \n",
       "\n",
       "          color         gear  gas sales_price original_price market_price  \\\n",
       "0         สีขาว  เกียร์ออโต้  NaN   1,090,000            NaN    2,697,000   \n",
       "1         สีขาว  เกียร์ออโต้  LPG     489,000            NaN          NaN   \n",
       "2  สีบรอนซ์เงิน  เกียร์ออโต้  NaN     999,000            NaN          NaN   \n",
       "3  สีบรอนซ์เงิน  เกียร์ออโต้  NaN     839,000            NaN    1,978,000   \n",
       "4          สีดำ  เกียร์ออโต้  NaN     655,000            NaN          NaN   \n",
       "\n",
       "                                         description contact_location  \\\n",
       "0  BMW 320i Modern ปี 2013 รถมือเดียวภายในภายนอกด...    กรุงเทพมหานคร   \n",
       "1  ฟรีดาวนventury G ออโต้ปี2011รถสวยมากมือเดียวไม...         กรุงเทพฯ   \n",
       "2  E55 AMG V8 SuperCharge Tune by Zugus 500hp++ 7...          นนทบุรี   \n",
       "3  HYUNDAI GRAND STAREX 2.5 VIP ปี 2011\\n- auto a...  จังหวัดกรุงเทพฯ   \n",
       "4  ขายLand Rover Discovery 2 ปี 2001 เบนซิน วิ่งด...    กรุงเทพมหานคร   \n",
       "\n",
       "   subscribers scraped_date removed_date  \n",
       "0        858.0   2019-05-22          NaN  \n",
       "1        137.0   2019-05-22          NaN  \n",
       "2        960.0   2019-05-22          NaN  \n",
       "3         74.0   2019-05-22          NaN  \n",
       "4         60.0   2019-05-22          NaN  "
      ]
     },
     "execution_count": 6,
     "metadata": {},
     "output_type": "execute_result"
    }
   ],
   "source": [
    "#seriously outdated way of looking at dataframes\n",
    "df.head()"
   ]
  },
  {
   "cell_type": "code",
   "execution_count": 7,
   "metadata": {
    "scrolled": true
   },
   "outputs": [
    {
     "data": {
      "application/vnd.jupyter.widget-view+json": {
       "model_id": "43cd53716c1b49f6bbb9044d3b48b7ff",
       "version_major": 2,
       "version_minor": 0
      },
      "text/plain": [
       "QgridWidget(grid_options={'fullWidthRows': True, 'syncColumnCellResize': True, 'forceFitColumns': True, 'defau…"
      ]
     },
     "metadata": {},
     "output_type": "display_data"
    }
   ],
   "source": [
    "#the R way aka the way humans should be doing it\n",
    "import qgrid\n",
    "\n",
    "q = qgrid.show_grid(df)\n",
    "q"
   ]
  },
  {
   "cell_type": "code",
   "execution_count": 8,
   "metadata": {},
   "outputs": [
    {
     "data": {
      "text/plain": [
       "(20037, 17)"
      ]
     },
     "execution_count": 8,
     "metadata": {},
     "output_type": "execute_result"
    }
   ],
   "source": [
    "#count the filtered\n",
    "#Bonus point: show these numbers on the widget above\n",
    "q.get_changed_df().shape"
   ]
  },
  {
   "cell_type": "code",
   "execution_count": 9,
   "metadata": {},
   "outputs": [
    {
     "name": "stdout",
     "output_type": "stream",
     "text": [
      "Shape before deduplication: (20037, 17)\n",
      "Shape after deduplication: (14037, 17)\n"
     ]
    }
   ],
   "source": [
    "#drop exact duplicates\n",
    "print(f'Shape before deduplication: {df.shape}')\n",
    "df = df.drop_duplicates().copy()\n",
    "print(f'Shape after deduplication: {df.shape}')"
   ]
  },
  {
   "cell_type": "markdown",
   "metadata": {},
   "source": [
    "### Coding Assignment"
   ]
  },
  {
   "cell_type": "markdown",
   "metadata": {},
   "source": [
    "All data manipulation syntaxes can be said to be based on SQL. If you are already familiar with SQL or R, refer to [data manipulation dictionary](https://docs.google.com/spreadsheets/d/1BYan2X52zt-lILMcMGupCkUTgbNHOG_n13QWJiCu3v4/edit?usp=sharing) in this [cheatsheet](https://github.com/Datatouille/cheatsheets) to get a hang of `pandas`."
   ]
  },
  {
   "cell_type": "markdown",
   "metadata": {},
   "source": [
    "0. Make sure that each `id` is one car."
   ]
  },
  {
   "cell_type": "code",
   "execution_count": 10,
   "metadata": {},
   "outputs": [
    {
     "data": {
      "text/plain": [
       "'\\nFill in the codes that represent the following SQL:\\nselect\\n    nb_car,\\n    count(*)\\nfrom\\n(select\\n    id,\\n    count(*) as nb_car\\nfrom df\\ngroup by id) a\\ngroup by nb_car\\n'"
      ]
     },
     "execution_count": 10,
     "metadata": {},
     "output_type": "execute_result"
    }
   ],
   "source": [
    "'''\n",
    "Fill in the codes that represent the following SQL:\n",
    "select\n",
    "    nb_car,\n",
    "    count(*)\n",
    "from\n",
    "(select\n",
    "    id,\n",
    "    count(*) as nb_car\n",
    "from df\n",
    "group by id) a\n",
    "group by nb_car\n",
    "'''"
   ]
  },
  {
   "cell_type": "markdown",
   "metadata": {},
   "source": [
    "1. How many distinct `gen` are there in the dataset?"
   ]
  },
  {
   "cell_type": "code",
   "execution_count": 11,
   "metadata": {},
   "outputs": [
    {
     "data": {
      "text/plain": [
       "'\\nFill in the codes that represent the following SQL:\\nselect count(distinct gen) from df\\n'"
      ]
     },
     "execution_count": 11,
     "metadata": {},
     "output_type": "execute_result"
    }
   ],
   "source": [
    "'''\n",
    "Fill in the codes that represent the following SQL:\n",
    "select count(distinct gen) from df\n",
    "'''"
   ]
  },
  {
   "cell_type": "markdown",
   "metadata": {},
   "source": [
    "2. How many cars are in each `gen`?"
   ]
  },
  {
   "cell_type": "code",
   "execution_count": 12,
   "metadata": {},
   "outputs": [
    {
     "data": {
      "text/plain": [
       "'\\nFill in the codes that represent the following SQL:\\nselect\\n    gen,\\n    count(*)\\nfrom df\\ngroup by gen\\n'"
      ]
     },
     "execution_count": 12,
     "metadata": {},
     "output_type": "execute_result"
    }
   ],
   "source": [
    "'''\n",
    "Fill in the codes that represent the following SQL:\n",
    "select\n",
    "    gen,\n",
    "    count(*)\n",
    "from df\n",
    "group by gen\n",
    "'''"
   ]
  },
  {
   "cell_type": "markdown",
   "metadata": {},
   "source": [
    "3. What are the most popular brands in `taladrod`?"
   ]
  },
  {
   "cell_type": "code",
   "execution_count": 13,
   "metadata": {},
   "outputs": [
    {
     "data": {
      "text/plain": [
       "'\\nFill in the codes that represent the following SQL:\\nselect\\n    brand,\\n    nb_cars\\nfrom\\n(select\\n    brand,\\n    count(*) as nb_cars\\nfrom df\\ngroup by brand) a\\norder by nb_cars desc\\n'"
      ]
     },
     "execution_count": 13,
     "metadata": {},
     "output_type": "execute_result"
    }
   ],
   "source": [
    "'''\n",
    "Fill in the codes that represent the following SQL:\n",
    "select\n",
    "    brand,\n",
    "    nb_cars\n",
    "from\n",
    "(select\n",
    "    brand,\n",
    "    count(*) as nb_cars\n",
    "from df\n",
    "group by brand) a\n",
    "order by nb_cars desc\n",
    "'''"
   ]
  },
  {
   "cell_type": "markdown",
   "metadata": {},
   "source": [
    "4. What is mean, median and standard deviation of `sales_price`?"
   ]
  },
  {
   "cell_type": "code",
   "execution_count": 14,
   "metadata": {},
   "outputs": [
    {
     "data": {
      "text/plain": [
       "'\\nFill in the codes that represent the following SQL:\\nselect\\n    avg(sales_price),\\n    stddev(sales_price)\\nfrom df\\n'"
      ]
     },
     "execution_count": 14,
     "metadata": {},
     "output_type": "execute_result"
    }
   ],
   "source": [
    "'''\n",
    "Fill in the codes that represent the following SQL:\n",
    "select\n",
    "    avg(sales_price),\n",
    "    stddev(sales_price)\n",
    "from df\n",
    "'''"
   ]
  },
  {
   "cell_type": "markdown",
   "metadata": {},
   "source": [
    "4.1 Convert `sales_price`, `original_price` and `market_price` to float from string."
   ]
  },
  {
   "cell_type": "code",
   "execution_count": 15,
   "metadata": {},
   "outputs": [
    {
     "data": {
      "text/plain": [
       "0    1090000.0\n",
       "1     489000.0\n",
       "2     999000.0\n",
       "3     839000.0\n",
       "4     655000.0\n",
       "Name: sales_price, dtype: float64"
      ]
     },
     "execution_count": 15,
     "metadata": {},
     "output_type": "execute_result"
    }
   ],
   "source": [
    "def clean_comma(x):\n",
    "    '''\n",
    "    Fill in the codes\n",
    "    '''\n",
    "    return float(str(x).replace(',',''))\n",
    "\n",
    "df['sales_price'] = df.sales_price.map(clean_comma)\n",
    "df['original_price'] = df.market_price.map(clean_comma)\n",
    "df['market_price'] = df.market_price.map(clean_comma)\n",
    "df.sales_price.head()"
   ]
  },
  {
   "cell_type": "markdown",
   "metadata": {},
   "source": [
    "4.2 What is the distribution of `sales_price` and `market_price`? (Hint: use `pandas` plotting functionality)"
   ]
  },
  {
   "cell_type": "code",
   "execution_count": 16,
   "metadata": {},
   "outputs": [
    {
     "data": {
      "text/plain": [
       "'\\nFill in the codes\\n'"
      ]
     },
     "execution_count": 16,
     "metadata": {},
     "output_type": "execute_result"
    }
   ],
   "source": [
    "'''\n",
    "Fill in the codes\n",
    "'''"
   ]
  },
  {
   "cell_type": "markdown",
   "metadata": {},
   "source": [
    "5. How many percentage of the cars scraped have already been removed from the website?"
   ]
  },
  {
   "cell_type": "code",
   "execution_count": 17,
   "metadata": {},
   "outputs": [
    {
     "data": {
      "text/plain": [
       "'\\nFill in the codes that represent the following SQL:\\nselect\\n    avg(case when scraped_date is not null then 1 else 0 end)\\nfrom df\\n'"
      ]
     },
     "execution_count": 17,
     "metadata": {},
     "output_type": "execute_result"
    }
   ],
   "source": [
    "'''\n",
    "Fill in the codes that represent the following SQL:\n",
    "select\n",
    "    avg(case when scraped_date is not null then 1 else 0 end)\n",
    "from df\n",
    "'''"
   ]
  },
  {
   "cell_type": "markdown",
   "metadata": {},
   "source": [
    "6. On average, how many days does a car of each brand stays on the website from `scraped_date` to `removed_date`?"
   ]
  },
  {
   "cell_type": "code",
   "execution_count": 18,
   "metadata": {},
   "outputs": [
    {
     "data": {
      "text/plain": [
       "'\\nFill in the codes\\n'"
      ]
     },
     "execution_count": 18,
     "metadata": {},
     "output_type": "execute_result"
    }
   ],
   "source": [
    "'''\n",
    "Fill in the codes\n",
    "'''\n"
   ]
  },
  {
   "cell_type": "markdown",
   "metadata": {},
   "source": [
    "**Conceptual Assignment** \n",
    "* Describe `taladrod` dataset with the descriptive statistics we have learned so far.\n",
    "* What are some problems with `taladrod` dataset, and how do you plan to solve them?"
   ]
  },
  {
   "cell_type": "markdown",
   "metadata": {},
   "source": [
    "## Data Types"
   ]
  },
  {
   "cell_type": "markdown",
   "metadata": {},
   "source": [
    "As we learned earlier, columns are not always parsed as their correct data types. We should always explore and convert them accordingly. See all data types available for `pandas` [here](https://stackoverflow.com/questions/29245848/what-are-all-the-dtypes-that-pandas-recognizes)."
   ]
  },
  {
   "cell_type": "code",
   "execution_count": 19,
   "metadata": {},
   "outputs": [
    {
     "data": {
      "text/html": [
       "<div>\n",
       "<style scoped>\n",
       "    .dataframe tbody tr th:only-of-type {\n",
       "        vertical-align: middle;\n",
       "    }\n",
       "\n",
       "    .dataframe tbody tr th {\n",
       "        vertical-align: top;\n",
       "    }\n",
       "\n",
       "    .dataframe thead th {\n",
       "        text-align: right;\n",
       "    }\n",
       "</style>\n",
       "<table border=\"1\" class=\"dataframe\">\n",
       "  <thead>\n",
       "    <tr style=\"text-align: right;\">\n",
       "      <th></th>\n",
       "      <th>col</th>\n",
       "      <th>dtype</th>\n",
       "    </tr>\n",
       "  </thead>\n",
       "  <tbody>\n",
       "    <tr>\n",
       "      <th>0</th>\n",
       "      <td>id</td>\n",
       "      <td>int64</td>\n",
       "    </tr>\n",
       "    <tr>\n",
       "      <th>1</th>\n",
       "      <td>brand</td>\n",
       "      <td>object</td>\n",
       "    </tr>\n",
       "    <tr>\n",
       "      <th>2</th>\n",
       "      <td>series</td>\n",
       "      <td>object</td>\n",
       "    </tr>\n",
       "    <tr>\n",
       "      <th>3</th>\n",
       "      <td>model</td>\n",
       "      <td>object</td>\n",
       "    </tr>\n",
       "    <tr>\n",
       "      <th>4</th>\n",
       "      <td>gen</td>\n",
       "      <td>object</td>\n",
       "    </tr>\n",
       "    <tr>\n",
       "      <th>5</th>\n",
       "      <td>year</td>\n",
       "      <td>float64</td>\n",
       "    </tr>\n",
       "    <tr>\n",
       "      <th>6</th>\n",
       "      <td>color</td>\n",
       "      <td>object</td>\n",
       "    </tr>\n",
       "    <tr>\n",
       "      <th>7</th>\n",
       "      <td>gear</td>\n",
       "      <td>object</td>\n",
       "    </tr>\n",
       "    <tr>\n",
       "      <th>8</th>\n",
       "      <td>gas</td>\n",
       "      <td>object</td>\n",
       "    </tr>\n",
       "    <tr>\n",
       "      <th>9</th>\n",
       "      <td>sales_price</td>\n",
       "      <td>float64</td>\n",
       "    </tr>\n",
       "    <tr>\n",
       "      <th>10</th>\n",
       "      <td>original_price</td>\n",
       "      <td>float64</td>\n",
       "    </tr>\n",
       "    <tr>\n",
       "      <th>11</th>\n",
       "      <td>market_price</td>\n",
       "      <td>float64</td>\n",
       "    </tr>\n",
       "    <tr>\n",
       "      <th>12</th>\n",
       "      <td>description</td>\n",
       "      <td>object</td>\n",
       "    </tr>\n",
       "    <tr>\n",
       "      <th>13</th>\n",
       "      <td>contact_location</td>\n",
       "      <td>object</td>\n",
       "    </tr>\n",
       "    <tr>\n",
       "      <th>14</th>\n",
       "      <td>subscribers</td>\n",
       "      <td>float64</td>\n",
       "    </tr>\n",
       "    <tr>\n",
       "      <th>15</th>\n",
       "      <td>scraped_date</td>\n",
       "      <td>object</td>\n",
       "    </tr>\n",
       "    <tr>\n",
       "      <th>16</th>\n",
       "      <td>removed_date</td>\n",
       "      <td>object</td>\n",
       "    </tr>\n",
       "  </tbody>\n",
       "</table>\n",
       "</div>"
      ],
      "text/plain": [
       "                 col    dtype\n",
       "0                 id    int64\n",
       "1              brand   object\n",
       "2             series   object\n",
       "3              model   object\n",
       "4                gen   object\n",
       "5               year  float64\n",
       "6              color   object\n",
       "7               gear   object\n",
       "8                gas   object\n",
       "9        sales_price  float64\n",
       "10    original_price  float64\n",
       "11      market_price  float64\n",
       "12       description   object\n",
       "13  contact_location   object\n",
       "14       subscribers  float64\n",
       "15      scraped_date   object\n",
       "16      removed_date   object"
      ]
     },
     "execution_count": 19,
     "metadata": {},
     "output_type": "execute_result"
    }
   ],
   "source": [
    "pd.DataFrame({'col':list(df.columns), 'dtype':list(df.dtypes)})"
   ]
  },
  {
   "cell_type": "code",
   "execution_count": 20,
   "metadata": {},
   "outputs": [],
   "source": [
    "df = df.astype(dtype= {'id':'str',\n",
    "                      'sales_price': 'float64',\n",
    "                      'original_price': 'float64',\n",
    "                      'market_price': 'float64',\n",
    "                      'subscribers':'float64',\n",
    "                      'scraped_date':'datetime64',\n",
    "                      'removed_date':'datetime64'})\n",
    "pd.DataFrame({'col':list(df.columns), 'dtype':list(df.dtypes)})\n",
    "df['date_diff'] = df.removed_date - df.scraped_date\n",
    "df['date_diff'] = df.date_diff.map(lambda x: x / np.timedelta64(1, 'D'))"
   ]
  },
  {
   "cell_type": "markdown",
   "metadata": {},
   "source": [
    "## Handling Dates"
   ]
  },
  {
   "cell_type": "markdown",
   "metadata": {},
   "source": [
    "We can extract time-series variables from dates such as year, month of year, and day of week. Date difference such as the difference between `removed_date` and `scraped_date` can also be informative.\n",
    "\n",
    "**Coding Assingment** Create new columns for \n",
    "* `year_scraped` (year scraped)\n",
    "* `month_scraped` (month scraped)\n",
    "* `dow_scraped` (day of week scraped)\n",
    "* Remove `removed_date` and `scraped_date` from our dataframe."
   ]
  },
  {
   "cell_type": "code",
   "execution_count": 21,
   "metadata": {},
   "outputs": [
    {
     "data": {
      "text/html": [
       "<div>\n",
       "<style scoped>\n",
       "    .dataframe tbody tr th:only-of-type {\n",
       "        vertical-align: middle;\n",
       "    }\n",
       "\n",
       "    .dataframe tbody tr th {\n",
       "        vertical-align: top;\n",
       "    }\n",
       "\n",
       "    .dataframe thead th {\n",
       "        text-align: right;\n",
       "    }\n",
       "</style>\n",
       "<table border=\"1\" class=\"dataframe\">\n",
       "  <thead>\n",
       "    <tr style=\"text-align: right;\">\n",
       "      <th></th>\n",
       "      <th>id</th>\n",
       "      <th>brand</th>\n",
       "      <th>series</th>\n",
       "      <th>model</th>\n",
       "      <th>gen</th>\n",
       "      <th>year</th>\n",
       "      <th>color</th>\n",
       "      <th>gear</th>\n",
       "      <th>gas</th>\n",
       "      <th>sales_price</th>\n",
       "      <th>original_price</th>\n",
       "      <th>market_price</th>\n",
       "      <th>description</th>\n",
       "      <th>contact_location</th>\n",
       "      <th>subscribers</th>\n",
       "      <th>date_diff</th>\n",
       "      <th>year_scraped</th>\n",
       "      <th>month_scraped</th>\n",
       "      <th>dow</th>\n",
       "    </tr>\n",
       "  </thead>\n",
       "  <tbody>\n",
       "    <tr>\n",
       "      <th>0</th>\n",
       "      <td>2218322</td>\n",
       "      <td>BMW</td>\n",
       "      <td>SERIES 3</td>\n",
       "      <td>320 i</td>\n",
       "      <td>F30</td>\n",
       "      <td>2013.0</td>\n",
       "      <td>สีขาว</td>\n",
       "      <td>เกียร์ออโต้</td>\n",
       "      <td>NaN</td>\n",
       "      <td>1090000.0</td>\n",
       "      <td>2697000.0</td>\n",
       "      <td>2697000.0</td>\n",
       "      <td>BMW 320i Modern ปี 2013 รถมือเดียวภายในภายนอกด...</td>\n",
       "      <td>กรุงเทพมหานคร</td>\n",
       "      <td>858.0</td>\n",
       "      <td>NaN</td>\n",
       "      <td>2019</td>\n",
       "      <td>5</td>\n",
       "      <td>2</td>\n",
       "    </tr>\n",
       "    <tr>\n",
       "      <th>1</th>\n",
       "      <td>2225742</td>\n",
       "      <td>TOYOTA</td>\n",
       "      <td>VENTURY</td>\n",
       "      <td>2.7 G</td>\n",
       "      <td>ปี05-ปัจจุบัน</td>\n",
       "      <td>2009.0</td>\n",
       "      <td>สีขาว</td>\n",
       "      <td>เกียร์ออโต้</td>\n",
       "      <td>LPG</td>\n",
       "      <td>489000.0</td>\n",
       "      <td>NaN</td>\n",
       "      <td>NaN</td>\n",
       "      <td>ฟรีดาวนventury G ออโต้ปี2011รถสวยมากมือเดียวไม...</td>\n",
       "      <td>กรุงเทพฯ</td>\n",
       "      <td>137.0</td>\n",
       "      <td>NaN</td>\n",
       "      <td>2019</td>\n",
       "      <td>5</td>\n",
       "      <td>2</td>\n",
       "    </tr>\n",
       "    <tr>\n",
       "      <th>2</th>\n",
       "      <td>2229350</td>\n",
       "      <td>BENZ</td>\n",
       "      <td>E-CLASS</td>\n",
       "      <td>E55 AMG</td>\n",
       "      <td>W211</td>\n",
       "      <td>2004.0</td>\n",
       "      <td>สีบรอนซ์เงิน</td>\n",
       "      <td>เกียร์ออโต้</td>\n",
       "      <td>NaN</td>\n",
       "      <td>999000.0</td>\n",
       "      <td>NaN</td>\n",
       "      <td>NaN</td>\n",
       "      <td>E55 AMG V8 SuperCharge Tune by Zugus 500hp++ 7...</td>\n",
       "      <td>นนทบุรี</td>\n",
       "      <td>960.0</td>\n",
       "      <td>NaN</td>\n",
       "      <td>2019</td>\n",
       "      <td>5</td>\n",
       "      <td>2</td>\n",
       "    </tr>\n",
       "    <tr>\n",
       "      <th>3</th>\n",
       "      <td>2220134</td>\n",
       "      <td>HYUNDAI</td>\n",
       "      <td>GRAND STAREX</td>\n",
       "      <td>2.5 VIP</td>\n",
       "      <td>ปี10-2018</td>\n",
       "      <td>2011.0</td>\n",
       "      <td>สีบรอนซ์เงิน</td>\n",
       "      <td>เกียร์ออโต้</td>\n",
       "      <td>NaN</td>\n",
       "      <td>839000.0</td>\n",
       "      <td>1978000.0</td>\n",
       "      <td>1978000.0</td>\n",
       "      <td>HYUNDAI GRAND STAREX 2.5 VIP ปี 2011\\n- auto a...</td>\n",
       "      <td>จังหวัดกรุงเทพฯ</td>\n",
       "      <td>74.0</td>\n",
       "      <td>NaN</td>\n",
       "      <td>2019</td>\n",
       "      <td>5</td>\n",
       "      <td>2</td>\n",
       "    </tr>\n",
       "    <tr>\n",
       "      <th>4</th>\n",
       "      <td>2218992</td>\n",
       "      <td>LANDROVER</td>\n",
       "      <td>DISCOVERY</td>\n",
       "      <td>V8 XS</td>\n",
       "      <td>DISCOVERY</td>\n",
       "      <td>2001.0</td>\n",
       "      <td>สีดำ</td>\n",
       "      <td>เกียร์ออโต้</td>\n",
       "      <td>NaN</td>\n",
       "      <td>655000.0</td>\n",
       "      <td>NaN</td>\n",
       "      <td>NaN</td>\n",
       "      <td>ขายLand Rover Discovery 2 ปี 2001 เบนซิน วิ่งด...</td>\n",
       "      <td>กรุงเทพมหานคร</td>\n",
       "      <td>60.0</td>\n",
       "      <td>NaN</td>\n",
       "      <td>2019</td>\n",
       "      <td>5</td>\n",
       "      <td>2</td>\n",
       "    </tr>\n",
       "  </tbody>\n",
       "</table>\n",
       "</div>"
      ],
      "text/plain": [
       "        id      brand        series    model            gen    year  \\\n",
       "0  2218322        BMW      SERIES 3    320 i            F30  2013.0   \n",
       "1  2225742     TOYOTA       VENTURY    2.7 G  ปี05-ปัจจุบัน  2009.0   \n",
       "2  2229350       BENZ       E-CLASS  E55 AMG           W211  2004.0   \n",
       "3  2220134    HYUNDAI  GRAND STAREX  2.5 VIP      ปี10-2018  2011.0   \n",
       "4  2218992  LANDROVER     DISCOVERY    V8 XS      DISCOVERY  2001.0   \n",
       "\n",
       "          color         gear  gas  sales_price  original_price  market_price  \\\n",
       "0         สีขาว  เกียร์ออโต้  NaN    1090000.0       2697000.0     2697000.0   \n",
       "1         สีขาว  เกียร์ออโต้  LPG     489000.0             NaN           NaN   \n",
       "2  สีบรอนซ์เงิน  เกียร์ออโต้  NaN     999000.0             NaN           NaN   \n",
       "3  สีบรอนซ์เงิน  เกียร์ออโต้  NaN     839000.0       1978000.0     1978000.0   \n",
       "4          สีดำ  เกียร์ออโต้  NaN     655000.0             NaN           NaN   \n",
       "\n",
       "                                         description contact_location  \\\n",
       "0  BMW 320i Modern ปี 2013 รถมือเดียวภายในภายนอกด...    กรุงเทพมหานคร   \n",
       "1  ฟรีดาวนventury G ออโต้ปี2011รถสวยมากมือเดียวไม...         กรุงเทพฯ   \n",
       "2  E55 AMG V8 SuperCharge Tune by Zugus 500hp++ 7...          นนทบุรี   \n",
       "3  HYUNDAI GRAND STAREX 2.5 VIP ปี 2011\\n- auto a...  จังหวัดกรุงเทพฯ   \n",
       "4  ขายLand Rover Discovery 2 ปี 2001 เบนซิน วิ่งด...    กรุงเทพมหานคร   \n",
       "\n",
       "   subscribers  date_diff  year_scraped month_scraped dow  \n",
       "0        858.0        NaN          2019             5   2  \n",
       "1        137.0        NaN          2019             5   2  \n",
       "2        960.0        NaN          2019             5   2  \n",
       "3         74.0        NaN          2019             5   2  \n",
       "4         60.0        NaN          2019             5   2  "
      ]
     },
     "execution_count": 21,
     "metadata": {},
     "output_type": "execute_result"
    }
   ],
   "source": [
    "df['year_scraped'] = df.scraped_date.map(lambda x: x.year)\n",
    "df['month_scraped'] = df.scraped_date.map(lambda x: str(x.month))\n",
    "df['dow'] = df.scraped_date.map(lambda x: str(x.weekday()))\n",
    "df = df.drop(['removed_date','scraped_date'],1)\n",
    "df.head()"
   ]
  },
  {
   "cell_type": "markdown",
   "metadata": {},
   "source": [
    "## Missing Values"
   ]
  },
  {
   "cell_type": "markdown",
   "metadata": {},
   "source": [
    "**Coding Assigment** Write a function that returns the percentage of missing values for each column as a data frame. The columns should be sorted in descending order."
   ]
  },
  {
   "cell_type": "code",
   "execution_count": 22,
   "metadata": {},
   "outputs": [],
   "source": [
    "def check_missing(df):\n",
    "    pass\n",
    "#returns a dataframe with column names and percentage of missing values in each column of the input dataframe"
   ]
  },
  {
   "cell_type": "code",
   "execution_count": 23,
   "metadata": {},
   "outputs": [
    {
     "data": {
      "text/html": [
       "<div>\n",
       "<style scoped>\n",
       "    .dataframe tbody tr th:only-of-type {\n",
       "        vertical-align: middle;\n",
       "    }\n",
       "\n",
       "    .dataframe tbody tr th {\n",
       "        vertical-align: top;\n",
       "    }\n",
       "\n",
       "    .dataframe thead th {\n",
       "        text-align: right;\n",
       "    }\n",
       "</style>\n",
       "<table border=\"1\" class=\"dataframe\">\n",
       "  <thead>\n",
       "    <tr style=\"text-align: right;\">\n",
       "      <th></th>\n",
       "      <th>col</th>\n",
       "      <th>per_missing</th>\n",
       "    </tr>\n",
       "  </thead>\n",
       "  <tbody>\n",
       "    <tr>\n",
       "      <th>0</th>\n",
       "      <td>gas</td>\n",
       "      <td>0.936525</td>\n",
       "    </tr>\n",
       "    <tr>\n",
       "      <th>1</th>\n",
       "      <td>date_diff</td>\n",
       "      <td>0.886728</td>\n",
       "    </tr>\n",
       "    <tr>\n",
       "      <th>2</th>\n",
       "      <td>original_price</td>\n",
       "      <td>0.561658</td>\n",
       "    </tr>\n",
       "    <tr>\n",
       "      <th>3</th>\n",
       "      <td>market_price</td>\n",
       "      <td>0.561658</td>\n",
       "    </tr>\n",
       "    <tr>\n",
       "      <th>4</th>\n",
       "      <td>subscribers</td>\n",
       "      <td>0.000641</td>\n",
       "    </tr>\n",
       "    <tr>\n",
       "      <th>5</th>\n",
       "      <td>id</td>\n",
       "      <td>0.000000</td>\n",
       "    </tr>\n",
       "    <tr>\n",
       "      <th>6</th>\n",
       "      <td>month_scraped</td>\n",
       "      <td>0.000000</td>\n",
       "    </tr>\n",
       "    <tr>\n",
       "      <th>7</th>\n",
       "      <td>year_scraped</td>\n",
       "      <td>0.000000</td>\n",
       "    </tr>\n",
       "    <tr>\n",
       "      <th>8</th>\n",
       "      <td>contact_location</td>\n",
       "      <td>0.000000</td>\n",
       "    </tr>\n",
       "    <tr>\n",
       "      <th>9</th>\n",
       "      <td>description</td>\n",
       "      <td>0.000000</td>\n",
       "    </tr>\n",
       "    <tr>\n",
       "      <th>10</th>\n",
       "      <td>sales_price</td>\n",
       "      <td>0.000000</td>\n",
       "    </tr>\n",
       "    <tr>\n",
       "      <th>11</th>\n",
       "      <td>brand</td>\n",
       "      <td>0.000000</td>\n",
       "    </tr>\n",
       "    <tr>\n",
       "      <th>12</th>\n",
       "      <td>gear</td>\n",
       "      <td>0.000000</td>\n",
       "    </tr>\n",
       "    <tr>\n",
       "      <th>13</th>\n",
       "      <td>color</td>\n",
       "      <td>0.000000</td>\n",
       "    </tr>\n",
       "    <tr>\n",
       "      <th>14</th>\n",
       "      <td>year</td>\n",
       "      <td>0.000000</td>\n",
       "    </tr>\n",
       "    <tr>\n",
       "      <th>15</th>\n",
       "      <td>gen</td>\n",
       "      <td>0.000000</td>\n",
       "    </tr>\n",
       "    <tr>\n",
       "      <th>16</th>\n",
       "      <td>model</td>\n",
       "      <td>0.000000</td>\n",
       "    </tr>\n",
       "    <tr>\n",
       "      <th>17</th>\n",
       "      <td>series</td>\n",
       "      <td>0.000000</td>\n",
       "    </tr>\n",
       "    <tr>\n",
       "      <th>18</th>\n",
       "      <td>dow</td>\n",
       "      <td>0.000000</td>\n",
       "    </tr>\n",
       "  </tbody>\n",
       "</table>\n",
       "</div>"
      ],
      "text/plain": [
       "                 col  per_missing\n",
       "0                gas     0.936525\n",
       "1          date_diff     0.886728\n",
       "2     original_price     0.561658\n",
       "3       market_price     0.561658\n",
       "4        subscribers     0.000641\n",
       "5                 id     0.000000\n",
       "6      month_scraped     0.000000\n",
       "7       year_scraped     0.000000\n",
       "8   contact_location     0.000000\n",
       "9        description     0.000000\n",
       "10       sales_price     0.000000\n",
       "11             brand     0.000000\n",
       "12              gear     0.000000\n",
       "13             color     0.000000\n",
       "14              year     0.000000\n",
       "15               gen     0.000000\n",
       "16             model     0.000000\n",
       "17            series     0.000000\n",
       "18               dow     0.000000"
      ]
     },
     "execution_count": 23,
     "metadata": {},
     "output_type": "execute_result"
    }
   ],
   "source": [
    "utils.check_missing(df)"
   ]
  },
  {
   "cell_type": "code",
   "execution_count": 24,
   "metadata": {},
   "outputs": [
    {
     "data": {
      "text/plain": [
       "LPG    692\n",
       "NGV    199\n",
       "Name: gas, dtype: int64"
      ]
     },
     "execution_count": 24,
     "metadata": {},
     "output_type": "execute_result"
    }
   ],
   "source": [
    "#categorical values are easy; just fill in!\n",
    "df.gas.value_counts()"
   ]
  },
  {
   "cell_type": "code",
   "execution_count": 25,
   "metadata": {},
   "outputs": [
    {
     "data": {
      "text/plain": [
       "xxna    13146\n",
       "LPG       692\n",
       "NGV       199\n",
       "Name: gas, dtype: int64"
      ]
     },
     "execution_count": 25,
     "metadata": {},
     "output_type": "execute_result"
    }
   ],
   "source": [
    "#fill in with `xxna` tokens for missing categorical values\n",
    "df['gas'] = df.gas.fillna('xxna')\n",
    "df.gas.value_counts()"
   ]
  },
  {
   "cell_type": "code",
   "execution_count": 26,
   "metadata": {},
   "outputs": [
    {
     "data": {
      "text/plain": [
       "0    2697000.0\n",
       "1          NaN\n",
       "2          NaN\n",
       "3    1978000.0\n",
       "4          NaN\n",
       "Name: market_price, dtype: float64"
      ]
     },
     "execution_count": 26,
     "metadata": {},
     "output_type": "execute_result"
    }
   ],
   "source": [
    "#numerical values are more complicated\n",
    "market_price = df.market_price.copy()\n",
    "market_price.head()"
   ]
  },
  {
   "cell_type": "code",
   "execution_count": 27,
   "metadata": {},
   "outputs": [
    {
     "name": "stdout",
     "output_type": "stream",
     "text": [
      "count        6153.0\n",
      "mean      1336796.0\n",
      "std       1298484.0\n",
      "min        369000.0\n",
      "25%        649000.0\n",
      "50%        877000.0\n",
      "75%       1445000.0\n",
      "max      16450000.0\n",
      "Name: market_price, dtype: float64\n"
     ]
    },
    {
     "data": {
      "text/plain": [
       "<matplotlib.axes._subplots.AxesSubplot at 0x12f1e4c50>"
      ]
     },
     "execution_count": 27,
     "metadata": {},
     "output_type": "execute_result"
    },
    {
     "data": {
      "image/png": "[encoded data removed]",
      "text/plain": [
       "<Figure size 432x288 with 1 Axes>"
      ]
     },
     "metadata": {
      "needs_background": "light"
     },
     "output_type": "display_data"
    }
   ],
   "source": [
    "#describe by ignoring missing values; drop\n",
    "print(market_price.describe().round())\n",
    "market_price.hist()"
   ]
  },
  {
   "cell_type": "code",
   "execution_count": 28,
   "metadata": {},
   "outputs": [
    {
     "name": "stdout",
     "output_type": "stream",
     "text": [
      "count       14037.0\n",
      "mean      1078548.0\n",
      "std        889413.0\n",
      "min        369000.0\n",
      "25%        877000.0\n",
      "50%        877000.0\n",
      "75%        877000.0\n",
      "max      16450000.0\n",
      "Name: market_price, dtype: float64\n"
     ]
    },
    {
     "data": {
      "text/plain": [
       "<matplotlib.axes._subplots.AxesSubplot at 0x12efcf320>"
      ]
     },
     "execution_count": 28,
     "metadata": {},
     "output_type": "execute_result"
    },
    {
     "data": {
      "image/png": "[encoded data removed]",
      "text/plain": [
       "<Figure size 432x288 with 1 Axes>"
      ]
     },
     "metadata": {
      "needs_background": "light"
     },
     "output_type": "display_data"
    }
   ],
   "source": [
    "#describe by filling in with median; impute\n",
    "print(market_price.fillna(market_price.median()).describe().round())\n",
    "market_price.fillna(market_price.median()).hist()"
   ]
  },
  {
   "cell_type": "code",
   "execution_count": 29,
   "metadata": {},
   "outputs": [
    {
     "data": {
      "text/plain": [
       "<matplotlib.axes._subplots.AxesSubplot at 0x12f007048>"
      ]
     },
     "execution_count": 29,
     "metadata": {},
     "output_type": "execute_result"
    },
    {
     "data": {
      "image/png": "[encoded data removed]",
      "text/plain": [
       "<Figure size 432x288 with 1 Axes>"
      ]
     },
     "metadata": {
      "needs_background": "light"
     },
     "output_type": "display_data"
    }
   ],
   "source": [
    "#comparing with and without median imputation (most common strategies are median, mode and constant)\n",
    "market_price.fillna(market_price.median()).hist()\n",
    "market_price.hist()"
   ]
  },
  {
   "cell_type": "markdown",
   "metadata": {},
   "source": [
    "For many people, their first instinct is to either drop or impute missing values. However, dropping the values can lead to loss of information, especially if other columns are not missing, and imputation can skew the value distribution.\n",
    "\n",
    "For exploration, we must estimate the *extent* and *assumptions* about the nature of the missing values. For instance, if we think that the values for `market_price` is just missing because of users are lazy to input, we can assume that the distribution of values after dropping missing values are close to the actual distribution. However, if we assume that more owners of more expensive cars are more lazy, we should know that the distribution is underestimating the actual distribution.\n",
    "\n",
    "For modeling, the best practice is to create another column `col_missing` that holds the boolean value. This feature will estimate the \"information value\" of missing values in the specific column `col`.\n",
    "\n",
    "**Coding Assignment** Write a function the \n",
    "* Creates a missing-value flag for each numerical column\n",
    "* Impute numerical columns with median, mode or a constant\n",
    "* Impute categorical columns with missing token `xxna`"
   ]
  },
  {
   "cell_type": "code",
   "execution_count": 30,
   "metadata": {},
   "outputs": [],
   "source": [
    "'''\n",
    "Fill in the codes\n",
    "'''\n",
    "def missingify(df):\n",
    "    pass"
   ]
  },
  {
   "cell_type": "code",
   "execution_count": 31,
   "metadata": {},
   "outputs": [
    {
     "name": "stdout",
     "output_type": "stream",
     "text": [
      "Index(['id', 'brand', 'series', 'model', 'gen', 'color', 'gear', 'gas',\n",
      "       'description', 'contact_location', 'month_scraped', 'dow'],\n",
      "      dtype='object')\n"
     ]
    },
    {
     "data": {
      "text/html": [
       "<div>\n",
       "<style scoped>\n",
       "    .dataframe tbody tr th:only-of-type {\n",
       "        vertical-align: middle;\n",
       "    }\n",
       "\n",
       "    .dataframe tbody tr th {\n",
       "        vertical-align: top;\n",
       "    }\n",
       "\n",
       "    .dataframe thead th {\n",
       "        text-align: right;\n",
       "    }\n",
       "</style>\n",
       "<table border=\"1\" class=\"dataframe\">\n",
       "  <thead>\n",
       "    <tr style=\"text-align: right;\">\n",
       "      <th></th>\n",
       "      <th>id</th>\n",
       "      <th>brand</th>\n",
       "      <th>series</th>\n",
       "      <th>model</th>\n",
       "      <th>gen</th>\n",
       "      <th>color</th>\n",
       "      <th>gear</th>\n",
       "      <th>gas</th>\n",
       "      <th>description</th>\n",
       "      <th>contact_location</th>\n",
       "      <th>...</th>\n",
       "      <th>subscribers</th>\n",
       "      <th>date_diff</th>\n",
       "      <th>year_scraped</th>\n",
       "      <th>year_missing</th>\n",
       "      <th>sales_price_missing</th>\n",
       "      <th>original_price_missing</th>\n",
       "      <th>market_price_missing</th>\n",
       "      <th>subscribers_missing</th>\n",
       "      <th>date_diff_missing</th>\n",
       "      <th>year_scraped_missing</th>\n",
       "    </tr>\n",
       "  </thead>\n",
       "  <tbody>\n",
       "    <tr>\n",
       "      <th>0</th>\n",
       "      <td>2218322</td>\n",
       "      <td>BMW</td>\n",
       "      <td>SERIES 3</td>\n",
       "      <td>320 i</td>\n",
       "      <td>F30</td>\n",
       "      <td>สีขาว</td>\n",
       "      <td>เกียร์ออโต้</td>\n",
       "      <td>xxna</td>\n",
       "      <td>BMW 320i Modern ปี 2013 รถมือเดียวภายในภายนอกด...</td>\n",
       "      <td>กรุงเทพมหานคร</td>\n",
       "      <td>...</td>\n",
       "      <td>858.0</td>\n",
       "      <td>4.0</td>\n",
       "      <td>2019.0</td>\n",
       "      <td>0.0</td>\n",
       "      <td>0.0</td>\n",
       "      <td>0.0</td>\n",
       "      <td>0.0</td>\n",
       "      <td>0.0</td>\n",
       "      <td>1.0</td>\n",
       "      <td>0.0</td>\n",
       "    </tr>\n",
       "    <tr>\n",
       "      <th>1</th>\n",
       "      <td>2225742</td>\n",
       "      <td>TOYOTA</td>\n",
       "      <td>VENTURY</td>\n",
       "      <td>2.7 G</td>\n",
       "      <td>ปี05-ปัจจุบัน</td>\n",
       "      <td>สีขาว</td>\n",
       "      <td>เกียร์ออโต้</td>\n",
       "      <td>LPG</td>\n",
       "      <td>ฟรีดาวนventury G ออโต้ปี2011รถสวยมากมือเดียวไม...</td>\n",
       "      <td>กรุงเทพฯ</td>\n",
       "      <td>...</td>\n",
       "      <td>137.0</td>\n",
       "      <td>4.0</td>\n",
       "      <td>2019.0</td>\n",
       "      <td>0.0</td>\n",
       "      <td>0.0</td>\n",
       "      <td>1.0</td>\n",
       "      <td>1.0</td>\n",
       "      <td>0.0</td>\n",
       "      <td>1.0</td>\n",
       "      <td>0.0</td>\n",
       "    </tr>\n",
       "    <tr>\n",
       "      <th>2</th>\n",
       "      <td>2229350</td>\n",
       "      <td>BENZ</td>\n",
       "      <td>E-CLASS</td>\n",
       "      <td>E55 AMG</td>\n",
       "      <td>W211</td>\n",
       "      <td>สีบรอนซ์เงิน</td>\n",
       "      <td>เกียร์ออโต้</td>\n",
       "      <td>xxna</td>\n",
       "      <td>E55 AMG V8 SuperCharge Tune by Zugus 500hp++ 7...</td>\n",
       "      <td>นนทบุรี</td>\n",
       "      <td>...</td>\n",
       "      <td>960.0</td>\n",
       "      <td>4.0</td>\n",
       "      <td>2019.0</td>\n",
       "      <td>0.0</td>\n",
       "      <td>0.0</td>\n",
       "      <td>1.0</td>\n",
       "      <td>1.0</td>\n",
       "      <td>0.0</td>\n",
       "      <td>1.0</td>\n",
       "      <td>0.0</td>\n",
       "    </tr>\n",
       "    <tr>\n",
       "      <th>3</th>\n",
       "      <td>2220134</td>\n",
       "      <td>HYUNDAI</td>\n",
       "      <td>GRAND STAREX</td>\n",
       "      <td>2.5 VIP</td>\n",
       "      <td>ปี10-2018</td>\n",
       "      <td>สีบรอนซ์เงิน</td>\n",
       "      <td>เกียร์ออโต้</td>\n",
       "      <td>xxna</td>\n",
       "      <td>HYUNDAI GRAND STAREX 2.5 VIP ปี 2011\\n- auto a...</td>\n",
       "      <td>จังหวัดกรุงเทพฯ</td>\n",
       "      <td>...</td>\n",
       "      <td>74.0</td>\n",
       "      <td>4.0</td>\n",
       "      <td>2019.0</td>\n",
       "      <td>0.0</td>\n",
       "      <td>0.0</td>\n",
       "      <td>0.0</td>\n",
       "      <td>0.0</td>\n",
       "      <td>0.0</td>\n",
       "      <td>1.0</td>\n",
       "      <td>0.0</td>\n",
       "    </tr>\n",
       "    <tr>\n",
       "      <th>4</th>\n",
       "      <td>2218992</td>\n",
       "      <td>LANDROVER</td>\n",
       "      <td>DISCOVERY</td>\n",
       "      <td>V8 XS</td>\n",
       "      <td>DISCOVERY</td>\n",
       "      <td>สีดำ</td>\n",
       "      <td>เกียร์ออโต้</td>\n",
       "      <td>xxna</td>\n",
       "      <td>ขายLand Rover Discovery 2 ปี 2001 เบนซิน วิ่งด...</td>\n",
       "      <td>กรุงเทพมหานคร</td>\n",
       "      <td>...</td>\n",
       "      <td>60.0</td>\n",
       "      <td>4.0</td>\n",
       "      <td>2019.0</td>\n",
       "      <td>0.0</td>\n",
       "      <td>0.0</td>\n",
       "      <td>1.0</td>\n",
       "      <td>1.0</td>\n",
       "      <td>0.0</td>\n",
       "      <td>1.0</td>\n",
       "      <td>0.0</td>\n",
       "    </tr>\n",
       "  </tbody>\n",
       "</table>\n",
       "<p>5 rows × 26 columns</p>\n",
       "</div>"
      ],
      "text/plain": [
       "        id      brand        series    model            gen         color  \\\n",
       "0  2218322        BMW      SERIES 3    320 i            F30         สีขาว   \n",
       "1  2225742     TOYOTA       VENTURY    2.7 G  ปี05-ปัจจุบัน         สีขาว   \n",
       "2  2229350       BENZ       E-CLASS  E55 AMG           W211  สีบรอนซ์เงิน   \n",
       "3  2220134    HYUNDAI  GRAND STAREX  2.5 VIP      ปี10-2018  สีบรอนซ์เงิน   \n",
       "4  2218992  LANDROVER     DISCOVERY    V8 XS      DISCOVERY          สีดำ   \n",
       "\n",
       "          gear   gas                                        description  \\\n",
       "0  เกียร์ออโต้  xxna  BMW 320i Modern ปี 2013 รถมือเดียวภายในภายนอกด...   \n",
       "1  เกียร์ออโต้   LPG  ฟรีดาวนventury G ออโต้ปี2011รถสวยมากมือเดียวไม...   \n",
       "2  เกียร์ออโต้  xxna  E55 AMG V8 SuperCharge Tune by Zugus 500hp++ 7...   \n",
       "3  เกียร์ออโต้  xxna  HYUNDAI GRAND STAREX 2.5 VIP ปี 2011\\n- auto a...   \n",
       "4  เกียร์ออโต้  xxna  ขายLand Rover Discovery 2 ปี 2001 เบนซิน วิ่งด...   \n",
       "\n",
       "  contact_location  ... subscribers date_diff  year_scraped  year_missing  \\\n",
       "0    กรุงเทพมหานคร  ...       858.0       4.0        2019.0           0.0   \n",
       "1         กรุงเทพฯ  ...       137.0       4.0        2019.0           0.0   \n",
       "2          นนทบุรี  ...       960.0       4.0        2019.0           0.0   \n",
       "3  จังหวัดกรุงเทพฯ  ...        74.0       4.0        2019.0           0.0   \n",
       "4    กรุงเทพมหานคร  ...        60.0       4.0        2019.0           0.0   \n",
       "\n",
       "   sales_price_missing  original_price_missing  market_price_missing  \\\n",
       "0                  0.0                     0.0                   0.0   \n",
       "1                  0.0                     1.0                   1.0   \n",
       "2                  0.0                     1.0                   1.0   \n",
       "3                  0.0                     0.0                   0.0   \n",
       "4                  0.0                     1.0                   1.0   \n",
       "\n",
       "   subscribers_missing  date_diff_missing  year_scraped_missing  \n",
       "0                  0.0                1.0                   0.0  \n",
       "1                  0.0                1.0                   0.0  \n",
       "2                  0.0                1.0                   0.0  \n",
       "3                  0.0                1.0                   0.0  \n",
       "4                  0.0                1.0                   0.0  \n",
       "\n",
       "[5 rows x 26 columns]"
      ]
     },
     "execution_count": 31,
     "metadata": {},
     "output_type": "execute_result"
    }
   ],
   "source": [
    "df_m = utils.missingify(df)\n",
    "df_m.head()"
   ]
  },
  {
   "cell_type": "markdown",
   "metadata": {},
   "source": [
    "## Fuzzy Matching"
   ]
  },
  {
   "cell_type": "markdown",
   "metadata": {},
   "source": [
    "One of the most unique problems for Thai data scientists is the way we write province names; for instance, Bangkok can be กรุงเทพ, กรุงเทพฯ, กรุงเทพมหานครฯ or กรุงเทพมหานคร. In this case, we can use [Levenshtein distance](https://en.wikipedia.org/wiki/Levenshtein_distance), basically how many times one string needs to be added, substituted, or removed to become the other string, to find if these values are actually the same values. In Python, we can use [fuzzywuzzy](https://github.com/seatgeek/fuzzywuzzy) to do this task."
   ]
  },
  {
   "cell_type": "code",
   "execution_count": 32,
   "metadata": {},
   "outputs": [
    {
     "data": {
      "text/plain": [
       "กรุงเทพฯ           6544\n",
       "กรุงเทพมหานคร      1724\n",
       "จังหวัดกรุงเทพฯ    1652\n",
       "กรุงเทพ            1296\n",
       "เมืองกรุงเทพฯ      1081\n",
       "นนทบุรี             629\n",
       "ปทุมธานี            246\n",
       "ชลบุรี              176\n",
       "สมุทรปราการ         133\n",
       "นครปฐม               95\n",
       "Name: contact_location, dtype: int64"
      ]
     },
     "execution_count": 32,
     "metadata": {},
     "output_type": "execute_result"
    }
   ],
   "source": [
    "df.contact_location.value_counts().head(10)"
   ]
  },
  {
   "cell_type": "code",
   "execution_count": 33,
   "metadata": {},
   "outputs": [
    {
     "data": {
      "text/plain": [
       "67"
      ]
     },
     "execution_count": 33,
     "metadata": {},
     "output_type": "execute_result"
    }
   ],
   "source": [
    "from fuzzywuzzy import fuzz\n",
    "fuzz.ratio('กรุงเทพมหานคร','กรุงเทพฯ')"
   ]
  },
  {
   "cell_type": "code",
   "execution_count": 34,
   "metadata": {},
   "outputs": [
    {
     "data": {
      "text/plain": [
       "88"
      ]
     },
     "execution_count": 34,
     "metadata": {},
     "output_type": "execute_result"
    }
   ],
   "source": [
    "#partial ratio calculates the max of all substring matching, so it fits better with our use case\n",
    "fuzz.partial_ratio('กรุงเทพมหานคร','กรุงเทพฯ')"
   ]
  },
  {
   "cell_type": "code",
   "execution_count": 35,
   "metadata": {},
   "outputs": [
    {
     "data": {
      "text/plain": [
       "64"
      ]
     },
     "execution_count": 35,
     "metadata": {},
     "output_type": "execute_result"
    }
   ],
   "source": [
    "#we have 64 unique values so we will compute 64! times the fuzzy ratio\n",
    "df.contact_location.nunique()"
   ]
  },
  {
   "cell_type": "markdown",
   "metadata": {},
   "source": [
    "**Coding Assignment** Use `fuzzywuzzy` to create a function that returns a dictionary for fuzzy values."
   ]
  },
  {
   "cell_type": "code",
   "execution_count": 36,
   "metadata": {},
   "outputs": [],
   "source": [
    "def fuzzy_dict(df, col, fuzz_fn, th=90):\n",
    "    pass"
   ]
  },
  {
   "cell_type": "code",
   "execution_count": 37,
   "metadata": {},
   "outputs": [
    {
     "data": {
      "text/plain": [
       "{'กรุงเทพมหานคร': 'กรุงเทพ',\n",
       " 'กรุงเทพฯ': 'กรุงเทพ',\n",
       " 'นนทบุรี': 'นนทบุรี',\n",
       " 'จังหวัดกรุงเทพฯ': 'กรุงเทพ',\n",
       " 'เมืองกรุงเทพฯ': 'กรุงเทพ',\n",
       " 'สมุทรสาคร': 'สมุทรสาคร',\n",
       " 'ฉะเชิงเทรา': 'ฉะเชิงเทรา',\n",
       " 'สมุทรปราการ': 'สมุทรปราการ',\n",
       " 'ปทุมธานี': 'ปทุมธานี',\n",
       " 'กรุงเทพ': 'กรุงเทพ',\n",
       " 'ชลบุรี': 'ชลบุรี',\n",
       " 'นครพนม': 'นครพนม',\n",
       " 'นครปฐม': 'นครปฐม',\n",
       " 'พิษณุโลก': 'พิษณุโลก',\n",
       " 'สงขลา': 'สงขลา',\n",
       " 'นครศรีธรรมราช': 'นครศรีธรรมราช',\n",
       " 'ภูเก็ต': 'ภูเก็ต',\n",
       " 'สมุทรสงคราม': 'สมุทรสงคราม',\n",
       " 'สุพรรณบุรี': 'สุพรรณบุรี',\n",
       " 'นครราชสีมา': 'นครราชสีมา',\n",
       " 'ลำปาง': 'ลำปาง',\n",
       " 'อยุธยา': 'อยุธยา',\n",
       " 'เชียงราย': 'เชียงราย',\n",
       " 'ขอนแก่น': 'ขอนแก่น',\n",
       " 'เชียงใหม่': 'เชียงใหม่',\n",
       " 'อุดรธานี': 'อุดรธานี',\n",
       " 'หนองบัวลำภู': 'หนองบัวลำภู',\n",
       " 'ราชบุรี': 'ราชบุรี',\n",
       " 'ระยอง': 'ระยอง',\n",
       " 'ลพบุรี': 'ลพบุรี',\n",
       " 'สระบุรี': 'สระบุรี',\n",
       " 'ชัยภูมิ': 'ชัยภูมิ',\n",
       " 'ชัยนาท': 'ชัยนาท',\n",
       " 'จันทบุรี': 'จันทบุรี',\n",
       " 'เพชรบูรณ์': 'เพชรบูรณ์',\n",
       " 'ประจวบคีรีขันธ์': 'ประจวบคีรีขันธ์',\n",
       " 'อุบลราชธานี': 'อุบลราชธานี',\n",
       " 'มหาสารคาม': 'มหาสารคาม',\n",
       " 'กาญจนบุรี': 'กาญจนบุรี',\n",
       " 'เพชรบุรี': 'เพชรบุรี',\n",
       " 'สตูล': 'สตูล',\n",
       " 'สกลนคร': 'สกลนคร',\n",
       " 'ตาก': 'ตาก',\n",
       " 'สิงหบุรี': 'สิงหบุรี',\n",
       " 'หนองคาย': 'หนองคาย',\n",
       " 'สุราษฎร์ธานี': 'สุราษฎร์ธานี',\n",
       " 'ปราจีนบุรี': 'ปราจีนบุรี',\n",
       " 'พิจิตร': 'พิจิตร',\n",
       " 'กาฬสินธ์': 'กาฬสินธ์',\n",
       " 'แพร่': 'แพร่',\n",
       " 'สุรินทร์': 'สุรินทร์',\n",
       " 'พัทลุง': 'พัทลุง',\n",
       " 'ยะลา': 'ยะลา',\n",
       " 'กระบี่': 'กระบี่',\n",
       " 'บุรีรัมย์': 'บุรีรัมย์',\n",
       " 'สระแก้ว': 'สระแก้ว',\n",
       " 'กำแพงเพชร': 'กำแพงเพชร',\n",
       " 'ร้อยเอ็ด': 'ร้อยเอ็ด',\n",
       " 'นครนายก': 'นครนายก',\n",
       " 'เลย': 'เลย',\n",
       " 'บึงกาฬ': 'บึงกาฬ',\n",
       " 'ชุมพร': 'ชุมพร',\n",
       " 'ศรีสะเกษ': 'ศรีสะเกษ',\n",
       " 'มุกดาหาร': 'มุกดาหาร'}"
      ]
     },
     "execution_count": 37,
     "metadata": {},
     "output_type": "execute_result"
    }
   ],
   "source": [
    "d = utils.fuzzy_dict(df,'contact_location',fuzz.partial_ratio,90)\n",
    "d"
   ]
  },
  {
   "cell_type": "code",
   "execution_count": 38,
   "metadata": {},
   "outputs": [
    {
     "data": {
      "text/plain": [
       "กรุงเทพ        12297\n",
       "นนทบุรี          629\n",
       "ปทุมธานี         246\n",
       "ชลบุรี           176\n",
       "สมุทรปราการ      133\n",
       "Name: contact_location, dtype: int64"
      ]
     },
     "execution_count": 38,
     "metadata": {},
     "output_type": "execute_result"
    }
   ],
   "source": [
    "df = utils.otherify(df,'contact_location',d)\n",
    "df.contact_location.value_counts().head()"
   ]
  },
  {
   "cell_type": "markdown",
   "metadata": {},
   "source": [
    "## Categorical Value Distribution"
   ]
  },
  {
   "cell_type": "code",
   "execution_count": 39,
   "metadata": {},
   "outputs": [],
   "source": [
    "def value_dist(df,col):\n",
    "    pass\n",
    "#return distribution of values in each column"
   ]
  },
  {
   "cell_type": "code",
   "execution_count": 40,
   "metadata": {},
   "outputs": [
    {
     "data": {
      "text/html": [
       "<div>\n",
       "<style scoped>\n",
       "    .dataframe tbody tr th:only-of-type {\n",
       "        vertical-align: middle;\n",
       "    }\n",
       "\n",
       "    .dataframe tbody tr th {\n",
       "        vertical-align: top;\n",
       "    }\n",
       "\n",
       "    .dataframe thead th {\n",
       "        text-align: right;\n",
       "    }\n",
       "</style>\n",
       "<table border=\"1\" class=\"dataframe\">\n",
       "  <thead>\n",
       "    <tr style=\"text-align: right;\">\n",
       "      <th></th>\n",
       "      <th>value</th>\n",
       "      <th>cnt</th>\n",
       "      <th>per</th>\n",
       "    </tr>\n",
       "  </thead>\n",
       "  <tbody>\n",
       "    <tr>\n",
       "      <th>0</th>\n",
       "      <td>สีขาว</td>\n",
       "      <td>4207</td>\n",
       "      <td>0.299708</td>\n",
       "    </tr>\n",
       "    <tr>\n",
       "      <th>1</th>\n",
       "      <td>สีดำ</td>\n",
       "      <td>2848</td>\n",
       "      <td>0.202892</td>\n",
       "    </tr>\n",
       "    <tr>\n",
       "      <th>2</th>\n",
       "      <td>สีเทา</td>\n",
       "      <td>2740</td>\n",
       "      <td>0.195198</td>\n",
       "    </tr>\n",
       "    <tr>\n",
       "      <th>3</th>\n",
       "      <td>สีบรอนซ์เงิน</td>\n",
       "      <td>1879</td>\n",
       "      <td>0.133861</td>\n",
       "    </tr>\n",
       "    <tr>\n",
       "      <th>4</th>\n",
       "      <td>สีน้ำตาล</td>\n",
       "      <td>607</td>\n",
       "      <td>0.043243</td>\n",
       "    </tr>\n",
       "    <tr>\n",
       "      <th>5</th>\n",
       "      <td>สีบรอนซ์ทอง</td>\n",
       "      <td>395</td>\n",
       "      <td>0.028140</td>\n",
       "    </tr>\n",
       "    <tr>\n",
       "      <th>6</th>\n",
       "      <td>สีแดง</td>\n",
       "      <td>380</td>\n",
       "      <td>0.027071</td>\n",
       "    </tr>\n",
       "    <tr>\n",
       "      <th>7</th>\n",
       "      <td>สีน้ำเงิน</td>\n",
       "      <td>341</td>\n",
       "      <td>0.024293</td>\n",
       "    </tr>\n",
       "    <tr>\n",
       "      <th>8</th>\n",
       "      <td>สีฟ้า</td>\n",
       "      <td>206</td>\n",
       "      <td>0.014676</td>\n",
       "    </tr>\n",
       "    <tr>\n",
       "      <th>9</th>\n",
       "      <td>สีเขียว</td>\n",
       "      <td>178</td>\n",
       "      <td>0.012681</td>\n",
       "    </tr>\n",
       "    <tr>\n",
       "      <th>10</th>\n",
       "      <td>สีส้ม</td>\n",
       "      <td>143</td>\n",
       "      <td>0.010187</td>\n",
       "    </tr>\n",
       "    <tr>\n",
       "      <th>11</th>\n",
       "      <td>สีเหลือง</td>\n",
       "      <td>62</td>\n",
       "      <td>0.004417</td>\n",
       "    </tr>\n",
       "    <tr>\n",
       "      <th>12</th>\n",
       "      <td>สีม่วง</td>\n",
       "      <td>31</td>\n",
       "      <td>0.002208</td>\n",
       "    </tr>\n",
       "    <tr>\n",
       "      <th>13</th>\n",
       "      <td>สีครีม</td>\n",
       "      <td>10</td>\n",
       "      <td>0.000712</td>\n",
       "    </tr>\n",
       "    <tr>\n",
       "      <th>14</th>\n",
       "      <td>สีชมพู</td>\n",
       "      <td>10</td>\n",
       "      <td>0.000712</td>\n",
       "    </tr>\n",
       "  </tbody>\n",
       "</table>\n",
       "</div>"
      ],
      "text/plain": [
       "           value   cnt       per\n",
       "0          สีขาว  4207  0.299708\n",
       "1           สีดำ  2848  0.202892\n",
       "2          สีเทา  2740  0.195198\n",
       "3   สีบรอนซ์เงิน  1879  0.133861\n",
       "4       สีน้ำตาล   607  0.043243\n",
       "5    สีบรอนซ์ทอง   395  0.028140\n",
       "6          สีแดง   380  0.027071\n",
       "7      สีน้ำเงิน   341  0.024293\n",
       "8          สีฟ้า   206  0.014676\n",
       "9        สีเขียว   178  0.012681\n",
       "10         สีส้ม   143  0.010187\n",
       "11      สีเหลือง    62  0.004417\n",
       "12        สีม่วง    31  0.002208\n",
       "13        สีครีม    10  0.000712\n",
       "14        สีชมพู    10  0.000712"
      ]
     },
     "execution_count": 40,
     "metadata": {},
     "output_type": "execute_result"
    }
   ],
   "source": [
    "utils.value_dist(df,'color')"
   ]
  },
  {
   "cell_type": "code",
   "execution_count": 41,
   "metadata": {
    "scrolled": false
   },
   "outputs": [
    {
     "data": {
      "application/vnd.jupyter.widget-view+json": {
       "model_id": "465efc44216e47c89d791286a8cfa9d5",
       "version_major": 2,
       "version_minor": 0
      },
      "text/plain": [
       "interactive(children=(Dropdown(description='col', index=1, options=('id', 'brand', 'series', 'model', 'gen', '…"
      ]
     },
     "metadata": {},
     "output_type": "display_data"
    },
    {
     "data": {
      "text/plain": [
       "<function utils.value_dist(df, col)>"
      ]
     },
     "execution_count": 41,
     "metadata": {},
     "output_type": "execute_result"
    }
   ],
   "source": [
    "interact(utils.value_dist, \n",
    "         df=fixed(df.select_dtypes(exclude=[np.number])),\n",
    "         col=widgets.Dropdown(options=df.select_dtypes(exclude=[np.number]).columns, \n",
    "         value='brand'))"
   ]
  },
  {
   "cell_type": "markdown",
   "metadata": {},
   "source": [
    "**Coding Assignment** Write a function that creates a table for mode values of all columns. The output should tell us the percentage of the mode values present in the column, what the mode is, and how many unique values there are in the column. \n",
    "\n",
    "After seeing this table, which columns do you think we should drop and why?"
   ]
  },
  {
   "cell_type": "code",
   "execution_count": 42,
   "metadata": {},
   "outputs": [],
   "source": [
    "def check_mode(df):\n",
    "    pass\n",
    "#return the most popular value of each column and what is the percentage of that value"
   ]
  },
  {
   "cell_type": "code",
   "execution_count": 43,
   "metadata": {},
   "outputs": [
    {
     "data": {
      "text/html": [
       "<div>\n",
       "<style scoped>\n",
       "    .dataframe tbody tr th:only-of-type {\n",
       "        vertical-align: middle;\n",
       "    }\n",
       "\n",
       "    .dataframe tbody tr th {\n",
       "        vertical-align: top;\n",
       "    }\n",
       "\n",
       "    .dataframe thead th {\n",
       "        text-align: right;\n",
       "    }\n",
       "</style>\n",
       "<table border=\"1\" class=\"dataframe\">\n",
       "  <thead>\n",
       "    <tr style=\"text-align: right;\">\n",
       "      <th></th>\n",
       "      <th>col</th>\n",
       "      <th>value</th>\n",
       "      <th>per_mode</th>\n",
       "      <th>nb_value</th>\n",
       "    </tr>\n",
       "  </thead>\n",
       "  <tbody>\n",
       "    <tr>\n",
       "      <th>0</th>\n",
       "      <td>month_scraped</td>\n",
       "      <td>5</td>\n",
       "      <td>1.000000</td>\n",
       "      <td>1</td>\n",
       "    </tr>\n",
       "    <tr>\n",
       "      <th>1</th>\n",
       "      <td>year_scraped</td>\n",
       "      <td>2019</td>\n",
       "      <td>1.000000</td>\n",
       "      <td>1</td>\n",
       "    </tr>\n",
       "    <tr>\n",
       "      <th>2</th>\n",
       "      <td>gas</td>\n",
       "      <td>xxna</td>\n",
       "      <td>0.936525</td>\n",
       "      <td>3</td>\n",
       "    </tr>\n",
       "    <tr>\n",
       "      <th>3</th>\n",
       "      <td>contact_location</td>\n",
       "      <td>กรุงเทพ</td>\n",
       "      <td>0.876042</td>\n",
       "      <td>60</td>\n",
       "    </tr>\n",
       "    <tr>\n",
       "      <th>4</th>\n",
       "      <td>dow</td>\n",
       "      <td>2</td>\n",
       "      <td>0.825960</td>\n",
       "      <td>4</td>\n",
       "    </tr>\n",
       "    <tr>\n",
       "      <th>5</th>\n",
       "      <td>gear</td>\n",
       "      <td>เกียร์ออโต้</td>\n",
       "      <td>0.801952</td>\n",
       "      <td>2</td>\n",
       "    </tr>\n",
       "    <tr>\n",
       "      <th>6</th>\n",
       "      <td>brand</td>\n",
       "      <td>TOYOTA</td>\n",
       "      <td>0.301133</td>\n",
       "      <td>49</td>\n",
       "    </tr>\n",
       "    <tr>\n",
       "      <th>7</th>\n",
       "      <td>color</td>\n",
       "      <td>สีขาว</td>\n",
       "      <td>0.299708</td>\n",
       "      <td>15</td>\n",
       "    </tr>\n",
       "    <tr>\n",
       "      <th>8</th>\n",
       "      <td>year</td>\n",
       "      <td>2013</td>\n",
       "      <td>0.123246</td>\n",
       "      <td>40</td>\n",
       "    </tr>\n",
       "    <tr>\n",
       "      <th>9</th>\n",
       "      <td>gen</td>\n",
       "      <td>ปี12-ปัจจุบัน</td>\n",
       "      <td>0.058203</td>\n",
       "      <td>451</td>\n",
       "    </tr>\n",
       "    <tr>\n",
       "      <th>10</th>\n",
       "      <td>series</td>\n",
       "      <td>HILUX VIGO</td>\n",
       "      <td>0.049156</td>\n",
       "      <td>360</td>\n",
       "    </tr>\n",
       "    <tr>\n",
       "      <th>11</th>\n",
       "      <td>date_diff</td>\n",
       "      <td>5</td>\n",
       "      <td>0.045523</td>\n",
       "      <td>7</td>\n",
       "    </tr>\n",
       "    <tr>\n",
       "      <th>12</th>\n",
       "      <td>subscribers</td>\n",
       "      <td>996</td>\n",
       "      <td>0.021871</td>\n",
       "      <td>335</td>\n",
       "    </tr>\n",
       "    <tr>\n",
       "      <th>13</th>\n",
       "      <td>model</td>\n",
       "      <td>2.0 G</td>\n",
       "      <td>0.021158</td>\n",
       "      <td>1310</td>\n",
       "    </tr>\n",
       "    <tr>\n",
       "      <th>14</th>\n",
       "      <td>sales_price</td>\n",
       "      <td>399000</td>\n",
       "      <td>0.019306</td>\n",
       "      <td>1090</td>\n",
       "    </tr>\n",
       "    <tr>\n",
       "      <th>15</th>\n",
       "      <td>market_price</td>\n",
       "      <td>599000</td>\n",
       "      <td>0.012325</td>\n",
       "      <td>401</td>\n",
       "    </tr>\n",
       "    <tr>\n",
       "      <th>16</th>\n",
       "      <td>original_price</td>\n",
       "      <td>599000</td>\n",
       "      <td>0.012325</td>\n",
       "      <td>401</td>\n",
       "    </tr>\n",
       "    <tr>\n",
       "      <th>17</th>\n",
       "      <td>description</td>\n",
       "      <td>MINI Contryman Cooper S ALL 4 ไมล์น้อย62,000โล...</td>\n",
       "      <td>0.000071</td>\n",
       "      <td>14037</td>\n",
       "    </tr>\n",
       "    <tr>\n",
       "      <th>18</th>\n",
       "      <td>id</td>\n",
       "      <td>2216019</td>\n",
       "      <td>0.000071</td>\n",
       "      <td>14037</td>\n",
       "    </tr>\n",
       "  </tbody>\n",
       "</table>\n",
       "</div>"
      ],
      "text/plain": [
       "                 col                                              value  \\\n",
       "0      month_scraped                                                  5   \n",
       "1       year_scraped                                               2019   \n",
       "2                gas                                               xxna   \n",
       "3   contact_location                                            กรุงเทพ   \n",
       "4                dow                                                  2   \n",
       "5               gear                                        เกียร์ออโต้   \n",
       "6              brand                                             TOYOTA   \n",
       "7              color                                              สีขาว   \n",
       "8               year                                               2013   \n",
       "9                gen                                      ปี12-ปัจจุบัน   \n",
       "10            series                                         HILUX VIGO   \n",
       "11         date_diff                                                  5   \n",
       "12       subscribers                                                996   \n",
       "13             model                                              2.0 G   \n",
       "14       sales_price                                             399000   \n",
       "15      market_price                                             599000   \n",
       "16    original_price                                             599000   \n",
       "17       description  MINI Contryman Cooper S ALL 4 ไมล์น้อย62,000โล...   \n",
       "18                id                                            2216019   \n",
       "\n",
       "    per_mode  nb_value  \n",
       "0   1.000000         1  \n",
       "1   1.000000         1  \n",
       "2   0.936525         3  \n",
       "3   0.876042        60  \n",
       "4   0.825960         4  \n",
       "5   0.801952         2  \n",
       "6   0.301133        49  \n",
       "7   0.299708        15  \n",
       "8   0.123246        40  \n",
       "9   0.058203       451  \n",
       "10  0.049156       360  \n",
       "11  0.045523         7  \n",
       "12  0.021871       335  \n",
       "13  0.021158      1310  \n",
       "14  0.019306      1090  \n",
       "15  0.012325       401  \n",
       "16  0.012325       401  \n",
       "17  0.000071     14037  \n",
       "18  0.000071     14037  "
      ]
     },
     "execution_count": 43,
     "metadata": {},
     "output_type": "execute_result"
    }
   ],
   "source": [
    "utils.check_mode(df.loc[:,~df.columns.str.contains('missing')])"
   ]
  },
  {
   "cell_type": "code",
   "execution_count": 45,
   "metadata": {},
   "outputs": [],
   "source": [
    "df = df.drop(['id','year_scraped','month_scraped'],1)"
   ]
  },
  {
   "cell_type": "markdown",
   "metadata": {},
   "source": [
    "**Coding Assignment** Implement the `other_dict` to create mapping dictionaries for otherification by `otherify` function. Otherify your columns as you like.\n",
    "\n",
    "(Hint: reuse the `value_dist` function for `other_dict`)."
   ]
  },
  {
   "cell_type": "code",
   "execution_count": 46,
   "metadata": {},
   "outputs": [],
   "source": [
    "'''\n",
    "Fill in the codes\n",
    "'''\n",
    "def other_dict(df, col, th=0.03):\n",
    "    pass\n",
    "\n",
    "def otherify(df, col, d):\n",
    "    pass"
   ]
  },
  {
   "cell_type": "code",
   "execution_count": 47,
   "metadata": {},
   "outputs": [],
   "source": [
    "other_cols = ['brand', 'series', 'model', 'gen', 'color', 'gear', 'gas','contact_location', 'dow']\n",
    "ds = []\n",
    "for col in other_cols:\n",
    "    d = utils.other_dict(df,col,0.03)\n",
    "    ds.append(d)\n",
    "    df = utils.otherify(df,col,d)"
   ]
  },
  {
   "cell_type": "code",
   "execution_count": 48,
   "metadata": {},
   "outputs": [
    {
     "data": {
      "application/vnd.jupyter.widget-view+json": {
       "model_id": "758f3eb79f8e4bc1a02c903e13db02f4",
       "version_major": 2,
       "version_minor": 0
      },
      "text/plain": [
       "interactive(children=(Dropdown(description='col', options=('brand', 'series', 'model', 'gen', 'color', 'gear',…"
      ]
     },
     "metadata": {},
     "output_type": "display_data"
    },
    {
     "data": {
      "text/plain": [
       "<function utils.value_dist(df, col)>"
      ]
     },
     "execution_count": 48,
     "metadata": {},
     "output_type": "execute_result"
    }
   ],
   "source": [
    "interact(utils.value_dist, \n",
    "         df=fixed(df.select_dtypes(exclude=[np.number])),\n",
    "         col=widgets.Dropdown(options=df.select_dtypes(exclude=[np.number]).columns, \n",
    "         value='brand'))"
   ]
  },
  {
   "cell_type": "code",
   "execution_count": 49,
   "metadata": {},
   "outputs": [],
   "source": [
    "df = df.drop(['model'],1)\n",
    "df.to_csv('data/taladrod/taladrod.csv',index=False)"
   ]
  },
  {
   "cell_type": "markdown",
   "metadata": {},
   "source": [
    "## Numerical Value Distribution"
   ]
  },
  {
   "cell_type": "markdown",
   "metadata": {},
   "source": [
    "**Conceptual Assignment** Is there anything wrong about looking at the numerical value distribution this way?"
   ]
  },
  {
   "cell_type": "code",
   "execution_count": 50,
   "metadata": {},
   "outputs": [
    {
     "data": {
      "text/html": [
       "<div>\n",
       "<style scoped>\n",
       "    .dataframe tbody tr th:only-of-type {\n",
       "        vertical-align: middle;\n",
       "    }\n",
       "\n",
       "    .dataframe tbody tr th {\n",
       "        vertical-align: top;\n",
       "    }\n",
       "\n",
       "    .dataframe thead th {\n",
       "        text-align: right;\n",
       "    }\n",
       "</style>\n",
       "<table border=\"1\" class=\"dataframe\">\n",
       "  <thead>\n",
       "    <tr style=\"text-align: right;\">\n",
       "      <th></th>\n",
       "      <th>year</th>\n",
       "      <th>sales_price</th>\n",
       "      <th>original_price</th>\n",
       "      <th>market_price</th>\n",
       "      <th>subscribers</th>\n",
       "      <th>date_diff</th>\n",
       "    </tr>\n",
       "  </thead>\n",
       "  <tbody>\n",
       "    <tr>\n",
       "      <th>0</th>\n",
       "      <td>2013.0</td>\n",
       "      <td>1090000.0</td>\n",
       "      <td>2697000.0</td>\n",
       "      <td>2697000.0</td>\n",
       "      <td>858.0</td>\n",
       "      <td>NaN</td>\n",
       "    </tr>\n",
       "    <tr>\n",
       "      <th>1</th>\n",
       "      <td>2009.0</td>\n",
       "      <td>489000.0</td>\n",
       "      <td>NaN</td>\n",
       "      <td>NaN</td>\n",
       "      <td>137.0</td>\n",
       "      <td>NaN</td>\n",
       "    </tr>\n",
       "    <tr>\n",
       "      <th>2</th>\n",
       "      <td>2004.0</td>\n",
       "      <td>999000.0</td>\n",
       "      <td>NaN</td>\n",
       "      <td>NaN</td>\n",
       "      <td>960.0</td>\n",
       "      <td>NaN</td>\n",
       "    </tr>\n",
       "    <tr>\n",
       "      <th>3</th>\n",
       "      <td>2011.0</td>\n",
       "      <td>839000.0</td>\n",
       "      <td>1978000.0</td>\n",
       "      <td>1978000.0</td>\n",
       "      <td>74.0</td>\n",
       "      <td>NaN</td>\n",
       "    </tr>\n",
       "    <tr>\n",
       "      <th>4</th>\n",
       "      <td>2001.0</td>\n",
       "      <td>655000.0</td>\n",
       "      <td>NaN</td>\n",
       "      <td>NaN</td>\n",
       "      <td>60.0</td>\n",
       "      <td>NaN</td>\n",
       "    </tr>\n",
       "  </tbody>\n",
       "</table>\n",
       "</div>"
      ],
      "text/plain": [
       "     year  sales_price  original_price  market_price  subscribers  date_diff\n",
       "0  2013.0    1090000.0       2697000.0     2697000.0        858.0        NaN\n",
       "1  2009.0     489000.0             NaN           NaN        137.0        NaN\n",
       "2  2004.0     999000.0             NaN           NaN        960.0        NaN\n",
       "3  2011.0     839000.0       1978000.0     1978000.0         74.0        NaN\n",
       "4  2001.0     655000.0             NaN           NaN         60.0        NaN"
      ]
     },
     "execution_count": 50,
     "metadata": {},
     "output_type": "execute_result"
    }
   ],
   "source": [
    "num_df = df.loc[:,~df.columns.str.contains('missing')].select_dtypes(include=[np.number])\n",
    "num_df.head()"
   ]
  },
  {
   "cell_type": "code",
   "execution_count": 51,
   "metadata": {},
   "outputs": [
    {
     "data": {
      "application/vnd.jupyter.widget-view+json": {
       "model_id": "5c2d8cce471b4604bbd6c60b1954a79d",
       "version_major": 2,
       "version_minor": 0
      },
      "text/plain": [
       "interactive(children=(Dropdown(description='col', index=1, options=('year', 'sales_price', 'original_price', '…"
      ]
     },
     "metadata": {},
     "output_type": "display_data"
    },
    {
     "data": {
      "text/plain": [
       "<function __main__.<lambda>(df, col)>"
      ]
     },
     "execution_count": 51,
     "metadata": {},
     "output_type": "execute_result"
    }
   ],
   "source": [
    "interact(lambda df,col: df[col].hist(bins=100), \n",
    "         df=fixed(num_df),\n",
    "         col=widgets.Dropdown(options=num_df.columns, \n",
    "         value='sales_price'))"
   ]
  },
  {
   "cell_type": "code",
   "execution_count": null,
   "metadata": {},
   "outputs": [],
   "source": []
  }
 ],
 "metadata": {
  "kernelspec": {
   "display_name": "Python 3",
   "language": "python",
   "name": "python3"
  },
  "language_info": {
   "codemirror_mode": {
    "name": "ipython",
    "version": 3
   },
   "file_extension": ".py",
   "mimetype": "text/x-python",
   "name": "python",
   "nbconvert_exporter": "python",
   "pygments_lexer": "ipython3",
   "version": "3.7.3"
  }
 },
 "nbformat": 4,
 "nbformat_minor": 2
}
