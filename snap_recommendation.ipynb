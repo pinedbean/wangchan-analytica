{
 "cells": [
  {
   "cell_type": "markdown",
   "metadata": {},
   "source": [
    "# SnapLogic Snap Recommendation"
   ]
  },
  {
   "cell_type": "markdown",
   "metadata": {},
   "source": [
    "This notebook details how to tackle the recommendation problem using deep learning models. We provide two example models: one where all variables are treated as cross-sectional variables; the other where previous snaps are treated as sequential variables can be studied at the [original repository](https://github.com/Datatouille/snaplogic_snap_recommendation/). See how to [install Pytorch](https://pytorch.org/) on your own environment."
   ]
  },
  {
   "cell_type": "code",
   "execution_count": 75,
   "metadata": {},
   "outputs": [],
   "source": [
    "#reload scripts when we edit them\n",
    "%load_ext autoreload\n",
    "%autoreload 2\n",
    "\n",
    "import numpy as np\n",
    "import pandas as pd\n",
    "import matplotlib.pyplot as plt\n",
    "from copy import deepcopy\n",
    "np.set_printoptions(threshold=50, edgeitems=20)\n",
    "\n",
    "#torch \n",
    "import torch\n",
    "import torch.nn as nn\n",
    "import torch.nn.functional as F\n",
    "import torch.optim as optim\n",
    "from torch.utils.data import Dataset, DataLoader\n",
    "device = torch.device(\"cuda:0\" if torch.cuda.is_available() else \"cpu\")\n",
    "\n",
    "import warnings\n",
    "warnings.filterwarnings('ignore')"
   ]
  },
  {
   "cell_type": "code",
   "execution_count": 2,
   "metadata": {},
   "outputs": [
    {
     "data": {
      "text/plain": [
       "device(type='cpu')"
      ]
     },
     "execution_count": 2,
     "metadata": {},
     "output_type": "execute_result"
    }
   ],
   "source": [
    "device"
   ]
  },
  {
   "cell_type": "markdown",
   "metadata": {},
   "source": [
    "## Load Data"
   ]
  },
  {
   "cell_type": "code",
   "execution_count": 3,
   "metadata": {},
   "outputs": [
    {
     "data": {
      "text/plain": [
       "((103541, 8), (14792, 8))"
      ]
     },
     "execution_count": 3,
     "metadata": {},
     "output_type": "execute_result"
    }
   ],
   "source": [
    "train_df = pd.read_csv(\"data/snap/train_df.csv\")\n",
    "valid_df = pd.read_csv(\"data/snap/valid_df.csv\")\n",
    "all_df = pd.concat([train_df,valid_df],0).reset_index(drop=True)\n",
    "train_df.shape, valid_df.shape"
   ]
  },
  {
   "cell_type": "code",
   "execution_count": 4,
   "metadata": {},
   "outputs": [
    {
     "data": {
      "text/html": [
       "<div>\n",
       "<style scoped>\n",
       "    .dataframe tbody tr th:only-of-type {\n",
       "        vertical-align: middle;\n",
       "    }\n",
       "\n",
       "    .dataframe tbody tr th {\n",
       "        vertical-align: top;\n",
       "    }\n",
       "\n",
       "    .dataframe thead th {\n",
       "        text-align: right;\n",
       "    }\n",
       "</style>\n",
       "<table border=\"1\" class=\"dataframe\">\n",
       "  <thead>\n",
       "    <tr style=\"text-align: right;\">\n",
       "      <th></th>\n",
       "      <th>org</th>\n",
       "      <th>prev_snap_1</th>\n",
       "      <th>prev_snap_2</th>\n",
       "      <th>prev_snap_3</th>\n",
       "      <th>prev_snap_4</th>\n",
       "      <th>project</th>\n",
       "      <th>target_snap</th>\n",
       "      <th>user</th>\n",
       "    </tr>\n",
       "  </thead>\n",
       "  <tbody>\n",
       "    <tr>\n",
       "      <th>0</th>\n",
       "      <td>3</td>\n",
       "      <td>471</td>\n",
       "      <td>158</td>\n",
       "      <td>0</td>\n",
       "      <td>0</td>\n",
       "      <td>500</td>\n",
       "      <td>286</td>\n",
       "      <td>118</td>\n",
       "    </tr>\n",
       "    <tr>\n",
       "      <th>1</th>\n",
       "      <td>1</td>\n",
       "      <td>238</td>\n",
       "      <td>468</td>\n",
       "      <td>0</td>\n",
       "      <td>0</td>\n",
       "      <td>396</td>\n",
       "      <td>63</td>\n",
       "      <td>7</td>\n",
       "    </tr>\n",
       "    <tr>\n",
       "      <th>2</th>\n",
       "      <td>3</td>\n",
       "      <td>344</td>\n",
       "      <td>344</td>\n",
       "      <td>344</td>\n",
       "      <td>344</td>\n",
       "      <td>500</td>\n",
       "      <td>349</td>\n",
       "      <td>168</td>\n",
       "    </tr>\n",
       "    <tr>\n",
       "      <th>3</th>\n",
       "      <td>3</td>\n",
       "      <td>171</td>\n",
       "      <td>0</td>\n",
       "      <td>0</td>\n",
       "      <td>0</td>\n",
       "      <td>217</td>\n",
       "      <td>211</td>\n",
       "      <td>71</td>\n",
       "    </tr>\n",
       "    <tr>\n",
       "      <th>4</th>\n",
       "      <td>3</td>\n",
       "      <td>0</td>\n",
       "      <td>0</td>\n",
       "      <td>0</td>\n",
       "      <td>0</td>\n",
       "      <td>565</td>\n",
       "      <td>51</td>\n",
       "      <td>71</td>\n",
       "    </tr>\n",
       "  </tbody>\n",
       "</table>\n",
       "</div>"
      ],
      "text/plain": [
       "   org  prev_snap_1  prev_snap_2  prev_snap_3  prev_snap_4  project  \\\n",
       "0    3          471          158            0            0      500   \n",
       "1    1          238          468            0            0      396   \n",
       "2    3          344          344          344          344      500   \n",
       "3    3          171            0            0            0      217   \n",
       "4    3            0            0            0            0      565   \n",
       "\n",
       "   target_snap  user  \n",
       "0          286   118  \n",
       "1           63     7  \n",
       "2          349   168  \n",
       "3          211    71  \n",
       "4           51    71  "
      ]
     },
     "execution_count": 4,
     "metadata": {},
     "output_type": "execute_result"
    }
   ],
   "source": [
    "train_df.head()"
   ]
  },
  {
   "cell_type": "code",
   "execution_count": 5,
   "metadata": {},
   "outputs": [
    {
     "data": {
      "text/html": [
       "<div>\n",
       "<style scoped>\n",
       "    .dataframe tbody tr th:only-of-type {\n",
       "        vertical-align: middle;\n",
       "    }\n",
       "\n",
       "    .dataframe tbody tr th {\n",
       "        vertical-align: top;\n",
       "    }\n",
       "\n",
       "    .dataframe thead th {\n",
       "        text-align: right;\n",
       "    }\n",
       "</style>\n",
       "<table border=\"1\" class=\"dataframe\">\n",
       "  <thead>\n",
       "    <tr style=\"text-align: right;\">\n",
       "      <th></th>\n",
       "      <th>org</th>\n",
       "      <th>prev_snap_1</th>\n",
       "      <th>prev_snap_2</th>\n",
       "      <th>prev_snap_3</th>\n",
       "      <th>prev_snap_4</th>\n",
       "      <th>project</th>\n",
       "      <th>target_snap</th>\n",
       "      <th>user</th>\n",
       "    </tr>\n",
       "  </thead>\n",
       "  <tbody>\n",
       "    <tr>\n",
       "      <th>count</th>\n",
       "      <td>103541.000000</td>\n",
       "      <td>103541.000000</td>\n",
       "      <td>103541.000000</td>\n",
       "      <td>103541.000000</td>\n",
       "      <td>103541.000000</td>\n",
       "      <td>103541.000000</td>\n",
       "      <td>103541.000000</td>\n",
       "      <td>103541.000000</td>\n",
       "    </tr>\n",
       "    <tr>\n",
       "      <th>mean</th>\n",
       "      <td>2.674303</td>\n",
       "      <td>185.961629</td>\n",
       "      <td>133.142716</td>\n",
       "      <td>88.953873</td>\n",
       "      <td>54.087231</td>\n",
       "      <td>443.124125</td>\n",
       "      <td>266.926358</td>\n",
       "      <td>128.956510</td>\n",
       "    </tr>\n",
       "    <tr>\n",
       "      <th>std</th>\n",
       "      <td>0.737418</td>\n",
       "      <td>152.789966</td>\n",
       "      <td>156.076242</td>\n",
       "      <td>143.168823</td>\n",
       "      <td>120.032965</td>\n",
       "      <td>126.777504</td>\n",
       "      <td>129.226959</td>\n",
       "      <td>52.766921</td>\n",
       "    </tr>\n",
       "    <tr>\n",
       "      <th>min</th>\n",
       "      <td>1.000000</td>\n",
       "      <td>0.000000</td>\n",
       "      <td>0.000000</td>\n",
       "      <td>0.000000</td>\n",
       "      <td>0.000000</td>\n",
       "      <td>1.000000</td>\n",
       "      <td>1.000000</td>\n",
       "      <td>1.000000</td>\n",
       "    </tr>\n",
       "    <tr>\n",
       "      <th>25%</th>\n",
       "      <td>3.000000</td>\n",
       "      <td>30.000000</td>\n",
       "      <td>0.000000</td>\n",
       "      <td>0.000000</td>\n",
       "      <td>0.000000</td>\n",
       "      <td>500.000000</td>\n",
       "      <td>158.000000</td>\n",
       "      <td>71.000000</td>\n",
       "    </tr>\n",
       "    <tr>\n",
       "      <th>50%</th>\n",
       "      <td>3.000000</td>\n",
       "      <td>158.000000</td>\n",
       "      <td>66.000000</td>\n",
       "      <td>0.000000</td>\n",
       "      <td>0.000000</td>\n",
       "      <td>500.000000</td>\n",
       "      <td>287.000000</td>\n",
       "      <td>118.000000</td>\n",
       "    </tr>\n",
       "    <tr>\n",
       "      <th>75%</th>\n",
       "      <td>3.000000</td>\n",
       "      <td>313.000000</td>\n",
       "      <td>211.000000</td>\n",
       "      <td>158.000000</td>\n",
       "      <td>0.000000</td>\n",
       "      <td>500.000000</td>\n",
       "      <td>349.000000</td>\n",
       "      <td>168.000000</td>\n",
       "    </tr>\n",
       "    <tr>\n",
       "      <th>max</th>\n",
       "      <td>4.000000</td>\n",
       "      <td>500.000000</td>\n",
       "      <td>500.000000</td>\n",
       "      <td>500.000000</td>\n",
       "      <td>499.000000</td>\n",
       "      <td>580.000000</td>\n",
       "      <td>500.000000</td>\n",
       "      <td>230.000000</td>\n",
       "    </tr>\n",
       "  </tbody>\n",
       "</table>\n",
       "</div>"
      ],
      "text/plain": [
       "                 org    prev_snap_1    prev_snap_2    prev_snap_3  \\\n",
       "count  103541.000000  103541.000000  103541.000000  103541.000000   \n",
       "mean        2.674303     185.961629     133.142716      88.953873   \n",
       "std         0.737418     152.789966     156.076242     143.168823   \n",
       "min         1.000000       0.000000       0.000000       0.000000   \n",
       "25%         3.000000      30.000000       0.000000       0.000000   \n",
       "50%         3.000000     158.000000      66.000000       0.000000   \n",
       "75%         3.000000     313.000000     211.000000     158.000000   \n",
       "max         4.000000     500.000000     500.000000     500.000000   \n",
       "\n",
       "         prev_snap_4        project    target_snap           user  \n",
       "count  103541.000000  103541.000000  103541.000000  103541.000000  \n",
       "mean       54.087231     443.124125     266.926358     128.956510  \n",
       "std       120.032965     126.777504     129.226959      52.766921  \n",
       "min         0.000000       1.000000       1.000000       1.000000  \n",
       "25%         0.000000     500.000000     158.000000      71.000000  \n",
       "50%         0.000000     500.000000     287.000000     118.000000  \n",
       "75%         0.000000     500.000000     349.000000     168.000000  \n",
       "max       499.000000     580.000000     500.000000     230.000000  "
      ]
     },
     "execution_count": 5,
     "metadata": {},
     "output_type": "execute_result"
    }
   ],
   "source": [
    "train_df.describe()"
   ]
  },
  {
   "cell_type": "code",
   "execution_count": 6,
   "metadata": {},
   "outputs": [
    {
     "data": {
      "text/plain": [
       "349    3236\n",
       "158    3078\n",
       "313     811\n",
       "403     457\n",
       "211     353\n",
       "Name: target_snap, dtype: int64"
      ]
     },
     "execution_count": 6,
     "metadata": {},
     "output_type": "execute_result"
    }
   ],
   "source": [
    "valid_df.target_snap.value_counts().head()"
   ]
  },
  {
   "cell_type": "markdown",
   "metadata": {},
   "source": [
    "**Coding Assignment** What is the baseline performance for this task?"
   ]
  },
  {
   "cell_type": "code",
   "execution_count": null,
   "metadata": {},
   "outputs": [],
   "source": [
    "'''\n",
    "Fill in the codes\n",
    "'''"
   ]
  },
  {
   "cell_type": "markdown",
   "metadata": {},
   "source": [
    "## Cross-sectional Model"
   ]
  },
  {
   "cell_type": "markdown",
   "metadata": {},
   "source": [
    "In this model, our features are indice of previous snaps, organizations, projects and users. We treat all of them as cross-sectional, categorical variables. The output of the model is the probability of the target snap."
   ]
  },
  {
   "cell_type": "markdown",
   "metadata": {},
   "source": [
    "### Dataloaders"
   ]
  },
  {
   "cell_type": "markdown",
   "metadata": {},
   "source": [
    "We create dataloaders for train and validation sets. They simply output each row of the dataframe."
   ]
  },
  {
   "cell_type": "code",
   "execution_count": 9,
   "metadata": {},
   "outputs": [],
   "source": [
    "class SnapStaDataset(Dataset):\n",
    "    def __init__(self, df, sta_cols, target_col):\n",
    "        self.df  = df\n",
    "        self.sta = df[sta_cols]\n",
    "        self.target = df[target_col]\n",
    "\n",
    "    def __getitem__(self, index):\n",
    "        return(torch.tensor(self.sta.iloc[index], dtype=torch.long, device=device),\n",
    "               torch.tensor(self.target[index], dtype=torch.long, device=device))\n",
    "\n",
    "    def __len__(self):\n",
    "        return(self.df.shape[0])"
   ]
  },
  {
   "cell_type": "code",
   "execution_count": 10,
   "metadata": {},
   "outputs": [],
   "source": [
    "sta_cols = ['prev_snap_4', 'prev_snap_3', 'prev_snap_2', 'prev_snap_1','org','project','user']\n",
    "target_col = 'target_snap'\n",
    "\n",
    "bs = 1024\n",
    "train_ds = SnapStaDataset(train_df, sta_cols, target_col)\n",
    "train_dl = DataLoader(train_ds, batch_size=bs, shuffle=True)\n",
    "valid_ds = SnapStaDataset(valid_df, sta_cols, target_col)\n",
    "valid_dl = DataLoader(valid_ds, batch_size=len(valid_ds), shuffle=False)"
   ]
  },
  {
   "cell_type": "code",
   "execution_count": 11,
   "metadata": {},
   "outputs": [
    {
     "data": {
      "text/plain": [
       "[tensor([[  0,   0, 158,  ...,   3, 500, 168],\n",
       "         [  0, 453, 453,  ...,   2,  14,  22],\n",
       "         [  0,  51, 478,  ...,   1, 532, 185],\n",
       "         ...,\n",
       "         [158, 326, 158,  ...,   3, 500, 118],\n",
       "         [  0,   0,   0,  ...,   3, 500, 118],\n",
       "         [  0,   0,   0,  ...,   1, 535, 172]]),\n",
       " tensor([349, 496, 158,  ..., 349, 158, 470])]"
      ]
     },
     "execution_count": 11,
     "metadata": {},
     "output_type": "execute_result"
    }
   ],
   "source": [
    "next(iter(train_dl))"
   ]
  },
  {
   "cell_type": "markdown",
   "metadata": {},
   "source": [
    "### Architecture"
   ]
  },
  {
   "cell_type": "markdown",
   "metadata": {},
   "source": [
    "The architecture consists of embedding layers that convert all categorical indice to tensors then concatenate them together. After that, we put the concatenated tensors through non-linearity layers, lastly, outputing probabilities for the target snap."
   ]
  },
  {
   "cell_type": "code",
   "execution_count": 12,
   "metadata": {},
   "outputs": [
    {
     "data": {
      "text/html": [
       "<div>\n",
       "<style scoped>\n",
       "    .dataframe tbody tr th:only-of-type {\n",
       "        vertical-align: middle;\n",
       "    }\n",
       "\n",
       "    .dataframe tbody tr th {\n",
       "        vertical-align: top;\n",
       "    }\n",
       "\n",
       "    .dataframe thead th {\n",
       "        text-align: right;\n",
       "    }\n",
       "</style>\n",
       "<table border=\"1\" class=\"dataframe\">\n",
       "  <thead>\n",
       "    <tr style=\"text-align: right;\">\n",
       "      <th></th>\n",
       "      <th>org</th>\n",
       "      <th>prev_snap_1</th>\n",
       "      <th>prev_snap_2</th>\n",
       "      <th>prev_snap_3</th>\n",
       "      <th>prev_snap_4</th>\n",
       "      <th>project</th>\n",
       "      <th>target_snap</th>\n",
       "      <th>user</th>\n",
       "    </tr>\n",
       "  </thead>\n",
       "  <tbody>\n",
       "    <tr>\n",
       "      <th>count</th>\n",
       "      <td>118333.000000</td>\n",
       "      <td>118333.000000</td>\n",
       "      <td>118333.000000</td>\n",
       "      <td>118333.00000</td>\n",
       "      <td>118333.000000</td>\n",
       "      <td>118333.000000</td>\n",
       "      <td>118333.000000</td>\n",
       "      <td>118333.000000</td>\n",
       "    </tr>\n",
       "    <tr>\n",
       "      <th>mean</th>\n",
       "      <td>2.714619</td>\n",
       "      <td>186.760101</td>\n",
       "      <td>134.423272</td>\n",
       "      <td>89.92565</td>\n",
       "      <td>54.819408</td>\n",
       "      <td>452.348128</td>\n",
       "      <td>267.080595</td>\n",
       "      <td>125.979828</td>\n",
       "    </tr>\n",
       "    <tr>\n",
       "      <th>std</th>\n",
       "      <td>0.698465</td>\n",
       "      <td>152.714594</td>\n",
       "      <td>156.621822</td>\n",
       "      <td>143.96719</td>\n",
       "      <td>121.071679</td>\n",
       "      <td>121.656760</td>\n",
       "      <td>128.535729</td>\n",
       "      <td>50.547574</td>\n",
       "    </tr>\n",
       "    <tr>\n",
       "      <th>min</th>\n",
       "      <td>1.000000</td>\n",
       "      <td>0.000000</td>\n",
       "      <td>0.000000</td>\n",
       "      <td>0.00000</td>\n",
       "      <td>0.000000</td>\n",
       "      <td>1.000000</td>\n",
       "      <td>1.000000</td>\n",
       "      <td>1.000000</td>\n",
       "    </tr>\n",
       "    <tr>\n",
       "      <th>25%</th>\n",
       "      <td>3.000000</td>\n",
       "      <td>36.000000</td>\n",
       "      <td>0.000000</td>\n",
       "      <td>0.00000</td>\n",
       "      <td>0.000000</td>\n",
       "      <td>500.000000</td>\n",
       "      <td>158.000000</td>\n",
       "      <td>71.000000</td>\n",
       "    </tr>\n",
       "    <tr>\n",
       "      <th>50%</th>\n",
       "      <td>3.000000</td>\n",
       "      <td>158.000000</td>\n",
       "      <td>71.000000</td>\n",
       "      <td>0.00000</td>\n",
       "      <td>0.000000</td>\n",
       "      <td>500.000000</td>\n",
       "      <td>287.000000</td>\n",
       "      <td>118.000000</td>\n",
       "    </tr>\n",
       "    <tr>\n",
       "      <th>75%</th>\n",
       "      <td>3.000000</td>\n",
       "      <td>313.000000</td>\n",
       "      <td>212.000000</td>\n",
       "      <td>158.00000</td>\n",
       "      <td>0.000000</td>\n",
       "      <td>500.000000</td>\n",
       "      <td>349.000000</td>\n",
       "      <td>168.000000</td>\n",
       "    </tr>\n",
       "    <tr>\n",
       "      <th>max</th>\n",
       "      <td>4.000000</td>\n",
       "      <td>500.000000</td>\n",
       "      <td>500.000000</td>\n",
       "      <td>500.00000</td>\n",
       "      <td>499.000000</td>\n",
       "      <td>580.000000</td>\n",
       "      <td>500.000000</td>\n",
       "      <td>230.000000</td>\n",
       "    </tr>\n",
       "  </tbody>\n",
       "</table>\n",
       "</div>"
      ],
      "text/plain": [
       "                 org    prev_snap_1    prev_snap_2   prev_snap_3  \\\n",
       "count  118333.000000  118333.000000  118333.000000  118333.00000   \n",
       "mean        2.714619     186.760101     134.423272      89.92565   \n",
       "std         0.698465     152.714594     156.621822     143.96719   \n",
       "min         1.000000       0.000000       0.000000       0.00000   \n",
       "25%         3.000000      36.000000       0.000000       0.00000   \n",
       "50%         3.000000     158.000000      71.000000       0.00000   \n",
       "75%         3.000000     313.000000     212.000000     158.00000   \n",
       "max         4.000000     500.000000     500.000000     500.00000   \n",
       "\n",
       "         prev_snap_4        project    target_snap           user  \n",
       "count  118333.000000  118333.000000  118333.000000  118333.000000  \n",
       "mean       54.819408     452.348128     267.080595     125.979828  \n",
       "std       121.071679     121.656760     128.535729      50.547574  \n",
       "min         0.000000       1.000000       1.000000       1.000000  \n",
       "25%         0.000000     500.000000     158.000000      71.000000  \n",
       "50%         0.000000     500.000000     287.000000     118.000000  \n",
       "75%         0.000000     500.000000     349.000000     168.000000  \n",
       "max       499.000000     580.000000     500.000000     230.000000  "
      ]
     },
     "execution_count": 12,
     "metadata": {},
     "output_type": "execute_result"
    }
   ],
   "source": [
    "pd.concat([train_df,valid_df],axis=0).describe()"
   ]
  },
  {
   "cell_type": "markdown",
   "metadata": {},
   "source": [
    "**Conceptual Assignment** `sta_dict` contains the number of embeddings the `Embedding` layer should prepare for each variable. Fill in the necessary numbers for each variable."
   ]
  },
  {
   "cell_type": "code",
   "execution_count": null,
   "metadata": {},
   "outputs": [],
   "source": [
    "sta_dict = {'prev_snap_4': 0, 'prev_snap_3': 0, 'prev_snap_2': 0, 'prev_snap_1': 0,\n",
    "            'org':0, 'project':0, 'user':0}"
   ]
  },
  {
   "cell_type": "code",
   "execution_count": 13,
   "metadata": {},
   "outputs": [],
   "source": [
    "config = {'emb_p': 0.05, 'fc_ps': [0.5, 0.25],'fc_szs': [1000, 500],  'out_sz': 501}\n",
    "#rule of thump for choosing embedding size from fastai\n",
    "def emb_sz_rule(n_cat): return min(600, round(1.6 * n_cat**0.56))\n",
    "\n",
    "class RecommendSta(nn.Module):\n",
    "    def __init__(self, config, sta_dict):\n",
    "        super(RecommendSta, self).__init__()\n",
    "        #set parameters\n",
    "        self.sta_dict = sta_dict\n",
    "        self.emb_p = config['emb_p']\n",
    "        self.fc_szs = config['fc_szs']\n",
    "        self.fc_ps = config['fc_ps']\n",
    "        self.out_sz = config['out_sz']\n",
    "        \n",
    "        #embedding layers\n",
    "        self.emb_drop = nn.Dropout(self.emb_p)\n",
    "        self.sta_layers = nn.ModuleList([nn.Embedding(sta_dict[i], emb_sz_rule(sta_dict[i])) for i in sta_dict])\n",
    "        self.lin_in = sum([emb_sz_rule(sta_dict[i]) for i in sta_dict])\n",
    "        self.fc_szs = [self.lin_in] + self.fc_szs\n",
    "        \n",
    "        #fully connected layers\n",
    "        fc_layers_list = []\n",
    "        for ni,nf,p in zip(self.fc_szs[:-1], self.fc_szs[1:], self.fc_ps):\n",
    "            fc_layers_list.append(nn.Linear(ni, nf))\n",
    "            fc_layers_list.append(nn.ReLU(inplace=True))\n",
    "            fc_layers_list.append(nn.BatchNorm1d(nf))\n",
    "            fc_layers_list.append(nn.Dropout(p=p))\n",
    "        self.fc_layers = nn.Sequential(*fc_layers_list)\n",
    "\n",
    "        #output head\n",
    "        self.head = torch.nn.Linear(in_features=self.fc_szs[-1], out_features=self.out_sz)\n",
    "\n",
    "    def forward(self, sta_input):\n",
    "        #sta\n",
    "        sta_list = [e(sta_input[:,i]) for i,e in enumerate(self.sta_layers)]\n",
    "        sta_out = torch.cat(sta_list,1)\n",
    "        sta_out = self.emb_drop(sta_out)\n",
    "        \n",
    "        #linear\n",
    "        res = self.fc_layers(sta_out)\n",
    "        res = self.head(res)\n",
    "    \n",
    "        return(res)"
   ]
  },
  {
   "cell_type": "code",
   "execution_count": 14,
   "metadata": {},
   "outputs": [
    {
     "data": {
      "text/plain": [
       "torch.Size([14792, 501])"
      ]
     },
     "execution_count": 14,
     "metadata": {},
     "output_type": "execute_result"
    }
   ],
   "source": [
    "model = RecommendSta(config, sta_dict).to(device)\n",
    "x = next(iter(valid_dl))\n",
    "sta_input = x[0]\n",
    "target = x[1]\n",
    "model(sta_input).shape"
   ]
  },
  {
   "cell_type": "code",
   "execution_count": 15,
   "metadata": {},
   "outputs": [
    {
     "data": {
      "text/plain": [
       "RecommendSta(\n",
       "  (emb_drop): Dropout(p=0.05)\n",
       "  (sta_layers): ModuleList(\n",
       "    (0): Embedding(501, 52)\n",
       "    (1): Embedding(501, 52)\n",
       "    (2): Embedding(501, 52)\n",
       "    (3): Embedding(501, 52)\n",
       "    (4): Embedding(5, 4)\n",
       "    (5): Embedding(581, 57)\n",
       "    (6): Embedding(231, 34)\n",
       "  )\n",
       "  (fc_layers): Sequential(\n",
       "    (0): Linear(in_features=303, out_features=1000, bias=True)\n",
       "    (1): ReLU(inplace)\n",
       "    (2): BatchNorm1d(1000, eps=1e-05, momentum=0.1, affine=True, track_running_stats=True)\n",
       "    (3): Dropout(p=0.5)\n",
       "    (4): Linear(in_features=1000, out_features=500, bias=True)\n",
       "    (5): ReLU(inplace)\n",
       "    (6): BatchNorm1d(500, eps=1e-05, momentum=0.1, affine=True, track_running_stats=True)\n",
       "    (7): Dropout(p=0.25)\n",
       "  )\n",
       "  (head): Linear(in_features=500, out_features=501, bias=True)\n",
       ")"
      ]
     },
     "execution_count": 15,
     "metadata": {},
     "output_type": "execute_result"
    }
   ],
   "source": [
    "model"
   ]
  },
  {
   "cell_type": "markdown",
   "metadata": {},
   "source": [
    "### Metrics"
   ]
  },
  {
   "cell_type": "markdown",
   "metadata": {},
   "source": [
    "**Conceptual Assignment** Look at `score_topk_probs` function line by line and explain what it does."
   ]
  },
  {
   "cell_type": "code",
   "execution_count": 16,
   "metadata": {},
   "outputs": [],
   "source": [
    "def score_topk_probs(probs, valid_y, k=5):\n",
    "    top_idx = probs.argsort(axis=1)[:,-k:][:,::-1]\n",
    "    topk = []\n",
    "    for row in top_idx:\n",
    "        topk.append([i for i in row])\n",
    "    hit = 0\n",
    "    for i in range(len(valid_y)):\n",
    "        y = valid_y[i]\n",
    "        if y in topk[i]: hit+=1\n",
    "    return(hit/valid_y.shape[0])"
   ]
  },
  {
   "cell_type": "markdown",
   "metadata": {},
   "source": [
    "### Training"
   ]
  },
  {
   "cell_type": "markdown",
   "metadata": {},
   "source": [
    "We perform training with a high learning rate then gradually lowers it as validation loss stagnates."
   ]
  },
  {
   "cell_type": "code",
   "execution_count": 17,
   "metadata": {},
   "outputs": [],
   "source": [
    "sta_cols = ['prev_snap_4', 'prev_snap_3', 'prev_snap_2', 'prev_snap_1','org','project','user']\n",
    "target_col = 'target_snap'\n",
    "\n",
    "bs = 1024\n",
    "train_ds = SnapStaDataset(train_df, sta_cols, target_col)\n",
    "train_dl = DataLoader(train_ds, batch_size=bs, shuffle=True)\n",
    "valid_ds = SnapStaDataset(valid_df, sta_cols, target_col)\n",
    "valid_dl = DataLoader(valid_ds, batch_size=len(valid_ds), shuffle=False)"
   ]
  },
  {
   "cell_type": "code",
   "execution_count": 18,
   "metadata": {},
   "outputs": [],
   "source": [
    "sta_dict = {'prev_snap_4': 501, 'prev_snap_3': 501, 'prev_snap_2': 501, 'prev_snap_1': 501,\n",
    "            'org':5, 'project':581, 'user':231}\n",
    "config = {'emb_p': 0.05, 'fc_ps': [0.5, 0.25],'fc_szs': [1000, 500],  'out_sz': 501}\n",
    "\n",
    "model = RecommendSta(config, sta_dict).to(device)\n",
    "loss_function = nn.CrossEntropyLoss()\n",
    "optimizer = optim.Adam(model.parameters(), lr=1e-2)"
   ]
  },
  {
   "cell_type": "code",
   "execution_count": 19,
   "metadata": {},
   "outputs": [
    {
     "name": "stdout",
     "output_type": "stream",
     "text": [
      "0 train loss: 2.884 valid loss: 2.392            accuracy: 0.431  top-5 accuracy: 0.737\n",
      "1 train loss: 2.288 valid loss: 2.19            accuracy: 0.434  top-5 accuracy: 0.776\n",
      "2 train loss: 2.125 valid loss: 2.122            accuracy: 0.466  top-5 accuracy: 0.783\n",
      "3 train loss: 2.033 valid loss: 2.087            accuracy: 0.467  top-5 accuracy: 0.79\n",
      "4 train loss: 1.97 valid loss: 2.066            accuracy: 0.48  top-5 accuracy: 0.795\n"
     ]
    }
   ],
   "source": [
    "#record keeping\n",
    "train_losses = []\n",
    "valid_losses = []\n",
    "accs = []\n",
    "acc_ks = []\n",
    "best_loss = np.inf\n",
    "best_weights = None\n",
    "\n",
    "for epoch in range(5):\n",
    "    #train\n",
    "    train_loss = []\n",
    "    model.train()\n",
    "    for x in train_dl:\n",
    "        sta_input = x[0]\n",
    "        target = x[1]\n",
    "        \n",
    "        #forward\n",
    "        score = model(sta_input)\n",
    "        \n",
    "        #loss\n",
    "        loss = loss_function(score,target)\n",
    "        train_loss.append(loss.item())\n",
    "        \n",
    "        \n",
    "        #step\n",
    "        optimizer.zero_grad()\n",
    "        loss.backward()\n",
    "        optimizer.step()\n",
    "    train_losses.append(np.mean(train_loss))\n",
    "    \n",
    "    #validate\n",
    "    model.eval()\n",
    "    for x in valid_dl:\n",
    "        sta_input = x[0]\n",
    "        target = x[1]\n",
    "        \n",
    "        #forward\n",
    "        score = model(sta_input)\n",
    "        \n",
    "        #loss\n",
    "        valid_loss = loss_function(score,target)\n",
    "        valid_losses.append(valid_loss.item())\n",
    "        \n",
    "        #accuracy\n",
    "        y = target.cpu().detach().numpy()\n",
    "        probs = F.softmax(score,1).cpu().detach().numpy()\n",
    "        \n",
    "        #top 1 accuracy\n",
    "        preds = probs.argmax(1)\n",
    "        acc = (preds==y).mean()\n",
    "        accs.append(acc)\n",
    "        \n",
    "        #top k accuracy\n",
    "        acc_k = score_topk_probs(probs,y,k=5)\n",
    "        acc_ks.append(acc_k)\n",
    "        \n",
    "    #choose best model\n",
    "    if valid_loss < best_loss:\n",
    "        best_loss = valid_loss\n",
    "        best_weights = deepcopy(model.state_dict())\n",
    "        no_improvements = 0\n",
    "    else:\n",
    "        no_improvements += 1\n",
    "        \n",
    "    #end of epoch\n",
    "    print(f'{epoch} train loss: {round(np.mean(train_loss),3)} valid loss: {round(valid_loss.item(),3)}\\\n",
    "            accuracy: {round(acc,3)}  top-5 accuracy: {round(acc_k,3)}')"
   ]
  },
  {
   "cell_type": "code",
   "execution_count": 20,
   "metadata": {},
   "outputs": [],
   "source": [
    "#save model\n",
    "# torch.save(best_weights,'sta_weights.pth')"
   ]
  },
  {
   "cell_type": "markdown",
   "metadata": {},
   "source": [
    "### Diagnostics"
   ]
  },
  {
   "cell_type": "markdown",
   "metadata": {},
   "source": [
    "**Conceptual Assignment** \n",
    "* By looking at the losses, when should we stop training a model?\n",
    "* What is the difference between metrics and losses?"
   ]
  },
  {
   "cell_type": "code",
   "execution_count": 21,
   "metadata": {},
   "outputs": [
    {
     "data": {
      "text/plain": [
       "[<matplotlib.lines.Line2D at 0x123d16da0>]"
      ]
     },
     "execution_count": 21,
     "metadata": {},
     "output_type": "execute_result"
    },
    {
     "data": {
      "image/png": "[encoded data removed]",
      "text/plain": [
       "<Figure size 432x288 with 1 Axes>"
      ]
     },
     "metadata": {
      "needs_background": "light"
     },
     "output_type": "display_data"
    }
   ],
   "source": [
    "plt.plot(train_losses)\n",
    "plt.plot(valid_losses)"
   ]
  },
  {
   "cell_type": "code",
   "execution_count": 22,
   "metadata": {},
   "outputs": [
    {
     "data": {
      "text/plain": [
       "[<matplotlib.lines.Line2D at 0x1238f0780>]"
      ]
     },
     "execution_count": 22,
     "metadata": {},
     "output_type": "execute_result"
    },
    {
     "data": {
      "image/png": "[encoded data removed]",
      "text/plain": [
       "<Figure size 432x288 with 1 Axes>"
      ]
     },
     "metadata": {
      "needs_background": "light"
     },
     "output_type": "display_data"
    }
   ],
   "source": [
    "plt.plot(accs)\n",
    "plt.plot(acc_ks)"
   ]
  },
  {
   "cell_type": "markdown",
   "metadata": {},
   "source": [
    "### Evaluations"
   ]
  },
  {
   "cell_type": "markdown",
   "metadata": {},
   "source": [
    "With 486 target classes, it is almost impossible to diagnose how well your model performs by looking at confusion matrix like you would normally do. Here we provide the idea of an \"accuracy curve\" as possible model evaluation tool."
   ]
  },
  {
   "cell_type": "markdown",
   "metadata": {},
   "source": [
    "**Conceptual Assignment** Looking at the plot below, what is the optimal number of snaps we should recommend to users?"
   ]
  },
  {
   "cell_type": "code",
   "execution_count": 23,
   "metadata": {},
   "outputs": [
    {
     "data": {
      "text/plain": [
       "[<matplotlib.lines.Line2D at 0x1254aa278>]"
      ]
     },
     "execution_count": 23,
     "metadata": {},
     "output_type": "execute_result"
    },
    {
     "data": {
      "image/png": "[encoded data removed]",
      "text/plain": [
       "<Figure size 432x288 with 1 Axes>"
      ]
     },
     "metadata": {
      "needs_background": "light"
     },
     "output_type": "display_data"
    }
   ],
   "source": [
    "#accurayc curve\n",
    "acc_curve_sta = []\n",
    "for i in range(1,101):\n",
    "    acc_curve_sta.append(score_topk_probs(probs,y,k=i))\n",
    "plt.plot(acc_curve_sta)"
   ]
  },
  {
   "cell_type": "code",
   "execution_count": 24,
   "metadata": {},
   "outputs": [
    {
     "data": {
      "image/png": "[encoded data removed]",
      "text/plain": [
       "<Figure size 432x288 with 1 Axes>"
      ]
     },
     "metadata": {
      "needs_background": "light"
     },
     "output_type": "display_data"
    }
   ],
   "source": [
    "_ = plt.plot(acc_curve_sta[:10])"
   ]
  },
  {
   "cell_type": "markdown",
   "metadata": {},
   "source": [
    "## Embedding Visualization"
   ]
  },
  {
   "cell_type": "markdown",
   "metadata": {},
   "source": [
    "We can use the embeddings learned as a representation of each index. For instance, we can perform clustering of users based on the user embeddings. This can be thought as grouping users together according to their snap usage behaviors."
   ]
  },
  {
   "cell_type": "code",
   "execution_count": 25,
   "metadata": {},
   "outputs": [
    {
     "data": {
      "text/plain": [
       "ModuleList(\n",
       "  (0): Embedding(501, 52)\n",
       "  (1): Embedding(501, 52)\n",
       "  (2): Embedding(501, 52)\n",
       "  (3): Embedding(501, 52)\n",
       "  (4): Embedding(5, 4)\n",
       "  (5): Embedding(581, 57)\n",
       "  (6): Embedding(231, 34)\n",
       ")"
      ]
     },
     "execution_count": 25,
     "metadata": {},
     "output_type": "execute_result"
    }
   ],
   "source": [
    "model.sta_layers"
   ]
  },
  {
   "cell_type": "code",
   "execution_count": 149,
   "metadata": {},
   "outputs": [
    {
     "data": {
      "text/plain": [
       "(231, 34)"
      ]
     },
     "execution_count": 149,
     "metadata": {},
     "output_type": "execute_result"
    }
   ],
   "source": [
    "user_embeddings = model.sta_layers[6].weight.data.numpy()\n",
    "user_embeddings.shape"
   ]
  },
  {
   "cell_type": "code",
   "execution_count": 173,
   "metadata": {},
   "outputs": [
    {
     "data": {
      "text/html": [
       "<div>\n",
       "<style scoped>\n",
       "    .dataframe tbody tr th:only-of-type {\n",
       "        vertical-align: middle;\n",
       "    }\n",
       "\n",
       "    .dataframe tbody tr th {\n",
       "        vertical-align: top;\n",
       "    }\n",
       "\n",
       "    .dataframe thead th {\n",
       "        text-align: right;\n",
       "    }\n",
       "</style>\n",
       "<table border=\"1\" class=\"dataframe\">\n",
       "  <thead>\n",
       "    <tr style=\"text-align: right;\">\n",
       "      <th></th>\n",
       "      <th>x</th>\n",
       "      <th>y</th>\n",
       "    </tr>\n",
       "  </thead>\n",
       "  <tbody>\n",
       "    <tr>\n",
       "      <th>0</th>\n",
       "      <td>13.021584</td>\n",
       "      <td>9.701897</td>\n",
       "    </tr>\n",
       "    <tr>\n",
       "      <th>1</th>\n",
       "      <td>-4.293037</td>\n",
       "      <td>12.272287</td>\n",
       "    </tr>\n",
       "    <tr>\n",
       "      <th>2</th>\n",
       "      <td>16.500267</td>\n",
       "      <td>-58.221363</td>\n",
       "    </tr>\n",
       "    <tr>\n",
       "      <th>3</th>\n",
       "      <td>-55.874073</td>\n",
       "      <td>-1.098834</td>\n",
       "    </tr>\n",
       "    <tr>\n",
       "      <th>4</th>\n",
       "      <td>-23.142630</td>\n",
       "      <td>-2.439000</td>\n",
       "    </tr>\n",
       "  </tbody>\n",
       "</table>\n",
       "</div>"
      ],
      "text/plain": [
       "           x          y\n",
       "0  13.021584   9.701897\n",
       "1  -4.293037  12.272287\n",
       "2  16.500267 -58.221363\n",
       "3 -55.874073  -1.098834\n",
       "4 -23.142630  -2.439000"
      ]
     },
     "execution_count": 173,
     "metadata": {},
     "output_type": "execute_result"
    }
   ],
   "source": [
    "#tnse\n",
    "from sklearn.manifold import TSNE\n",
    "tsne = TSNE(n_components=2,perplexity=1, init='pca', n_iter=1000, random_state=1412)\n",
    "plot_df = pd.DataFrame(tsne.fit_transform(user_embeddings))\n",
    "plot_df.columns = ['x','y']\n",
    "plot_df.head()"
   ]
  },
  {
   "cell_type": "code",
   "execution_count": 174,
   "metadata": {},
   "outputs": [
    {
     "data": {
      "image/png": "[encoded data removed]",
      "text/plain": [
       "<Figure size 640x480 with 1 Axes>"
      ]
     },
     "metadata": {
      "needs_background": "light"
     },
     "output_type": "display_data"
    },
    {
     "data": {
      "text/plain": [
       "<ggplot: (-9223372036547358583)>"
      ]
     },
     "execution_count": 174,
     "metadata": {},
     "output_type": "execute_result"
    }
   ],
   "source": [
    "from plotnine import *\n",
    "g = ggplot(plot_user_org, aes(x='x',y='y')) + geom_point() + theme_minimal()\n",
    "g"
   ]
  },
  {
   "cell_type": "markdown",
   "metadata": {},
   "source": [
    "Here we only had 231 users so the plot is not as impressive/useful. Below is a plot of 5,000 users as a result of training a recommendation for 7 million users. Blue dots are converted customers and red dots are potential customers. \n",
    "\n",
    "![TSNE](images/tsne.png)"
   ]
  },
  {
   "cell_type": "code",
   "execution_count": null,
   "metadata": {},
   "outputs": [],
   "source": []
  }
 ],
 "metadata": {
  "kernelspec": {
   "display_name": "Python 3",
   "language": "python",
   "name": "python3"
  },
  "language_info": {
   "codemirror_mode": {
    "name": "ipython",
    "version": 3
   },
   "file_extension": ".py",
   "mimetype": "text/x-python",
   "name": "python",
   "nbconvert_exporter": "python",
   "pygments_lexer": "ipython3",
   "version": "3.7.3"
  }
 },
 "nbformat": 4,
 "nbformat_minor": 2
}
