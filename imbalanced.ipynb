{
 "cells": [
  {
   "cell_type": "markdown",
   "metadata": {},
   "source": [
    "# Imbalanced Labels and Athletes Similar to Olympic Medalists"
   ]
  },
  {
   "cell_type": "code",
   "execution_count": 51,
   "metadata": {},
   "outputs": [
    {
     "name": "stdout",
     "output_type": "stream",
     "text": [
      "The autoreload extension is already loaded. To reload it, use:\n",
      "  %reload_ext autoreload\n"
     ]
    }
   ],
   "source": [
    "#reload scripts when we edit them\n",
    "%load_ext autoreload\n",
    "%autoreload 2\n",
    "\n",
    "import pandas as pd\n",
    "import numpy as np\n",
    "import matplotlib.pyplot as plt\n",
    "import qgrid"
   ]
  },
  {
   "cell_type": "code",
   "execution_count": 3,
   "metadata": {},
   "outputs": [
    {
     "name": "stdout",
     "output_type": "stream",
     "text": [
      "(271116, 15)\n"
     ]
    },
    {
     "data": {
      "application/vnd.jupyter.widget-view+json": {
       "model_id": "cfb2928e029a48949fcf122f491b44e7",
       "version_major": 2,
       "version_minor": 0
      },
      "text/plain": [
       "QgridWidget(grid_options={'fullWidthRows': True, 'syncColumnCellResize': True, 'forceFitColumns': True, 'defau…"
      ]
     },
     "metadata": {},
     "output_type": "display_data"
    }
   ],
   "source": [
    "df = pd.read_csv('data/olympic/athlete_events.csv', encoding='utf8')\n",
    "print(df.shape)\n",
    "qgrid.show_grid(df)"
   ]
  },
  {
   "cell_type": "code",
   "execution_count": 4,
   "metadata": {},
   "outputs": [
    {
     "data": {
      "text/plain": [
       "0.14673792767671404"
      ]
     },
     "execution_count": 4,
     "metadata": {},
     "output_type": "execute_result"
    }
   ],
   "source": [
    "#we're only interested in medalist or not\n",
    "df['Medal'] = df.Medal.map(lambda x: 1 if x==x else 0)\n",
    "df.Medal.mean()"
   ]
  },
  {
   "cell_type": "markdown",
   "metadata": {},
   "source": [
    "## Coding Assignment"
   ]
  },
  {
   "cell_type": "markdown",
   "metadata": {},
   "source": [
    "Using only `Sex`, `Age`, `Height`, `Weight`, `Sport`, `City`, `Season` and `Team`, predict whether an athelete is a medalist or not."
   ]
  },
  {
   "cell_type": "code",
   "execution_count": 5,
   "metadata": {},
   "outputs": [
    {
     "data": {
      "text/plain": [
       "((216892, 9), (54224, 9))"
      ]
     },
     "execution_count": 5,
     "metadata": {},
     "output_type": "execute_result"
    }
   ],
   "source": [
    "df = df[['Sex','Age','Height','Weight','Sport','City','Season','Team','Medal']].copy()\n",
    "train = df.sample(int(df.shape[0]*0.8))\n",
    "test = df.drop(train.index, errors=\"ignore\")\n",
    "train.shape, test.shape"
   ]
  },
  {
   "cell_type": "code",
   "execution_count": 6,
   "metadata": {},
   "outputs": [
    {
     "name": "stdout",
     "output_type": "stream",
     "text": [
      "Index(['Sex', 'Sport', 'City', 'Season', 'Team'], dtype='object')\n",
      "Index(['Sex', 'Sport', 'City', 'Season', 'Team'], dtype='object')\n"
     ]
    }
   ],
   "source": [
    "import utils\n",
    "for col in ['Sex','Sport','City','Season','Team']:\n",
    "    #use same dict for train and test\n",
    "    d = utils.other_dict(train,col,0.03)\n",
    "    train = utils.otherify(train,col,d)\n",
    "    test = utils.otherify(test,col,d)\n",
    "train = utils.missingify(train).drop('Medal_missing',1)\n",
    "test = utils.missingify(test).drop('Medal_missing',1)"
   ]
  },
  {
   "cell_type": "code",
   "execution_count": 7,
   "metadata": {},
   "outputs": [
    {
     "data": {
      "text/html": [
       "<div>\n",
       "<style scoped>\n",
       "    .dataframe tbody tr th:only-of-type {\n",
       "        vertical-align: middle;\n",
       "    }\n",
       "\n",
       "    .dataframe tbody tr th {\n",
       "        vertical-align: top;\n",
       "    }\n",
       "\n",
       "    .dataframe thead th {\n",
       "        text-align: right;\n",
       "    }\n",
       "</style>\n",
       "<table border=\"1\" class=\"dataframe\">\n",
       "  <thead>\n",
       "    <tr style=\"text-align: right;\">\n",
       "      <th></th>\n",
       "      <th>Sex</th>\n",
       "      <th>Sport</th>\n",
       "      <th>City</th>\n",
       "      <th>Season</th>\n",
       "      <th>Team</th>\n",
       "      <th>Age</th>\n",
       "      <th>Height</th>\n",
       "      <th>Weight</th>\n",
       "      <th>Medal</th>\n",
       "      <th>Age_missing</th>\n",
       "      <th>Height_missing</th>\n",
       "      <th>Weight_missing</th>\n",
       "    </tr>\n",
       "  </thead>\n",
       "  <tbody>\n",
       "    <tr>\n",
       "      <th>0</th>\n",
       "      <td>M</td>\n",
       "      <td>others</td>\n",
       "      <td>London</td>\n",
       "      <td>Summer</td>\n",
       "      <td>others</td>\n",
       "      <td>23.0</td>\n",
       "      <td>170.0</td>\n",
       "      <td>60.0</td>\n",
       "      <td>0.0</td>\n",
       "      <td>0.0</td>\n",
       "      <td>0.0</td>\n",
       "      <td>0.0</td>\n",
       "    </tr>\n",
       "    <tr>\n",
       "      <th>1</th>\n",
       "      <td>F</td>\n",
       "      <td>others</td>\n",
       "      <td>others</td>\n",
       "      <td>Winter</td>\n",
       "      <td>others</td>\n",
       "      <td>21.0</td>\n",
       "      <td>185.0</td>\n",
       "      <td>82.0</td>\n",
       "      <td>0.0</td>\n",
       "      <td>0.0</td>\n",
       "      <td>0.0</td>\n",
       "      <td>0.0</td>\n",
       "    </tr>\n",
       "    <tr>\n",
       "      <th>2</th>\n",
       "      <td>M</td>\n",
       "      <td>Cross Country Skiing</td>\n",
       "      <td>others</td>\n",
       "      <td>Winter</td>\n",
       "      <td>United States</td>\n",
       "      <td>33.0</td>\n",
       "      <td>188.0</td>\n",
       "      <td>75.0</td>\n",
       "      <td>0.0</td>\n",
       "      <td>0.0</td>\n",
       "      <td>0.0</td>\n",
       "      <td>0.0</td>\n",
       "    </tr>\n",
       "    <tr>\n",
       "      <th>3</th>\n",
       "      <td>M</td>\n",
       "      <td>Cross Country Skiing</td>\n",
       "      <td>others</td>\n",
       "      <td>Winter</td>\n",
       "      <td>United States</td>\n",
       "      <td>33.0</td>\n",
       "      <td>188.0</td>\n",
       "      <td>75.0</td>\n",
       "      <td>0.0</td>\n",
       "      <td>0.0</td>\n",
       "      <td>0.0</td>\n",
       "      <td>0.0</td>\n",
       "    </tr>\n",
       "    <tr>\n",
       "      <th>4</th>\n",
       "      <td>M</td>\n",
       "      <td>Cross Country Skiing</td>\n",
       "      <td>others</td>\n",
       "      <td>Winter</td>\n",
       "      <td>United States</td>\n",
       "      <td>31.0</td>\n",
       "      <td>183.0</td>\n",
       "      <td>72.0</td>\n",
       "      <td>0.0</td>\n",
       "      <td>0.0</td>\n",
       "      <td>0.0</td>\n",
       "      <td>0.0</td>\n",
       "    </tr>\n",
       "  </tbody>\n",
       "</table>\n",
       "</div>"
      ],
      "text/plain": [
       "  Sex                 Sport    City  Season           Team   Age  Height  \\\n",
       "0   M                others  London  Summer         others  23.0   170.0   \n",
       "1   F                others  others  Winter         others  21.0   185.0   \n",
       "2   M  Cross Country Skiing  others  Winter  United States  33.0   188.0   \n",
       "3   M  Cross Country Skiing  others  Winter  United States  33.0   188.0   \n",
       "4   M  Cross Country Skiing  others  Winter  United States  31.0   183.0   \n",
       "\n",
       "   Weight  Medal  Age_missing  Height_missing  Weight_missing  \n",
       "0    60.0    0.0          0.0             0.0             0.0  \n",
       "1    82.0    0.0          0.0             0.0             0.0  \n",
       "2    75.0    0.0          0.0             0.0             0.0  \n",
       "3    75.0    0.0          0.0             0.0             0.0  \n",
       "4    72.0    0.0          0.0             0.0             0.0  "
      ]
     },
     "execution_count": 7,
     "metadata": {},
     "output_type": "execute_result"
    }
   ],
   "source": [
    "test.head()"
   ]
  },
  {
   "cell_type": "code",
   "execution_count": 8,
   "metadata": {},
   "outputs": [
    {
     "data": {
      "text/plain": [
       "((216892,), (54224,))"
      ]
     },
     "execution_count": 8,
     "metadata": {},
     "output_type": "execute_result"
    }
   ],
   "source": [
    "#y\n",
    "y_train = np.array(train.Medal)\n",
    "y_test = np.array(test.Medal)\n",
    "train = train.drop('Medal',1)\n",
    "test = test.drop('Medal',1)\n",
    "y_train.shape,y_test.shape"
   ]
  },
  {
   "cell_type": "code",
   "execution_count": 9,
   "metadata": {},
   "outputs": [
    {
     "data": {
      "text/plain": [
       "((216892, 41), (54224, 41))"
      ]
     },
     "execution_count": 9,
     "metadata": {},
     "output_type": "execute_result"
    }
   ],
   "source": [
    "#X_cat\n",
    "from sklearn.preprocessing import OneHotEncoder\n",
    "enc = OneHotEncoder(categories=[list(train[col].unique())+['xxna'] for col in train.columns[:5]])\n",
    "\n",
    "feature_cols = list(train.columns[:5])\n",
    "X_train_cat = train[feature_cols].values\n",
    "enc_fit = enc.fit(X_train_cat)\n",
    "X_train_cat = enc_fit.transform(X_train_cat).toarray()\n",
    "X_test_cat = enc_fit.transform(test.iloc[:,:5]).toarray()\n",
    "X_train_cat.shape,X_test_cat.shape"
   ]
  },
  {
   "cell_type": "code",
   "execution_count": 10,
   "metadata": {},
   "outputs": [
    {
     "data": {
      "text/plain": [
       "((216892, 47), (54224, 47))"
      ]
     },
     "execution_count": 10,
     "metadata": {},
     "output_type": "execute_result"
    }
   ],
   "source": [
    "#X\n",
    "X_train = np.concatenate([X_train_cat,train.iloc[:,5:]],1)\n",
    "X_test = np.concatenate([X_test_cat,test.iloc[:,5:]],1)\n",
    "X_train.shape,X_test.shape"
   ]
  },
  {
   "cell_type": "code",
   "execution_count": 45,
   "metadata": {},
   "outputs": [],
   "source": [
    "#standardize\n",
    "from sklearn.preprocessing import StandardScaler\n",
    "scaler = StandardScaler()\n",
    "scaler_fit = scaler.fit(X_train)\n",
    "X_train = scaler_fit.transform(X_train)\n",
    "X_test = scaler_fit.transform(X_test)"
   ]
  },
  {
   "cell_type": "code",
   "execution_count": 46,
   "metadata": {},
   "outputs": [
    {
     "name": "stdout",
     "output_type": "stream",
     "text": [
      "Accuracy: 0.8390565063440543\n"
     ]
    }
   ],
   "source": [
    "from sklearn.ensemble import RandomForestClassifier\n",
    "clf = RandomForestClassifier(n_estimators=10)\n",
    "clf = clf.fit(X_train, y_train)\n",
    "print(f'Accuracy: {clf.score(X_test,y_test)}') "
   ]
  },
  {
   "cell_type": "markdown",
   "metadata": {},
   "source": [
    "**Conceptual Assignment** Is this a good performance? Why or why not?"
   ]
  },
  {
   "cell_type": "code",
   "execution_count": 12,
   "metadata": {},
   "outputs": [
    {
     "name": "stdout",
     "output_type": "stream",
     "text": [
      "Baseline accuracy: 0.8521687813514311\n"
     ]
    }
   ],
   "source": [
    "print(f'Baseline accuracy: {1 - y_test.mean()}')"
   ]
  },
  {
   "cell_type": "code",
   "execution_count": 26,
   "metadata": {},
   "outputs": [
    {
     "data": {
      "text/plain": [
       "<matplotlib.axes._subplots.AxesSubplot at 0x1241ef208>"
      ]
     },
     "execution_count": 26,
     "metadata": {},
     "output_type": "execute_result"
    },
    {
     "data": {
      "image/png": "[encoded data removed]",
      "text/plain": [
       "<Figure size 432x288 with 2 Axes>"
      ]
     },
     "metadata": {
      "needs_background": "light"
     },
     "output_type": "display_data"
    }
   ],
   "source": [
    "from sklearn.metrics import confusion_matrix\n",
    "import seaborn as sns\n",
    "preds = clf.predict(X_test)\n",
    "cm = confusion_matrix(y_test,preds)\n",
    "sns.heatmap(cm/1000, annot=True,annot_kws={\"size\": 16})"
   ]
  },
  {
   "cell_type": "markdown",
   "metadata": {},
   "source": [
    "## The Lookalike Approach"
   ]
  },
  {
   "cell_type": "markdown",
   "metadata": {},
   "source": [
    "Instead of using a model to predict if an athelete is a medalist or not we can reshape the problem as **which atheletes look like medalists the most**. This is especially useful for use cases with imbalanced data in real life. For instance, a retailer might have only 1% of its customer buying both online and offline. If we use a supervised model, we will end up with poor performance like above but that is not because the model is bad but maybe because those customers are still untapped and can be converted.\n",
    "\n",
    "We can either use supervised model to target them or find the similarity based on our available features. The upside of the lookalike approach is that it is very easy to explain intuitively. We are just finding those who looks like the people we know we want."
   ]
  },
  {
   "cell_type": "markdown",
   "metadata": {},
   "source": [
    "**Conceptual Assignment** The following function takes an input of two feature vectors and return [cosine similarity](https://en.wikipedia.org/wiki/Cosine_similarity). For each line, \n",
    "\n",
    "1. What linear algebra operations are being done?\n",
    "2. What are the dimensions of input and output?\n",
    "\n",
    "Tensorflow 2 is quite fast at matrix multiplication so we advise you try using it. See [how-to](https://www.tensorflow.org/install/)."
   ]
  },
  {
   "cell_type": "code",
   "execution_count": 47,
   "metadata": {},
   "outputs": [
    {
     "data": {
      "text/plain": [
       "(TensorShape([216892, 47]), TensorShape([31767, 47]))"
      ]
     },
     "execution_count": 47,
     "metadata": {},
     "output_type": "execute_result"
    }
   ],
   "source": [
    "import tensorflow as tf\n",
    "\n",
    "def get_sim(f0,f1): \n",
    "    dot_product =  f0 @ tf.transpose(f1)\n",
    "    f0_norm = tf.norm(f0,axis=1)\n",
    "    f1_norm = tf.norm(f1,axis=1)\n",
    "    return tf.reduce_mean(dot_product / (f0_norm[:,None]  * f1_norm[None,:]),1).numpy()\n",
    "\n",
    "feat_tensor = tf.convert_to_tensor(X_train, dtype='float32')\n",
    "feat_1 = tf.convert_to_tensor(X_train[y_train==1], dtype='float32')\n",
    "ds = tf.data.Dataset.from_tensor_slices(feat_tensor).batch(3000)\n",
    "feat_tensor.shape, feat_1.shape"
   ]
  },
  {
   "cell_type": "code",
   "execution_count": 48,
   "metadata": {},
   "outputs": [
    {
     "name": "stderr",
     "output_type": "stream",
     "text": [
      "73it [00:33,  2.70it/s]\n"
     ]
    }
   ],
   "source": [
    "import tqdm\n",
    "sims = []\n",
    "for f0 in tqdm.tqdm(ds):\n",
    "    sims.append(get_sim(f0,feat_1))"
   ]
  },
  {
   "cell_type": "code",
   "execution_count": 49,
   "metadata": {},
   "outputs": [
    {
     "data": {
      "text/plain": [
       "(0.0778411, -0.046451814, 109505)"
      ]
     },
     "execution_count": 49,
     "metadata": {},
     "output_type": "execute_result"
    }
   ],
   "source": [
    "s = np.concatenate(sims)\n",
    "s.max(),s.min(),(s>0).sum()"
   ]
  },
  {
   "cell_type": "code",
   "execution_count": 56,
   "metadata": {},
   "outputs": [
    {
     "data": {
      "text/plain": [
       "(array([ 5397., 27834., 43783., 40466., 36743., 28702., 18134., 11610.,\n",
       "         1828.,  2395.]),\n",
       " array([-0.04645181, -0.03402252, -0.02159323, -0.00916394,  0.00326535,\n",
       "         0.01569464,  0.02812394,  0.04055323,  0.05298252,  0.06541181,\n",
       "         0.0778411 ], dtype=float32),\n",
       " <a list of 10 Patch objects>)"
      ]
     },
     "execution_count": 56,
     "metadata": {},
     "output_type": "execute_result"
    },
    {
     "data": {
      "image/png": "[encoded data removed]",
      "text/plain": [
       "<Figure size 432x288 with 1 Axes>"
      ]
     },
     "metadata": {
      "needs_background": "light"
     },
     "output_type": "display_data"
    }
   ],
   "source": [
    "plt.hist(s)"
   ]
  },
  {
   "cell_type": "code",
   "execution_count": 57,
   "metadata": {},
   "outputs": [
    {
     "data": {
      "text/plain": [
       "(array([ 343., 1840., 4127., 5601., 6525., 5797., 3703., 2818.,  410.,\n",
       "         603.]),\n",
       " array([-0.04645181, -0.03402252, -0.02159323, -0.00916394,  0.00326535,\n",
       "         0.01569464,  0.02812394,  0.04055323,  0.05298252,  0.06541181,\n",
       "         0.0778411 ], dtype=float32),\n",
       " <a list of 10 Patch objects>)"
      ]
     },
     "execution_count": 57,
     "metadata": {},
     "output_type": "execute_result"
    },
    {
     "data": {
      "image/png": "[encoded data removed]",
      "text/plain": [
       "<Figure size 432x288 with 1 Axes>"
      ]
     },
     "metadata": {
      "needs_background": "light"
     },
     "output_type": "display_data"
    }
   ],
   "source": [
    "plt.hist(s[y_train==1])"
   ]
  },
  {
   "cell_type": "code",
   "execution_count": 62,
   "metadata": {},
   "outputs": [
    {
     "data": {
      "text/plain": [
       "0.5455249617321063"
      ]
     },
     "execution_count": 62,
     "metadata": {},
     "output_type": "execute_result"
    }
   ],
   "source": [
    "#accuracy\n",
    "((s>0).astype(int)==y_train).mean()"
   ]
  },
  {
   "cell_type": "code",
   "execution_count": 63,
   "metadata": {},
   "outputs": [
    {
     "data": {
      "text/plain": [
       "<matplotlib.axes._subplots.AxesSubplot at 0x126092ac8>"
      ]
     },
     "execution_count": 63,
     "metadata": {},
     "output_type": "execute_result"
    },
    {
     "data": {
      "image/png": "[encoded data removed]",
      "text/plain": [
       "<Figure size 432x288 with 2 Axes>"
      ]
     },
     "metadata": {
      "needs_background": "light"
     },
     "output_type": "display_data"
    }
   ],
   "source": [
    "#confusion matrix\n",
    "preds = (s>0).astype(int)\n",
    "cm = confusion_matrix(y_train,preds)\n",
    "sns.heatmap(cm/1000, annot=True,annot_kws={\"size\": 16})"
   ]
  }
 ],
 "metadata": {
  "kernelspec": {
   "display_name": "Python 3",
   "language": "python",
   "name": "python3"
  },
  "language_info": {
   "codemirror_mode": {
    "name": "ipython",
    "version": 3
   },
   "file_extension": ".py",
   "mimetype": "text/x-python",
   "name": "python",
   "nbconvert_exporter": "python",
   "pygments_lexer": "ipython3",
   "version": "3.7.3"
  }
 },
 "nbformat": 4,
 "nbformat_minor": 2
}
